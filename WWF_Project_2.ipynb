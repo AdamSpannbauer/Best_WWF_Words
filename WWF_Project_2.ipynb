{
 "cells": [
  {
   "cell_type": "markdown",
   "metadata": {},
   "source": [
    "General outline:\n",
    "I want to take in an array (later image) representation of a scrabble board/hand tiles, and output the best play.\n",
    "\n",
    "Naive best play: the highest scoring play\n",
    "\n",
    "Goal best play: the play that maximizes your winning chances (takes into account the opponent's potential score)\n",
    "    * You want to maximize how you're using the tiles in your hand. \n",
    "        * This doesn't just mean getting the highest score possible. Save your high tiles for the multipliers.\n",
    "    * As well as minimizing your opponent's reply score\n",
    "\n",
    "0. Constants:\n",
    "    * Multiplier boards\n",
    "    \n",
    "* make functions that define the area that the word is in on the board (given a letter?)\n",
    "    * allow another function to tell what the letters are in that area.\n",
    "\n",
    "\n",
    "Main steps needed:\n",
    "1. Take in an array of the board and your hand letters **check**\n",
    "2. Tell the available permutations and their locations on the board **check**\n",
    "    * return a dictionary with the word as a key and the location as the value **check**\n",
    "3. See what crossing words those permutations are going to make **check**\n",
    "    * this will return a dictionary of the main word and its position as a key and the crossing words as the values **check**\n",
    "    * could use a nested dictionary for this **check**\n",
    "4. Check to see if the permutations and their crossing words are in the dictionary **check**\n",
    "    * take in the dictinary from above? **check**\n",
    "5. Do the same for the edge words.\n",
    "6. Score it.\n",
    "For \n",
    "\n",
    "Step 2:\n",
    "1. Need to get permutations for each row\n",
    "       * Options:\n",
    "           1. Get permutations around each group of letters like I've been doing\n",
    "           2. Look at it on a row-wide basis **Went with this one**\n",
    "               * Need to make sure all the sample letters stay together\n",
    "    "
   ]
  },
  {
   "cell_type": "code",
   "execution_count": 1,
   "metadata": {},
   "outputs": [
    {
     "data": {
      "application/javascript": [
       "\n",
       "            setTimeout(function() {\n",
       "                var nbb_cell_id = 1;\n",
       "                var nbb_unformatted_code = \"%reload_ext nb_black\";\n",
       "                var nbb_formatted_code = \"%reload_ext nb_black\";\n",
       "                var nbb_cells = Jupyter.notebook.get_cells();\n",
       "                for (var i = 0; i < nbb_cells.length; ++i) {\n",
       "                    if (nbb_cells[i].input_prompt_number == nbb_cell_id) {\n",
       "                        if (nbb_cells[i].get_text() == nbb_unformatted_code) {\n",
       "                             nbb_cells[i].set_text(nbb_formatted_code);\n",
       "                        }\n",
       "                        break;\n",
       "                    }\n",
       "                }\n",
       "            }, 500);\n",
       "            "
      ],
      "text/plain": [
       "<IPython.core.display.Javascript object>"
      ]
     },
     "metadata": {},
     "output_type": "display_data"
    }
   ],
   "source": [
    "%reload_ext nb_black"
   ]
  },
  {
   "cell_type": "code",
   "execution_count": 2,
   "metadata": {},
   "outputs": [
    {
     "data": {
      "application/javascript": [
       "\n",
       "            setTimeout(function() {\n",
       "                var nbb_cell_id = 2;\n",
       "                var nbb_unformatted_code = \"import numpy as np\\nimport csv\\nimport itertools\\nimport re\\nfrom collections import defaultdict\";\n",
       "                var nbb_formatted_code = \"import numpy as np\\nimport csv\\nimport itertools\\nimport re\\nfrom collections import defaultdict\";\n",
       "                var nbb_cells = Jupyter.notebook.get_cells();\n",
       "                for (var i = 0; i < nbb_cells.length; ++i) {\n",
       "                    if (nbb_cells[i].input_prompt_number == nbb_cell_id) {\n",
       "                        if (nbb_cells[i].get_text() == nbb_unformatted_code) {\n",
       "                             nbb_cells[i].set_text(nbb_formatted_code);\n",
       "                        }\n",
       "                        break;\n",
       "                    }\n",
       "                }\n",
       "            }, 500);\n",
       "            "
      ],
      "text/plain": [
       "<IPython.core.display.Javascript object>"
      ]
     },
     "metadata": {},
     "output_type": "display_data"
    }
   ],
   "source": [
    "import numpy as np\n",
    "import csv\n",
    "import itertools\n",
    "import re\n",
    "from collections import defaultdict\n"
   ]
  },
  {
   "cell_type": "code",
   "execution_count": 3,
   "metadata": {},
   "outputs": [
    {
     "data": {
      "application/javascript": [
       "\n",
       "            setTimeout(function() {\n",
       "                var nbb_cell_id = 3;\n",
       "                var nbb_unformatted_code = \"sample_board = [\\n    [\\\"\\\", \\\"\\\", \\\"\\\", \\\"\\\", \\\"\\\", \\\"\\\", \\\"\\\", \\\"\\\", \\\"\\\", \\\"\\\", \\\"\\\", \\\"e\\\", \\\"\\\", \\\"\\\", \\\"\\\"],  # 0\\n    [\\\"\\\", \\\"\\\", \\\"\\\", \\\"\\\", \\\"\\\", \\\"\\\", \\\"\\\", \\\"\\\", \\\"\\\", \\\"z\\\", \\\"o\\\", \\\"n\\\", \\\"a\\\", \\\"\\\", \\\"w\\\"],  # 1\\n    [\\\"\\\", \\\"\\\", \\\"\\\", \\\"\\\", \\\"\\\", \\\"\\\", \\\"\\\", \\\"\\\", \\\"\\\", \\\"\\\", \\\"\\\", \\\"a\\\", \\\"\\\", \\\"\\\", \\\"i\\\"],  # 2\\n    [\\\"\\\", \\\"\\\", \\\"\\\", \\\"\\\", \\\"\\\", \\\"\\\", \\\"\\\", \\\"\\\", \\\"\\\", \\\"r\\\", \\\"i\\\", \\\"m\\\", \\\"a\\\", \\\"\\\", \\\"l\\\"],  # 3\\n    [\\\"\\\", \\\"\\\", \\\"\\\", \\\"\\\", \\\"\\\", \\\"\\\", \\\"\\\", \\\"\\\", \\\"\\\", \\\"\\\", \\\"\\\", \\\"o\\\", \\\"b\\\", \\\"e\\\", \\\"y\\\"],  # 4\\n    [\\\"\\\", \\\"\\\", \\\"\\\", \\\"\\\", \\\"\\\", \\\"\\\", \\\"\\\", \\\"\\\", \\\"\\\", \\\"j\\\", \\\"u\\\", \\\"r\\\", \\\"a\\\", \\\"l\\\", \\\"\\\"],\\n    [\\\"\\\", \\\"\\\", \\\"\\\", \\\"\\\", \\\"\\\", \\\"\\\", \\\"\\\", \\\"b\\\", \\\"e\\\", \\\"e\\\", \\\"p\\\", \\\"\\\", \\\"\\\", \\\"\\\", \\\"\\\"],  # 6\\n    [\\\"\\\", \\\"\\\", \\\"\\\", \\\"\\\", \\\"\\\", \\\"\\\", \\\"y\\\", \\\"e\\\", \\\"w\\\", \\\"s\\\", \\\"\\\", \\\"t\\\", \\\"\\\", \\\"\\\", \\\"\\\"],\\n    [\\\"\\\", \\\"\\\", \\\"\\\", \\\"\\\", \\\"\\\", \\\"\\\", \\\"\\\", \\\"l\\\", \\\"e\\\", \\\"t\\\", \\\"c\\\", \\\"h\\\", \\\"\\\", \\\"\\\", \\\"\\\"],  # 8\\n    [\\\"\\\", \\\"\\\", \\\"\\\", \\\"\\\", \\\"h\\\", \\\"u\\\", \\\"r\\\", \\\"l\\\", \\\"\\\", \\\"\\\", \\\"\\\", \\\"i\\\", \\\"\\\", \\\"r\\\", \\\"\\\"],\\n    [\\\"\\\", \\\"\\\", \\\"\\\", \\\"\\\", \\\"\\\", \\\"\\\", \\\"e\\\", \\\"\\\", \\\"\\\", \\\"\\\", \\\"\\\", \\\"g\\\", \\\"\\\", \\\"e\\\", \\\"\\\"],  # 10\\n    [\\\"\\\", \\\"\\\", \\\"\\\", \\\"\\\", \\\"\\\", \\\"\\\", \\\"d\\\", \\\"\\\", \\\"\\\", \\\"\\\", \\\"\\\", \\\"h\\\", \\\"u\\\", \\\"e\\\", \\\"d\\\"],\\n    [\\\"\\\", \\\"\\\", \\\"\\\", \\\"\\\", \\\"\\\", \\\"\\\", \\\"\\\", \\\"\\\", \\\"\\\", \\\"\\\", \\\"\\\", \\\"\\\", \\\"\\\", \\\"f\\\", \\\"\\\"],  # 12\\n    [\\\"\\\", \\\"\\\", \\\"\\\", \\\"\\\", \\\"\\\", \\\"\\\", \\\"\\\", \\\"\\\", \\\"\\\", \\\"v\\\", \\\"e\\\", \\\"e\\\", \\\"p\\\", \\\"s\\\", \\\"\\\"],\\n    [\\\"\\\", \\\"\\\", \\\"\\\", \\\"\\\", \\\"\\\", \\\"\\\", \\\"\\\", \\\"\\\", \\\"n\\\", \\\"u\\\", \\\"n\\\", \\\"\\\", \\\"\\\", \\\"\\\", \\\"\\\"],  # 14\\n]\\nsample_board_letters = [\\\"o\\\", \\\"d\\\", \\\"a\\\", \\\"s\\\"]  # \\\"d\\\", \\\"d\\\", \\\"a\\\", \\\"r\\\"]\\n\\n# numpy of the board\\nboard_array = np.array(sample_board)\\n\\n# making the empty strings spaces\\nneat_sample_array = np.copy(board_array)\\nneat_sample_array[neat_sample_array == \\\"\\\"] = \\\" \\\"\";\n",
       "                var nbb_formatted_code = \"sample_board = [\\n    [\\\"\\\", \\\"\\\", \\\"\\\", \\\"\\\", \\\"\\\", \\\"\\\", \\\"\\\", \\\"\\\", \\\"\\\", \\\"\\\", \\\"\\\", \\\"e\\\", \\\"\\\", \\\"\\\", \\\"\\\"],  # 0\\n    [\\\"\\\", \\\"\\\", \\\"\\\", \\\"\\\", \\\"\\\", \\\"\\\", \\\"\\\", \\\"\\\", \\\"\\\", \\\"z\\\", \\\"o\\\", \\\"n\\\", \\\"a\\\", \\\"\\\", \\\"w\\\"],  # 1\\n    [\\\"\\\", \\\"\\\", \\\"\\\", \\\"\\\", \\\"\\\", \\\"\\\", \\\"\\\", \\\"\\\", \\\"\\\", \\\"\\\", \\\"\\\", \\\"a\\\", \\\"\\\", \\\"\\\", \\\"i\\\"],  # 2\\n    [\\\"\\\", \\\"\\\", \\\"\\\", \\\"\\\", \\\"\\\", \\\"\\\", \\\"\\\", \\\"\\\", \\\"\\\", \\\"r\\\", \\\"i\\\", \\\"m\\\", \\\"a\\\", \\\"\\\", \\\"l\\\"],  # 3\\n    [\\\"\\\", \\\"\\\", \\\"\\\", \\\"\\\", \\\"\\\", \\\"\\\", \\\"\\\", \\\"\\\", \\\"\\\", \\\"\\\", \\\"\\\", \\\"o\\\", \\\"b\\\", \\\"e\\\", \\\"y\\\"],  # 4\\n    [\\\"\\\", \\\"\\\", \\\"\\\", \\\"\\\", \\\"\\\", \\\"\\\", \\\"\\\", \\\"\\\", \\\"\\\", \\\"j\\\", \\\"u\\\", \\\"r\\\", \\\"a\\\", \\\"l\\\", \\\"\\\"],\\n    [\\\"\\\", \\\"\\\", \\\"\\\", \\\"\\\", \\\"\\\", \\\"\\\", \\\"\\\", \\\"b\\\", \\\"e\\\", \\\"e\\\", \\\"p\\\", \\\"\\\", \\\"\\\", \\\"\\\", \\\"\\\"],  # 6\\n    [\\\"\\\", \\\"\\\", \\\"\\\", \\\"\\\", \\\"\\\", \\\"\\\", \\\"y\\\", \\\"e\\\", \\\"w\\\", \\\"s\\\", \\\"\\\", \\\"t\\\", \\\"\\\", \\\"\\\", \\\"\\\"],\\n    [\\\"\\\", \\\"\\\", \\\"\\\", \\\"\\\", \\\"\\\", \\\"\\\", \\\"\\\", \\\"l\\\", \\\"e\\\", \\\"t\\\", \\\"c\\\", \\\"h\\\", \\\"\\\", \\\"\\\", \\\"\\\"],  # 8\\n    [\\\"\\\", \\\"\\\", \\\"\\\", \\\"\\\", \\\"h\\\", \\\"u\\\", \\\"r\\\", \\\"l\\\", \\\"\\\", \\\"\\\", \\\"\\\", \\\"i\\\", \\\"\\\", \\\"r\\\", \\\"\\\"],\\n    [\\\"\\\", \\\"\\\", \\\"\\\", \\\"\\\", \\\"\\\", \\\"\\\", \\\"e\\\", \\\"\\\", \\\"\\\", \\\"\\\", \\\"\\\", \\\"g\\\", \\\"\\\", \\\"e\\\", \\\"\\\"],  # 10\\n    [\\\"\\\", \\\"\\\", \\\"\\\", \\\"\\\", \\\"\\\", \\\"\\\", \\\"d\\\", \\\"\\\", \\\"\\\", \\\"\\\", \\\"\\\", \\\"h\\\", \\\"u\\\", \\\"e\\\", \\\"d\\\"],\\n    [\\\"\\\", \\\"\\\", \\\"\\\", \\\"\\\", \\\"\\\", \\\"\\\", \\\"\\\", \\\"\\\", \\\"\\\", \\\"\\\", \\\"\\\", \\\"\\\", \\\"\\\", \\\"f\\\", \\\"\\\"],  # 12\\n    [\\\"\\\", \\\"\\\", \\\"\\\", \\\"\\\", \\\"\\\", \\\"\\\", \\\"\\\", \\\"\\\", \\\"\\\", \\\"v\\\", \\\"e\\\", \\\"e\\\", \\\"p\\\", \\\"s\\\", \\\"\\\"],\\n    [\\\"\\\", \\\"\\\", \\\"\\\", \\\"\\\", \\\"\\\", \\\"\\\", \\\"\\\", \\\"\\\", \\\"n\\\", \\\"u\\\", \\\"n\\\", \\\"\\\", \\\"\\\", \\\"\\\", \\\"\\\"],  # 14\\n]\\nsample_board_letters = [\\\"o\\\", \\\"d\\\", \\\"a\\\", \\\"s\\\"]  # \\\"d\\\", \\\"d\\\", \\\"a\\\", \\\"r\\\"]\\n\\n# numpy of the board\\nboard_array = np.array(sample_board)\\n\\n# making the empty strings spaces\\nneat_sample_array = np.copy(board_array)\\nneat_sample_array[neat_sample_array == \\\"\\\"] = \\\" \\\"\";\n",
       "                var nbb_cells = Jupyter.notebook.get_cells();\n",
       "                for (var i = 0; i < nbb_cells.length; ++i) {\n",
       "                    if (nbb_cells[i].input_prompt_number == nbb_cell_id) {\n",
       "                        if (nbb_cells[i].get_text() == nbb_unformatted_code) {\n",
       "                             nbb_cells[i].set_text(nbb_formatted_code);\n",
       "                        }\n",
       "                        break;\n",
       "                    }\n",
       "                }\n",
       "            }, 500);\n",
       "            "
      ],
      "text/plain": [
       "<IPython.core.display.Javascript object>"
      ]
     },
     "metadata": {},
     "output_type": "display_data"
    }
   ],
   "source": [
    "sample_board = [\n",
    "    [\"\", \"\", \"\", \"\", \"\", \"\", \"\", \"\", \"\", \"\", \"\", \"e\", \"\", \"\", \"\"],  # 0\n",
    "    [\"\", \"\", \"\", \"\", \"\", \"\", \"\", \"\", \"\", \"z\", \"o\", \"n\", \"a\", \"\", \"w\"],  # 1\n",
    "    [\"\", \"\", \"\", \"\", \"\", \"\", \"\", \"\", \"\", \"\", \"\", \"a\", \"\", \"\", \"i\"],  # 2\n",
    "    [\"\", \"\", \"\", \"\", \"\", \"\", \"\", \"\", \"\", \"r\", \"i\", \"m\", \"a\", \"\", \"l\"],  # 3\n",
    "    [\"\", \"\", \"\", \"\", \"\", \"\", \"\", \"\", \"\", \"\", \"\", \"o\", \"b\", \"e\", \"y\"],  # 4\n",
    "    [\"\", \"\", \"\", \"\", \"\", \"\", \"\", \"\", \"\", \"j\", \"u\", \"r\", \"a\", \"l\", \"\"],\n",
    "    [\"\", \"\", \"\", \"\", \"\", \"\", \"\", \"b\", \"e\", \"e\", \"p\", \"\", \"\", \"\", \"\"],  # 6\n",
    "    [\"\", \"\", \"\", \"\", \"\", \"\", \"y\", \"e\", \"w\", \"s\", \"\", \"t\", \"\", \"\", \"\"],\n",
    "    [\"\", \"\", \"\", \"\", \"\", \"\", \"\", \"l\", \"e\", \"t\", \"c\", \"h\", \"\", \"\", \"\"],  # 8\n",
    "    [\"\", \"\", \"\", \"\", \"h\", \"u\", \"r\", \"l\", \"\", \"\", \"\", \"i\", \"\", \"r\", \"\"],\n",
    "    [\"\", \"\", \"\", \"\", \"\", \"\", \"e\", \"\", \"\", \"\", \"\", \"g\", \"\", \"e\", \"\"],  # 10\n",
    "    [\"\", \"\", \"\", \"\", \"\", \"\", \"d\", \"\", \"\", \"\", \"\", \"h\", \"u\", \"e\", \"d\"],\n",
    "    [\"\", \"\", \"\", \"\", \"\", \"\", \"\", \"\", \"\", \"\", \"\", \"\", \"\", \"f\", \"\"],  # 12\n",
    "    [\"\", \"\", \"\", \"\", \"\", \"\", \"\", \"\", \"\", \"v\", \"e\", \"e\", \"p\", \"s\", \"\"],\n",
    "    [\"\", \"\", \"\", \"\", \"\", \"\", \"\", \"\", \"n\", \"u\", \"n\", \"\", \"\", \"\", \"\"],  # 14\n",
    "]\n",
    "sample_board_letters = [\"o\", \"d\", \"a\", \"s\"]  # \"d\", \"d\", \"a\", \"r\"]\n",
    "\n",
    "# numpy of the board\n",
    "board_array = np.array(sample_board)\n",
    "\n",
    "# making the empty strings spaces\n",
    "neat_sample_array = np.copy(board_array)\n",
    "neat_sample_array[neat_sample_array == \"\"] = \" \"\n"
   ]
  },
  {
   "cell_type": "code",
   "execution_count": 175,
   "metadata": {},
   "outputs": [
    {
     "data": {
      "application/javascript": [
       "\n",
       "            setTimeout(function() {\n",
       "                var nbb_cell_id = 175;\n",
       "                var nbb_unformatted_code = \"class Scrabbler:\\n    data_path = \\\"../sowpods.txt\\\"\\n    with open(data_path, newline=\\\"\\\") as f:\\n        reader = csv.reader(f)\\n        allwords = list(reader)\\n    WORDLIST = list(itertools.chain.from_iterable(allwords))\\n    WORDLIST = [x.lower() for x in WORDLIST]\\n    WORDSET = set(WORDLIST)\\n    BOARD_LENGTH = 15\\n    MAX_I = 14\\n\\n    LETTER_MULTIPLIERS = [\\n        [1, 1, 1, 1, 1, 1, 3, 1, 3, 1, 1, 1, 1, 1, 1],  # 0\\n        [1, 1, 2, 1, 1, 1, 1, 1, 1, 1, 1, 1, 2, 1, 1],  # 1\\n        [1, 2, 1, 1, 2, 1, 1, 1, 1, 1, 2, 1, 1, 2, 1],  # 2\\n        [1, 1, 1, 3, 1, 1, 1, 1, 1, 1, 1, 3, 1, 1, 1],  # 3\\n        [1, 1, 2, 1, 1, 1, 2, 1, 2, 1, 1, 1, 2, 1, 1],  # 4\\n        [1, 1, 1, 1, 1, 3, 1, 1, 1, 3, 1, 1, 1, 1, 1],\\n        [3, 1, 1, 1, 2, 1, 1, 1, 1, 1, 2, 1, 1, 1, 3],  # 6\\n        [1, 1, 1, 1, 1, 1, 1, 1, 1, 1, 1, 1, 1, 1, 1],\\n        [3, 1, 1, 1, 2, 1, 1, 1, 1, 1, 2, 1, 1, 1, 3],  # 8\\n        [1, 1, 1, 1, 1, 3, 1, 1, 1, 3, 1, 1, 1, 1, 1],\\n        [1, 1, 2, 1, 1, 1, 2, 1, 2, 1, 1, 1, 2, 1, 1],  # 10\\n        [1, 1, 1, 3, 1, 1, 1, 1, 1, 1, 1, 3, 1, 1, 1],\\n        [1, 2, 1, 1, 2, 1, 1, 1, 1, 1, 2, 1, 1, 2, 1],  # 12\\n        [1, 1, 2, 1, 1, 1, 1, 1, 1, 1, 1, 1, 2, 1, 1],\\n        [1, 1, 1, 1, 1, 1, 3, 1, 3, 1, 1, 1, 1, 1, 1],  # 14\\n    ]\\n    LETTER_MULTIPLIERS_ARRAY = np.array(LETTER_MULTIPLIERS)\\n\\n    WORD_MULTIPLIERS = [\\n        [1, 1, 1, 3, 1, 1, 1, 1, 1, 1, 1, 3, 1, 1, 1],  # 0\\n        [1, 1, 1, 1, 1, 2, 1, 1, 1, 2, 1, 1, 1, 1, 1],  # 1\\n        [1, 1, 1, 1, 1, 1, 1, 1, 1, 1, 1, 1, 1, 1, 1],  # 2\\n        [3, 1, 1, 1, 1, 1, 1, 2, 1, 1, 1, 1, 1, 1, 3],  # 3\\n        [1, 1, 1, 1, 1, 1, 1, 1, 1, 1, 1, 1, 1, 1, 1],  # 4\\n        [1, 2, 1, 1, 1, 1, 1, 1, 1, 1, 1, 1, 1, 2, 1],\\n        [1, 1, 1, 1, 1, 1, 1, 1, 1, 1, 1, 1, 1, 1, 1],  # 6\\n        [1, 1, 1, 2, 1, 1, 1, 1, 1, 1, 1, 2, 1, 1, 1],\\n        [1, 1, 1, 1, 1, 1, 1, 1, 1, 1, 1, 1, 1, 1, 1],  # 8\\n        [1, 2, 1, 1, 1, 1, 1, 1, 1, 1, 1, 1, 1, 2, 1],\\n        [1, 1, 1, 1, 1, 1, 1, 1, 1, 1, 1, 1, 1, 1, 1],  # 10\\n        [3, 1, 1, 1, 1, 1, 1, 2, 1, 1, 1, 1, 1, 1, 3],\\n        [1, 1, 1, 1, 1, 1, 1, 1, 1, 1, 1, 1, 1, 1, 1],  # 12\\n        [1, 1, 1, 1, 1, 2, 1, 1, 1, 2, 1, 1, 1, 1, 1],\\n        [1, 1, 1, 3, 1, 1, 1, 1, 1, 1, 1, 3, 1, 1, 1],  # 14\\n    ]\\n    WORD_MULTIPLIERS_ARRAY = np.array(WORD_MULTIPLIERS)\\n\\n    TILE_SCORES = {\\n        \\\"a\\\": 1,\\n        \\\"b\\\": 4,\\n        \\\"c\\\": 4,\\n        \\\"d\\\": 2,\\n        \\\"e\\\": 1,\\n        \\\"f\\\": 4,\\n        \\\"g\\\": 3,\\n        \\\"h\\\": 3,\\n        \\\"i\\\": 1,\\n        \\\"j\\\": 10,\\n        \\\"k\\\": 5,\\n        \\\"l\\\": 2,\\n        \\\"m\\\": 4,\\n        \\\"n\\\": 2,\\n        \\\"o\\\": 1,\\n        \\\"p\\\": 4,\\n        \\\"q\\\": 10,\\n        \\\"r\\\": 1,\\n        \\\"s\\\": 1,\\n        \\\"t\\\": 1,\\n        \\\"u\\\": 2,\\n        \\\"v\\\": 5,\\n        \\\"w\\\": 4,\\n        \\\"x\\\": 8,\\n        \\\"y\\\": 3,\\n        \\\"z\\\": 10,\\n    }\\n\\n    def __init__(self, board, hand_letters):\\n        self.board = board\\n        self.hand_letters = hand_letters\\n        self.T_board = np.copy(board).transpose()  # TODO: should this be here?\\n        self.board_mask = (np.copy(board) != \\\"\\\").astype(int)\\n\\n    # Navigator functions\\n    def check_yx(self, y, x):\\n        if x > -1 and x < 15 and y > -1 and y < 15:\\n            return bool(self.board[y, x])\\n        else:\\n            return \\\"out\\\"\\n\\n    def check_right(self, y, x):\\n        if x < self.BOARD_LENGTH - 1:\\n            return bool(self.board[y, x + 1]), self.board[y, x + 1]\\n        else:\\n            return \\\"out\\\"\\n\\n    def check_left(self, y, x):\\n        if x > 0:\\n            return bool(self.board[y, x - 1]), self.board[y, x - 1]\\n        else:\\n            return \\\"out\\\"\\n\\n    def check_above(self, y, x):\\n        if y > 0:\\n            return bool(self.board[y - 1, x]), self.board[y - 1, x]\\n        else:\\n            return \\\"out\\\"\\n\\n    def check_below(self, y, x):\\n        if y < self.BOARD_LENGTH - 1:\\n            return bool(self.board[y + 1, x]), self.board[y + 1, x]\\n        else:\\n            return \\\"out\\\"\\n\\n    # For potential words of a given length\\n    # start at the left, travel right (keep track of empties) till you hit a letter\\n    def hand_letter_permutations(self, length):\\n        # this returns a list of permutations of the hand letters of a given length\\n        letter_permutations = list(itertools.permutations(self.hand_letters, length))\\n        return letter_permutations\\n\\n    def row_permutations(self, row):\\n        y = row\\n        board_row = self.board[row]\\n        no_hand_letters = len(self.hand_letters)\\n        no_pre_filled = sum(list(map(bool, board_row)))\\n        row_perms_dict = {}\\n\\n        if no_pre_filled > 0:\\n            for perm_len in range(1, no_hand_letters + 1):\\n                hand_perms = self.hand_letter_permutations(perm_len)\\n                # for x in range(0, BOARD_LENGTH-(len(self.hand_letters)-1)-no_pre_filled):\\n                # x=0\\n                no_tiles_to_right = no_pre_filled\\n                for hand_perm in hand_perms:\\n                    # while x + no_tiles_to_right+perm_len<self.BOARD_LENGTH:\\n                    x = 0\\n                    if (\\n                        self.check_yx(y, x) == False\\n                    ):  # and sum(list(map(bool,board_row[x:x+no_hand_letters])))\\n                        # for hand_perm in hand_perms:\\n                        while True:\\n                            # TODO check this\\n                            if (\\n                                any(\\n                                    board_row[max(0, x - 1) : min(x + perm_len + 1, 14)]\\n                                )\\n                                == True\\n                            ):\\n                                complete_word, word_y, word_x = self.complete_word_y_x(\\n                                    row, x, hand_perm\\n                                )\\n                                if complete_word == []:\\n                                    break\\n                                elif len(complete_word) > perm_len:\\n                                    # TODO: could leave out the part after the and below and delete duplicates later\\n                                    # TODO: could indicate the length of the original perm\\n                                    if (\\n                                        complete_word in row_perms_dict\\n                                        and [word_y, word_x]\\n                                        not in row_perms_dict[complete_word]\\n                                    ):\\n                                        row_perms_dict[complete_word].append(\\n                                            [word_y, word_x]\\n                                        )\\n                                    else:\\n                                        row_perms_dict[complete_word] = [\\n                                            [word_y, word_x]\\n                                        ]\\n                            x = x + 1\\n                            if x == self.BOARD_LENGTH:\\n                                break\\n                    # no_tiles_to_right=sum(list(map(bool,board_row[x+1:])))#TODO: +1 here?\\n        return row_perms_dict\\n\\n    # fill the next len(hand_perm) spaces with hand tiles and find the connecting words\\n    # row=y\\n    def complete_word_y_x(self, row, x, hand_perm):\\n        hand_perm = list(hand_perm)\\n        perm_len = len(hand_perm)\\n        X = x\\n        board_row = self.board[row]\\n        y = row\\n        no_filled = 0\\n        filled_tiles = []\\n        left_letters = []\\n        right_letters = []\\n        while self.check_left(y, x)[0] == True:\\n            x = x - 1\\n            left_letters = left_letters + [board_row[x]]\\n        left_letters = left_letters[::-1]\\n        x = X\\n        while no_filled < perm_len:\\n            if self.check_yx(y, x) == True:\\n                filled_tiles = filled_tiles + [board_row[x]]\\n            elif self.check_yx(y, x) == \\\"out\\\":\\n                return [], [], []\\n            elif self.check_yx(y, x) == False:\\n                new_tile = hand_perm.pop(0)\\n                filled_tiles = filled_tiles + [new_tile]\\n                no_filled = no_filled + 1\\n            x = x + 1\\n        x = x - 1\\n        while self.check_right(y, x)[0] == True:\\n            x = x + 1\\n            right_letters = right_letters + [board_row[x]]\\n        complete_word_as_list = left_letters + filled_tiles + right_letters\\n        word_x = X - len(left_letters)\\n        complete_word = \\\"\\\".join(complete_word_as_list)\\n        return complete_word, y, word_x\\n\\n    # Find the crossing words for a given complete_word_y_x info\\n    def find_crosses(self, complete_word, y, x):\\n        crossing_words = set()\\n        count = 0\\n        for tile in complete_word:\\n            # TODO: don't think I need this if part, only the last part and len(crossing_word)>1\\n            if (\\n                self.check_above(y, x)[0] == True or self.check_below(y, x)[0] == True\\n            ) and self.board[y, x] != tile:\\n                crossing_word, T_y, T_x = self.crossing_words_at_tile(tile, y, x)\\n                if len(crossing_word) > 1:\\n                    crossing_words.add((crossing_word, T_y, T_x))\\n\\n            # TODO: not sure if I need all this stuff about edge_letter\\n            #             if self.board[y, x] != tile:\\n            #                 count = count + 1\\n            #                 edge_letter = tile\\n            #                 edge_x = x\\n            #                 edge_y = y\\n\\n            x = x + 1\\n        # TODO fix this?\\n        #         if count == 1 and len(crossing_words) == 0:\\n        #             crossing_words.add((edge_letter, edge_y, edge_x))\\n        if len(crossing_words) == 0:\\n            crossing_words.add((\\\"\\\", -1, -1))\\n        return crossing_words\\n\\n    # Enter a tile and its location and return the crosses that it makes\\n    def crossing_words_at_tile(self, tile, y, x):\\n        # We will be using the transpose board so y and x are switched\\n        self.board = self.board.transpose()\\n        y, x = x, y\\n        crossing_word, T_y, T_x = self.complete_word_y_x(y, x, (tile))\\n        self.board = self.board.transpose()\\n        return crossing_word, T_y, T_x\\n\\n    # insert the \\\"hook letter\\\" into a shadow board and find the output connected to that\\n    # assume the board has already been transposed and you are operating with the right y and x\\n    def edge_perms(self, hook_letter, y, x):\\n        self.board[y, x] = hook_letter\\n        self.hand_letters.remove(hook_letter)\\n        shadow_row_perms = self.row_permutations(y)\\n        edge_perms_dict = {\\n            k: v\\n            for (k, v) in shadow_row_perms.items()\\n            if v[0][1] <= x\\n            and v[0][1] + len(k)\\n            >= x  # TODO: see if I really need to put out a nested list here\\n        }\\n\\n        self.hand_letters.append(hook_letter)\\n        self.board[y, x] = \\\"\\\"\\n        return edge_perms_dict\\n\\n    def find_valid_perms(self):\\n        crossing_set = set()\\n        board_perms_dict = {}\\n\\n        for row in range(0, self.BOARD_LENGTH):\\n            row_perms = self.row_permutations(row)\\n            for complete_word in row_perms:\\n                if complete_word in board_perms_dict:\\n                    board_perms_dict[complete_word] = (\\n                        board_perms_dict[complete_word] + row_perms[complete_word]\\n                    )\\n                else:\\n                    board_perms_dict[complete_word] = row_perms[complete_word]\\n        perms_set = set(board_perms_dict.keys())\\n        valid_perms = self.WORDSET.intersection(perms_set)\\n        valid_perms_dict = {\\n            k: v for (k, v) in board_perms_dict.items() if k in valid_perms\\n        }\\n        return valid_perms_dict\\n\\n    # use the perms to find crossings and check if they are all valid\\n    # TODO: ask to see if I can somehow check all of these sets at once so I only have to iter through once\\n    def check_crosses(self, valid_perm, y, x):\\n        crosses_with_position = self.find_crosses(valid_perm, y, x)\\n        crossing_words = set([i for i in zip(*crosses_with_position)][0])\\n        crosses_valid = crossing_words.issubset(\\n            self.WORDSET\\n        ) or crosses_with_position == {(\\\"\\\", -1, -1)}\\n        return crosses_valid, crosses_with_position\\n\\n    # make a dictionary of valid plays for one direction as a dictionary of words with a nested crossing dict\\n    # in the first entry of a list that are the values of the dictionary\\n    def valid_plays(self, valid_perms):\\n        # valid_perms = self.find_valid_perms() #TODO is this right to move to a parameter?\\n\\n        valid_plays = defaultdict(lambda: defaultdict(dict))\\n        for valid_perm in valid_perms:\\n            potential_positions = valid_perms[valid_perm]\\n            for potential_position in potential_positions:\\n                y = potential_position[0]\\n                x = potential_position[1]\\n                crosses_valid, crosses_with_position = self.check_crosses(\\n                    valid_perm, y, x\\n                )\\n                if crosses_valid == True:\\n                    for cross_with_position in crosses_with_position:\\n                        valid_plays[valid_perm][tuple(potential_position)][\\n                            cross_with_position[0]\\n                        ] = cross_with_position[1:3]\\n        return valid_plays\\n\\n    # remember the crosses returned above have the x and y switched, as well as nested default dicts\\n\\n    # Find which tiles of a word originated from the hand\\n    def new_tiles(self, valid_word, y, x):\\n        new_tiles = []\\n        for letter in valid_word:\\n            if self.check_yx(y, x) == False:\\n                new_tiles.append(\\n                    [letter, y, x]\\n                )  # should this really be a dictionary list?\\n            x = x + 1\\n        return new_tiles\\n\\n    # Find which tiles could be used to build a crossing word\\n    def find_edge_hooks(self, valid_plays):\\n        edge_hooks = []\\n        for valid_word in valid_plays:\\n            for position in valid_plays[valid_word]:\\n                y = position[0]\\n                x = position[1]\\n                new_tiles = self.new_tiles(valid_word, y, x)\\n                if len(new_tiles) == 1:\\n                    edge_hooks = edge_hooks + new_tiles\\n        return edge_hooks\\n\\n    # create a dictionary of the valid edge words\\n    # could probably adapt find valid perms above for this\\n    def valid_edge_plays(self, edge_hooks):\\n        edge_perms_dict = {}\\n        for hook in edge_hooks:\\n            hook_letter = hook[0]\\n            # x and y are transposed\\n            y = hook[2]\\n            x = hook[1]\\n            edge_perms = self.edge_perms(hook_letter, y, x)\\n\\n            for complete_word in edge_perms:\\n                if complete_word in edge_perms_dict:\\n                    edge_perms_dict[complete_word] = (\\n                        edge_perms_dict[complete_word] + edge_perms[complete_word]\\n                    )\\n                else:\\n                    edge_perms_dict[complete_word] = edge_perms[complete_word]\\n\\n        # copied from above, checking if perm in the dictionary\\n        edge_perms_set = set(edge_perms_dict.keys())\\n        valid_edge_perms = self.WORDSET.intersection(edge_perms_set)\\n        valid_edge_perms_dict = {\\n            k: v for (k, v) in edge_perms_dict.items() if k in valid_edge_perms\\n        }\\n        return valid_edge_perms_dict\";\n",
       "                var nbb_formatted_code = \"class Scrabbler:\\n    data_path = \\\"../sowpods.txt\\\"\\n    with open(data_path, newline=\\\"\\\") as f:\\n        reader = csv.reader(f)\\n        allwords = list(reader)\\n    WORDLIST = list(itertools.chain.from_iterable(allwords))\\n    WORDLIST = [x.lower() for x in WORDLIST]\\n    WORDSET = set(WORDLIST)\\n    BOARD_LENGTH = 15\\n    MAX_I = 14\\n\\n    LETTER_MULTIPLIERS = [\\n        [1, 1, 1, 1, 1, 1, 3, 1, 3, 1, 1, 1, 1, 1, 1],  # 0\\n        [1, 1, 2, 1, 1, 1, 1, 1, 1, 1, 1, 1, 2, 1, 1],  # 1\\n        [1, 2, 1, 1, 2, 1, 1, 1, 1, 1, 2, 1, 1, 2, 1],  # 2\\n        [1, 1, 1, 3, 1, 1, 1, 1, 1, 1, 1, 3, 1, 1, 1],  # 3\\n        [1, 1, 2, 1, 1, 1, 2, 1, 2, 1, 1, 1, 2, 1, 1],  # 4\\n        [1, 1, 1, 1, 1, 3, 1, 1, 1, 3, 1, 1, 1, 1, 1],\\n        [3, 1, 1, 1, 2, 1, 1, 1, 1, 1, 2, 1, 1, 1, 3],  # 6\\n        [1, 1, 1, 1, 1, 1, 1, 1, 1, 1, 1, 1, 1, 1, 1],\\n        [3, 1, 1, 1, 2, 1, 1, 1, 1, 1, 2, 1, 1, 1, 3],  # 8\\n        [1, 1, 1, 1, 1, 3, 1, 1, 1, 3, 1, 1, 1, 1, 1],\\n        [1, 1, 2, 1, 1, 1, 2, 1, 2, 1, 1, 1, 2, 1, 1],  # 10\\n        [1, 1, 1, 3, 1, 1, 1, 1, 1, 1, 1, 3, 1, 1, 1],\\n        [1, 2, 1, 1, 2, 1, 1, 1, 1, 1, 2, 1, 1, 2, 1],  # 12\\n        [1, 1, 2, 1, 1, 1, 1, 1, 1, 1, 1, 1, 2, 1, 1],\\n        [1, 1, 1, 1, 1, 1, 3, 1, 3, 1, 1, 1, 1, 1, 1],  # 14\\n    ]\\n    LETTER_MULTIPLIERS_ARRAY = np.array(LETTER_MULTIPLIERS)\\n\\n    WORD_MULTIPLIERS = [\\n        [1, 1, 1, 3, 1, 1, 1, 1, 1, 1, 1, 3, 1, 1, 1],  # 0\\n        [1, 1, 1, 1, 1, 2, 1, 1, 1, 2, 1, 1, 1, 1, 1],  # 1\\n        [1, 1, 1, 1, 1, 1, 1, 1, 1, 1, 1, 1, 1, 1, 1],  # 2\\n        [3, 1, 1, 1, 1, 1, 1, 2, 1, 1, 1, 1, 1, 1, 3],  # 3\\n        [1, 1, 1, 1, 1, 1, 1, 1, 1, 1, 1, 1, 1, 1, 1],  # 4\\n        [1, 2, 1, 1, 1, 1, 1, 1, 1, 1, 1, 1, 1, 2, 1],\\n        [1, 1, 1, 1, 1, 1, 1, 1, 1, 1, 1, 1, 1, 1, 1],  # 6\\n        [1, 1, 1, 2, 1, 1, 1, 1, 1, 1, 1, 2, 1, 1, 1],\\n        [1, 1, 1, 1, 1, 1, 1, 1, 1, 1, 1, 1, 1, 1, 1],  # 8\\n        [1, 2, 1, 1, 1, 1, 1, 1, 1, 1, 1, 1, 1, 2, 1],\\n        [1, 1, 1, 1, 1, 1, 1, 1, 1, 1, 1, 1, 1, 1, 1],  # 10\\n        [3, 1, 1, 1, 1, 1, 1, 2, 1, 1, 1, 1, 1, 1, 3],\\n        [1, 1, 1, 1, 1, 1, 1, 1, 1, 1, 1, 1, 1, 1, 1],  # 12\\n        [1, 1, 1, 1, 1, 2, 1, 1, 1, 2, 1, 1, 1, 1, 1],\\n        [1, 1, 1, 3, 1, 1, 1, 1, 1, 1, 1, 3, 1, 1, 1],  # 14\\n    ]\\n    WORD_MULTIPLIERS_ARRAY = np.array(WORD_MULTIPLIERS)\\n\\n    TILE_SCORES = {\\n        \\\"a\\\": 1,\\n        \\\"b\\\": 4,\\n        \\\"c\\\": 4,\\n        \\\"d\\\": 2,\\n        \\\"e\\\": 1,\\n        \\\"f\\\": 4,\\n        \\\"g\\\": 3,\\n        \\\"h\\\": 3,\\n        \\\"i\\\": 1,\\n        \\\"j\\\": 10,\\n        \\\"k\\\": 5,\\n        \\\"l\\\": 2,\\n        \\\"m\\\": 4,\\n        \\\"n\\\": 2,\\n        \\\"o\\\": 1,\\n        \\\"p\\\": 4,\\n        \\\"q\\\": 10,\\n        \\\"r\\\": 1,\\n        \\\"s\\\": 1,\\n        \\\"t\\\": 1,\\n        \\\"u\\\": 2,\\n        \\\"v\\\": 5,\\n        \\\"w\\\": 4,\\n        \\\"x\\\": 8,\\n        \\\"y\\\": 3,\\n        \\\"z\\\": 10,\\n    }\\n\\n    def __init__(self, board, hand_letters):\\n        self.board = board\\n        self.hand_letters = hand_letters\\n        self.T_board = np.copy(board).transpose()  # TODO: should this be here?\\n        self.board_mask = (np.copy(board) != \\\"\\\").astype(int)\\n\\n    # Navigator functions\\n    def check_yx(self, y, x):\\n        if x > -1 and x < 15 and y > -1 and y < 15:\\n            return bool(self.board[y, x])\\n        else:\\n            return \\\"out\\\"\\n\\n    def check_right(self, y, x):\\n        if x < self.BOARD_LENGTH - 1:\\n            return bool(self.board[y, x + 1]), self.board[y, x + 1]\\n        else:\\n            return \\\"out\\\"\\n\\n    def check_left(self, y, x):\\n        if x > 0:\\n            return bool(self.board[y, x - 1]), self.board[y, x - 1]\\n        else:\\n            return \\\"out\\\"\\n\\n    def check_above(self, y, x):\\n        if y > 0:\\n            return bool(self.board[y - 1, x]), self.board[y - 1, x]\\n        else:\\n            return \\\"out\\\"\\n\\n    def check_below(self, y, x):\\n        if y < self.BOARD_LENGTH - 1:\\n            return bool(self.board[y + 1, x]), self.board[y + 1, x]\\n        else:\\n            return \\\"out\\\"\\n\\n    # For potential words of a given length\\n    # start at the left, travel right (keep track of empties) till you hit a letter\\n    def hand_letter_permutations(self, length):\\n        # this returns a list of permutations of the hand letters of a given length\\n        letter_permutations = list(itertools.permutations(self.hand_letters, length))\\n        return letter_permutations\\n\\n    def row_permutations(self, row):\\n        y = row\\n        board_row = self.board[row]\\n        no_hand_letters = len(self.hand_letters)\\n        no_pre_filled = sum(list(map(bool, board_row)))\\n        row_perms_dict = {}\\n\\n        if no_pre_filled > 0:\\n            for perm_len in range(1, no_hand_letters + 1):\\n                hand_perms = self.hand_letter_permutations(perm_len)\\n                # for x in range(0, BOARD_LENGTH-(len(self.hand_letters)-1)-no_pre_filled):\\n                # x=0\\n                no_tiles_to_right = no_pre_filled\\n                for hand_perm in hand_perms:\\n                    # while x + no_tiles_to_right+perm_len<self.BOARD_LENGTH:\\n                    x = 0\\n                    if (\\n                        self.check_yx(y, x) == False\\n                    ):  # and sum(list(map(bool,board_row[x:x+no_hand_letters])))\\n                        # for hand_perm in hand_perms:\\n                        while True:\\n                            # TODO check this\\n                            if (\\n                                any(\\n                                    board_row[max(0, x - 1) : min(x + perm_len + 1, 14)]\\n                                )\\n                                == True\\n                            ):\\n                                complete_word, word_y, word_x = self.complete_word_y_x(\\n                                    row, x, hand_perm\\n                                )\\n                                if complete_word == []:\\n                                    break\\n                                elif len(complete_word) > perm_len:\\n                                    # TODO: could leave out the part after the and below and delete duplicates later\\n                                    # TODO: could indicate the length of the original perm\\n                                    if (\\n                                        complete_word in row_perms_dict\\n                                        and [word_y, word_x]\\n                                        not in row_perms_dict[complete_word]\\n                                    ):\\n                                        row_perms_dict[complete_word].append(\\n                                            [word_y, word_x]\\n                                        )\\n                                    else:\\n                                        row_perms_dict[complete_word] = [\\n                                            [word_y, word_x]\\n                                        ]\\n                            x = x + 1\\n                            if x == self.BOARD_LENGTH:\\n                                break\\n                    # no_tiles_to_right=sum(list(map(bool,board_row[x+1:])))#TODO: +1 here?\\n        return row_perms_dict\\n\\n    # fill the next len(hand_perm) spaces with hand tiles and find the connecting words\\n    # row=y\\n    def complete_word_y_x(self, row, x, hand_perm):\\n        hand_perm = list(hand_perm)\\n        perm_len = len(hand_perm)\\n        X = x\\n        board_row = self.board[row]\\n        y = row\\n        no_filled = 0\\n        filled_tiles = []\\n        left_letters = []\\n        right_letters = []\\n        while self.check_left(y, x)[0] == True:\\n            x = x - 1\\n            left_letters = left_letters + [board_row[x]]\\n        left_letters = left_letters[::-1]\\n        x = X\\n        while no_filled < perm_len:\\n            if self.check_yx(y, x) == True:\\n                filled_tiles = filled_tiles + [board_row[x]]\\n            elif self.check_yx(y, x) == \\\"out\\\":\\n                return [], [], []\\n            elif self.check_yx(y, x) == False:\\n                new_tile = hand_perm.pop(0)\\n                filled_tiles = filled_tiles + [new_tile]\\n                no_filled = no_filled + 1\\n            x = x + 1\\n        x = x - 1\\n        while self.check_right(y, x)[0] == True:\\n            x = x + 1\\n            right_letters = right_letters + [board_row[x]]\\n        complete_word_as_list = left_letters + filled_tiles + right_letters\\n        word_x = X - len(left_letters)\\n        complete_word = \\\"\\\".join(complete_word_as_list)\\n        return complete_word, y, word_x\\n\\n    # Find the crossing words for a given complete_word_y_x info\\n    def find_crosses(self, complete_word, y, x):\\n        crossing_words = set()\\n        count = 0\\n        for tile in complete_word:\\n            # TODO: don't think I need this if part, only the last part and len(crossing_word)>1\\n            if (\\n                self.check_above(y, x)[0] == True or self.check_below(y, x)[0] == True\\n            ) and self.board[y, x] != tile:\\n                crossing_word, T_y, T_x = self.crossing_words_at_tile(tile, y, x)\\n                if len(crossing_word) > 1:\\n                    crossing_words.add((crossing_word, T_y, T_x))\\n\\n            # TODO: not sure if I need all this stuff about edge_letter\\n            #             if self.board[y, x] != tile:\\n            #                 count = count + 1\\n            #                 edge_letter = tile\\n            #                 edge_x = x\\n            #                 edge_y = y\\n\\n            x = x + 1\\n        # TODO fix this?\\n        #         if count == 1 and len(crossing_words) == 0:\\n        #             crossing_words.add((edge_letter, edge_y, edge_x))\\n        if len(crossing_words) == 0:\\n            crossing_words.add((\\\"\\\", -1, -1))\\n        return crossing_words\\n\\n    # Enter a tile and its location and return the crosses that it makes\\n    def crossing_words_at_tile(self, tile, y, x):\\n        # We will be using the transpose board so y and x are switched\\n        self.board = self.board.transpose()\\n        y, x = x, y\\n        crossing_word, T_y, T_x = self.complete_word_y_x(y, x, (tile))\\n        self.board = self.board.transpose()\\n        return crossing_word, T_y, T_x\\n\\n    # insert the \\\"hook letter\\\" into a shadow board and find the output connected to that\\n    # assume the board has already been transposed and you are operating with the right y and x\\n    def edge_perms(self, hook_letter, y, x):\\n        self.board[y, x] = hook_letter\\n        self.hand_letters.remove(hook_letter)\\n        shadow_row_perms = self.row_permutations(y)\\n        edge_perms_dict = {\\n            k: v\\n            for (k, v) in shadow_row_perms.items()\\n            if v[0][1] <= x\\n            and v[0][1] + len(k)\\n            >= x  # TODO: see if I really need to put out a nested list here\\n        }\\n\\n        self.hand_letters.append(hook_letter)\\n        self.board[y, x] = \\\"\\\"\\n        return edge_perms_dict\\n\\n    def find_valid_perms(self):\\n        crossing_set = set()\\n        board_perms_dict = {}\\n\\n        for row in range(0, self.BOARD_LENGTH):\\n            row_perms = self.row_permutations(row)\\n            for complete_word in row_perms:\\n                if complete_word in board_perms_dict:\\n                    board_perms_dict[complete_word] = (\\n                        board_perms_dict[complete_word] + row_perms[complete_word]\\n                    )\\n                else:\\n                    board_perms_dict[complete_word] = row_perms[complete_word]\\n        perms_set = set(board_perms_dict.keys())\\n        valid_perms = self.WORDSET.intersection(perms_set)\\n        valid_perms_dict = {\\n            k: v for (k, v) in board_perms_dict.items() if k in valid_perms\\n        }\\n        return valid_perms_dict\\n\\n    # use the perms to find crossings and check if they are all valid\\n    # TODO: ask to see if I can somehow check all of these sets at once so I only have to iter through once\\n    def check_crosses(self, valid_perm, y, x):\\n        crosses_with_position = self.find_crosses(valid_perm, y, x)\\n        crossing_words = set([i for i in zip(*crosses_with_position)][0])\\n        crosses_valid = crossing_words.issubset(\\n            self.WORDSET\\n        ) or crosses_with_position == {(\\\"\\\", -1, -1)}\\n        return crosses_valid, crosses_with_position\\n\\n    # make a dictionary of valid plays for one direction as a dictionary of words with a nested crossing dict\\n    # in the first entry of a list that are the values of the dictionary\\n    def valid_plays(self, valid_perms):\\n        # valid_perms = self.find_valid_perms() #TODO is this right to move to a parameter?\\n\\n        valid_plays = defaultdict(lambda: defaultdict(dict))\\n        for valid_perm in valid_perms:\\n            potential_positions = valid_perms[valid_perm]\\n            for potential_position in potential_positions:\\n                y = potential_position[0]\\n                x = potential_position[1]\\n                crosses_valid, crosses_with_position = self.check_crosses(\\n                    valid_perm, y, x\\n                )\\n                if crosses_valid == True:\\n                    for cross_with_position in crosses_with_position:\\n                        valid_plays[valid_perm][tuple(potential_position)][\\n                            cross_with_position[0]\\n                        ] = cross_with_position[1:3]\\n        return valid_plays\\n\\n    # remember the crosses returned above have the x and y switched, as well as nested default dicts\\n\\n    # Find which tiles of a word originated from the hand\\n    def new_tiles(self, valid_word, y, x):\\n        new_tiles = []\\n        for letter in valid_word:\\n            if self.check_yx(y, x) == False:\\n                new_tiles.append(\\n                    [letter, y, x]\\n                )  # should this really be a dictionary list?\\n            x = x + 1\\n        return new_tiles\\n\\n    # Find which tiles could be used to build a crossing word\\n    def find_edge_hooks(self, valid_plays):\\n        edge_hooks = []\\n        for valid_word in valid_plays:\\n            for position in valid_plays[valid_word]:\\n                y = position[0]\\n                x = position[1]\\n                new_tiles = self.new_tiles(valid_word, y, x)\\n                if len(new_tiles) == 1:\\n                    edge_hooks = edge_hooks + new_tiles\\n        return edge_hooks\\n\\n    # create a dictionary of the valid edge words\\n    # could probably adapt find valid perms above for this\\n    def valid_edge_plays(self, edge_hooks):\\n        edge_perms_dict = {}\\n        for hook in edge_hooks:\\n            hook_letter = hook[0]\\n            # x and y are transposed\\n            y = hook[2]\\n            x = hook[1]\\n            edge_perms = self.edge_perms(hook_letter, y, x)\\n\\n            for complete_word in edge_perms:\\n                if complete_word in edge_perms_dict:\\n                    edge_perms_dict[complete_word] = (\\n                        edge_perms_dict[complete_word] + edge_perms[complete_word]\\n                    )\\n                else:\\n                    edge_perms_dict[complete_word] = edge_perms[complete_word]\\n\\n        # copied from above, checking if perm in the dictionary\\n        edge_perms_set = set(edge_perms_dict.keys())\\n        valid_edge_perms = self.WORDSET.intersection(edge_perms_set)\\n        valid_edge_perms_dict = {\\n            k: v for (k, v) in edge_perms_dict.items() if k in valid_edge_perms\\n        }\\n        return valid_edge_perms_dict\";\n",
       "                var nbb_cells = Jupyter.notebook.get_cells();\n",
       "                for (var i = 0; i < nbb_cells.length; ++i) {\n",
       "                    if (nbb_cells[i].input_prompt_number == nbb_cell_id) {\n",
       "                        if (nbb_cells[i].get_text() == nbb_unformatted_code) {\n",
       "                             nbb_cells[i].set_text(nbb_formatted_code);\n",
       "                        }\n",
       "                        break;\n",
       "                    }\n",
       "                }\n",
       "            }, 500);\n",
       "            "
      ],
      "text/plain": [
       "<IPython.core.display.Javascript object>"
      ]
     },
     "metadata": {},
     "output_type": "display_data"
    }
   ],
   "source": [
    "class Scrabbler:\n",
    "    data_path = \"../sowpods.txt\"\n",
    "    with open(data_path, newline=\"\") as f:\n",
    "        reader = csv.reader(f)\n",
    "        allwords = list(reader)\n",
    "    WORDLIST = list(itertools.chain.from_iterable(allwords))\n",
    "    WORDLIST = [x.lower() for x in WORDLIST]\n",
    "    WORDSET = set(WORDLIST)\n",
    "    BOARD_LENGTH = 15\n",
    "    MAX_I = 14\n",
    "\n",
    "    LETTER_MULTIPLIERS = [\n",
    "        [1, 1, 1, 1, 1, 1, 3, 1, 3, 1, 1, 1, 1, 1, 1],  # 0\n",
    "        [1, 1, 2, 1, 1, 1, 1, 1, 1, 1, 1, 1, 2, 1, 1],  # 1\n",
    "        [1, 2, 1, 1, 2, 1, 1, 1, 1, 1, 2, 1, 1, 2, 1],  # 2\n",
    "        [1, 1, 1, 3, 1, 1, 1, 1, 1, 1, 1, 3, 1, 1, 1],  # 3\n",
    "        [1, 1, 2, 1, 1, 1, 2, 1, 2, 1, 1, 1, 2, 1, 1],  # 4\n",
    "        [1, 1, 1, 1, 1, 3, 1, 1, 1, 3, 1, 1, 1, 1, 1],\n",
    "        [3, 1, 1, 1, 2, 1, 1, 1, 1, 1, 2, 1, 1, 1, 3],  # 6\n",
    "        [1, 1, 1, 1, 1, 1, 1, 1, 1, 1, 1, 1, 1, 1, 1],\n",
    "        [3, 1, 1, 1, 2, 1, 1, 1, 1, 1, 2, 1, 1, 1, 3],  # 8\n",
    "        [1, 1, 1, 1, 1, 3, 1, 1, 1, 3, 1, 1, 1, 1, 1],\n",
    "        [1, 1, 2, 1, 1, 1, 2, 1, 2, 1, 1, 1, 2, 1, 1],  # 10\n",
    "        [1, 1, 1, 3, 1, 1, 1, 1, 1, 1, 1, 3, 1, 1, 1],\n",
    "        [1, 2, 1, 1, 2, 1, 1, 1, 1, 1, 2, 1, 1, 2, 1],  # 12\n",
    "        [1, 1, 2, 1, 1, 1, 1, 1, 1, 1, 1, 1, 2, 1, 1],\n",
    "        [1, 1, 1, 1, 1, 1, 3, 1, 3, 1, 1, 1, 1, 1, 1],  # 14\n",
    "    ]\n",
    "    LETTER_MULTIPLIERS_ARRAY = np.array(LETTER_MULTIPLIERS)\n",
    "\n",
    "    WORD_MULTIPLIERS = [\n",
    "        [1, 1, 1, 3, 1, 1, 1, 1, 1, 1, 1, 3, 1, 1, 1],  # 0\n",
    "        [1, 1, 1, 1, 1, 2, 1, 1, 1, 2, 1, 1, 1, 1, 1],  # 1\n",
    "        [1, 1, 1, 1, 1, 1, 1, 1, 1, 1, 1, 1, 1, 1, 1],  # 2\n",
    "        [3, 1, 1, 1, 1, 1, 1, 2, 1, 1, 1, 1, 1, 1, 3],  # 3\n",
    "        [1, 1, 1, 1, 1, 1, 1, 1, 1, 1, 1, 1, 1, 1, 1],  # 4\n",
    "        [1, 2, 1, 1, 1, 1, 1, 1, 1, 1, 1, 1, 1, 2, 1],\n",
    "        [1, 1, 1, 1, 1, 1, 1, 1, 1, 1, 1, 1, 1, 1, 1],  # 6\n",
    "        [1, 1, 1, 2, 1, 1, 1, 1, 1, 1, 1, 2, 1, 1, 1],\n",
    "        [1, 1, 1, 1, 1, 1, 1, 1, 1, 1, 1, 1, 1, 1, 1],  # 8\n",
    "        [1, 2, 1, 1, 1, 1, 1, 1, 1, 1, 1, 1, 1, 2, 1],\n",
    "        [1, 1, 1, 1, 1, 1, 1, 1, 1, 1, 1, 1, 1, 1, 1],  # 10\n",
    "        [3, 1, 1, 1, 1, 1, 1, 2, 1, 1, 1, 1, 1, 1, 3],\n",
    "        [1, 1, 1, 1, 1, 1, 1, 1, 1, 1, 1, 1, 1, 1, 1],  # 12\n",
    "        [1, 1, 1, 1, 1, 2, 1, 1, 1, 2, 1, 1, 1, 1, 1],\n",
    "        [1, 1, 1, 3, 1, 1, 1, 1, 1, 1, 1, 3, 1, 1, 1],  # 14\n",
    "    ]\n",
    "    WORD_MULTIPLIERS_ARRAY = np.array(WORD_MULTIPLIERS)\n",
    "\n",
    "    TILE_SCORES = {\n",
    "        \"a\": 1,\n",
    "        \"b\": 4,\n",
    "        \"c\": 4,\n",
    "        \"d\": 2,\n",
    "        \"e\": 1,\n",
    "        \"f\": 4,\n",
    "        \"g\": 3,\n",
    "        \"h\": 3,\n",
    "        \"i\": 1,\n",
    "        \"j\": 10,\n",
    "        \"k\": 5,\n",
    "        \"l\": 2,\n",
    "        \"m\": 4,\n",
    "        \"n\": 2,\n",
    "        \"o\": 1,\n",
    "        \"p\": 4,\n",
    "        \"q\": 10,\n",
    "        \"r\": 1,\n",
    "        \"s\": 1,\n",
    "        \"t\": 1,\n",
    "        \"u\": 2,\n",
    "        \"v\": 5,\n",
    "        \"w\": 4,\n",
    "        \"x\": 8,\n",
    "        \"y\": 3,\n",
    "        \"z\": 10,\n",
    "    }\n",
    "\n",
    "    def __init__(self, board, hand_letters):\n",
    "        self.board = board\n",
    "        self.hand_letters = hand_letters\n",
    "        self.T_board = np.copy(board).transpose()  # TODO: should this be here?\n",
    "        self.board_mask = (np.copy(board) != \"\").astype(int)\n",
    "\n",
    "    # Navigator functions\n",
    "    def check_yx(self, y, x):\n",
    "        if x > -1 and x < 15 and y > -1 and y < 15:\n",
    "            return bool(self.board[y, x])\n",
    "        else:\n",
    "            return \"out\"\n",
    "\n",
    "    def check_right(self, y, x):\n",
    "        if x < self.BOARD_LENGTH - 1:\n",
    "            return bool(self.board[y, x + 1]), self.board[y, x + 1]\n",
    "        else:\n",
    "            return \"out\"\n",
    "\n",
    "    def check_left(self, y, x):\n",
    "        if x > 0:\n",
    "            return bool(self.board[y, x - 1]), self.board[y, x - 1]\n",
    "        else:\n",
    "            return \"out\"\n",
    "\n",
    "    def check_above(self, y, x):\n",
    "        if y > 0:\n",
    "            return bool(self.board[y - 1, x]), self.board[y - 1, x]\n",
    "        else:\n",
    "            return \"out\"\n",
    "\n",
    "    def check_below(self, y, x):\n",
    "        if y < self.BOARD_LENGTH - 1:\n",
    "            return bool(self.board[y + 1, x]), self.board[y + 1, x]\n",
    "        else:\n",
    "            return \"out\"\n",
    "\n",
    "    # For potential words of a given length\n",
    "    # start at the left, travel right (keep track of empties) till you hit a letter\n",
    "    def hand_letter_permutations(self, length):\n",
    "        # this returns a list of permutations of the hand letters of a given length\n",
    "        letter_permutations = list(itertools.permutations(self.hand_letters, length))\n",
    "        return letter_permutations\n",
    "\n",
    "    def row_permutations(self, row):\n",
    "        y = row\n",
    "        board_row = self.board[row]\n",
    "        no_hand_letters = len(self.hand_letters)\n",
    "        no_pre_filled = sum(list(map(bool, board_row)))\n",
    "        row_perms_dict = {}\n",
    "\n",
    "        if no_pre_filled > 0:\n",
    "            for perm_len in range(1, no_hand_letters + 1):\n",
    "                hand_perms = self.hand_letter_permutations(perm_len)\n",
    "                # for x in range(0, BOARD_LENGTH-(len(self.hand_letters)-1)-no_pre_filled):\n",
    "                # x=0\n",
    "                no_tiles_to_right = no_pre_filled\n",
    "                for hand_perm in hand_perms:\n",
    "                    # while x + no_tiles_to_right+perm_len<self.BOARD_LENGTH:\n",
    "                    x = 0\n",
    "                    if (\n",
    "                        self.check_yx(y, x) == False\n",
    "                    ):  # and sum(list(map(bool,board_row[x:x+no_hand_letters])))\n",
    "                        # for hand_perm in hand_perms:\n",
    "                        while True:\n",
    "                            # TODO check this\n",
    "                            if (\n",
    "                                any(\n",
    "                                    board_row[max(0, x - 1) : min(x + perm_len + 1, 14)]\n",
    "                                )\n",
    "                                == True\n",
    "                            ):\n",
    "                                complete_word, word_y, word_x = self.complete_word_y_x(\n",
    "                                    row, x, hand_perm\n",
    "                                )\n",
    "                                if complete_word == []:\n",
    "                                    break\n",
    "                                elif len(complete_word) > perm_len:\n",
    "                                    # TODO: could leave out the part after the and below and delete duplicates later\n",
    "                                    # TODO: could indicate the length of the original perm\n",
    "                                    if (\n",
    "                                        complete_word in row_perms_dict\n",
    "                                        and [word_y, word_x]\n",
    "                                        not in row_perms_dict[complete_word]\n",
    "                                    ):\n",
    "                                        row_perms_dict[complete_word].append(\n",
    "                                            [word_y, word_x]\n",
    "                                        )\n",
    "                                    else:\n",
    "                                        row_perms_dict[complete_word] = [\n",
    "                                            [word_y, word_x]\n",
    "                                        ]\n",
    "                            x = x + 1\n",
    "                            if x == self.BOARD_LENGTH:\n",
    "                                break\n",
    "                    # no_tiles_to_right=sum(list(map(bool,board_row[x+1:])))#TODO: +1 here?\n",
    "        return row_perms_dict\n",
    "\n",
    "    # fill the next len(hand_perm) spaces with hand tiles and find the connecting words\n",
    "    # row=y\n",
    "    def complete_word_y_x(self, row, x, hand_perm):\n",
    "        hand_perm = list(hand_perm)\n",
    "        perm_len = len(hand_perm)\n",
    "        X = x\n",
    "        board_row = self.board[row]\n",
    "        y = row\n",
    "        no_filled = 0\n",
    "        filled_tiles = []\n",
    "        left_letters = []\n",
    "        right_letters = []\n",
    "        while self.check_left(y, x)[0] == True:\n",
    "            x = x - 1\n",
    "            left_letters = left_letters + [board_row[x]]\n",
    "        left_letters = left_letters[::-1]\n",
    "        x = X\n",
    "        while no_filled < perm_len:\n",
    "            if self.check_yx(y, x) == True:\n",
    "                filled_tiles = filled_tiles + [board_row[x]]\n",
    "            elif self.check_yx(y, x) == \"out\":\n",
    "                return [], [], []\n",
    "            elif self.check_yx(y, x) == False:\n",
    "                new_tile = hand_perm.pop(0)\n",
    "                filled_tiles = filled_tiles + [new_tile]\n",
    "                no_filled = no_filled + 1\n",
    "            x = x + 1\n",
    "        x = x - 1\n",
    "        while self.check_right(y, x)[0] == True:\n",
    "            x = x + 1\n",
    "            right_letters = right_letters + [board_row[x]]\n",
    "        complete_word_as_list = left_letters + filled_tiles + right_letters\n",
    "        word_x = X - len(left_letters)\n",
    "        complete_word = \"\".join(complete_word_as_list)\n",
    "        return complete_word, y, word_x\n",
    "\n",
    "    # Find the crossing words for a given complete_word_y_x info\n",
    "    def find_crosses(self, complete_word, y, x):\n",
    "        crossing_words = set()\n",
    "        count = 0\n",
    "        for tile in complete_word:\n",
    "            # TODO: don't think I need this if part, only the last part and len(crossing_word)>1\n",
    "            if (\n",
    "                self.check_above(y, x)[0] == True or self.check_below(y, x)[0] == True\n",
    "            ) and self.board[y, x] != tile:\n",
    "                crossing_word, T_y, T_x = self.crossing_words_at_tile(tile, y, x)\n",
    "                if len(crossing_word) > 1:\n",
    "                    crossing_words.add((crossing_word, T_y, T_x))\n",
    "\n",
    "            # TODO: not sure if I need all this stuff about edge_letter\n",
    "            #             if self.board[y, x] != tile:\n",
    "            #                 count = count + 1\n",
    "            #                 edge_letter = tile\n",
    "            #                 edge_x = x\n",
    "            #                 edge_y = y\n",
    "\n",
    "            x = x + 1\n",
    "        # TODO fix this?\n",
    "        #         if count == 1 and len(crossing_words) == 0:\n",
    "        #             crossing_words.add((edge_letter, edge_y, edge_x))\n",
    "        if len(crossing_words) == 0:\n",
    "            crossing_words.add((\"\", -1, -1))\n",
    "        return crossing_words\n",
    "\n",
    "    # Enter a tile and its location and return the crosses that it makes\n",
    "    def crossing_words_at_tile(self, tile, y, x):\n",
    "        # We will be using the transpose board so y and x are switched\n",
    "        self.board = self.board.transpose()\n",
    "        y, x = x, y\n",
    "        crossing_word, T_y, T_x = self.complete_word_y_x(y, x, (tile))\n",
    "        self.board = self.board.transpose()\n",
    "        return crossing_word, T_y, T_x\n",
    "\n",
    "    # insert the \"hook letter\" into a shadow board and find the output connected to that\n",
    "    # assume the board has already been transposed and you are operating with the right y and x\n",
    "    def edge_perms(self, hook_letter, y, x):\n",
    "        self.board[y, x] = hook_letter\n",
    "        self.hand_letters.remove(hook_letter)\n",
    "        shadow_row_perms = self.row_permutations(y)\n",
    "        edge_perms_dict = {\n",
    "            k: v\n",
    "            for (k, v) in shadow_row_perms.items()\n",
    "            if v[0][1] <= x\n",
    "            and v[0][1] + len(k)\n",
    "            >= x  # TODO: see if I really need to put out a nested list here\n",
    "        }\n",
    "\n",
    "        self.hand_letters.append(hook_letter)\n",
    "        self.board[y, x] = \"\"\n",
    "        return edge_perms_dict\n",
    "\n",
    "    def find_valid_perms(self):\n",
    "        crossing_set = set()\n",
    "        board_perms_dict = {}\n",
    "\n",
    "        for row in range(0, self.BOARD_LENGTH):\n",
    "            row_perms = self.row_permutations(row)\n",
    "            for complete_word in row_perms:\n",
    "                if complete_word in board_perms_dict:\n",
    "                    board_perms_dict[complete_word] = (\n",
    "                        board_perms_dict[complete_word] + row_perms[complete_word]\n",
    "                    )\n",
    "                else:\n",
    "                    board_perms_dict[complete_word] = row_perms[complete_word]\n",
    "        perms_set = set(board_perms_dict.keys())\n",
    "        valid_perms = self.WORDSET.intersection(perms_set)\n",
    "        valid_perms_dict = {\n",
    "            k: v for (k, v) in board_perms_dict.items() if k in valid_perms\n",
    "        }\n",
    "        return valid_perms_dict\n",
    "\n",
    "    # use the perms to find crossings and check if they are all valid\n",
    "    # TODO: ask to see if I can somehow check all of these sets at once so I only have to iter through once\n",
    "    def check_crosses(self, valid_perm, y, x):\n",
    "        crosses_with_position = self.find_crosses(valid_perm, y, x)\n",
    "        crossing_words = set([i for i in zip(*crosses_with_position)][0])\n",
    "        crosses_valid = crossing_words.issubset(\n",
    "            self.WORDSET\n",
    "        ) or crosses_with_position == {(\"\", -1, -1)}\n",
    "        return crosses_valid, crosses_with_position\n",
    "\n",
    "    # make a dictionary of valid plays for one direction as a dictionary of words with a nested crossing dict\n",
    "    # in the first entry of a list that are the values of the dictionary\n",
    "    def valid_plays(self, valid_perms):\n",
    "        # valid_perms = self.find_valid_perms() #TODO is this right to move to a parameter?\n",
    "\n",
    "        valid_plays = defaultdict(lambda: defaultdict(dict))\n",
    "        for valid_perm in valid_perms:\n",
    "            potential_positions = valid_perms[valid_perm]\n",
    "            for potential_position in potential_positions:\n",
    "                y = potential_position[0]\n",
    "                x = potential_position[1]\n",
    "                crosses_valid, crosses_with_position = self.check_crosses(\n",
    "                    valid_perm, y, x\n",
    "                )\n",
    "                if crosses_valid == True:\n",
    "                    for cross_with_position in crosses_with_position:\n",
    "                        valid_plays[valid_perm][tuple(potential_position)][\n",
    "                            cross_with_position[0]\n",
    "                        ] = cross_with_position[1:3]\n",
    "        return valid_plays\n",
    "\n",
    "    # remember the crosses returned above have the x and y switched, as well as nested default dicts\n",
    "\n",
    "    # Find which tiles of a word originated from the hand\n",
    "    def new_tiles(self, valid_word, y, x):\n",
    "        new_tiles = []\n",
    "        for letter in valid_word:\n",
    "            if self.check_yx(y, x) == False:\n",
    "                new_tiles.append(\n",
    "                    [letter, y, x]\n",
    "                )  # should this really be a dictionary list?\n",
    "            x = x + 1\n",
    "        return new_tiles\n",
    "\n",
    "    # Find which tiles could be used to build a crossing word\n",
    "    def find_edge_hooks(self, valid_plays):\n",
    "        edge_hooks = []\n",
    "        for valid_word in valid_plays:\n",
    "            for position in valid_plays[valid_word]:\n",
    "                y = position[0]\n",
    "                x = position[1]\n",
    "                new_tiles = self.new_tiles(valid_word, y, x)\n",
    "                if len(new_tiles) == 1:\n",
    "                    edge_hooks = edge_hooks + new_tiles\n",
    "        return edge_hooks\n",
    "\n",
    "    # create a dictionary of the valid edge words\n",
    "    # could probably adapt find valid perms above for this\n",
    "    #TODO: not quite working correctly\n",
    "    def valid_edge_plays(self, edge_hooks):\n",
    "        edge_perms_dict = {}\n",
    "        for hook in edge_hooks:\n",
    "            hook_letter = hook[0]\n",
    "            # x and y are transposed\n",
    "            y = hook[2]\n",
    "            x = hook[1]\n",
    "            edge_perms = self.edge_perms(hook_letter, y, x)\n",
    "\n",
    "            for complete_word in edge_perms:\n",
    "                if complete_word in edge_perms_dict:\n",
    "                    edge_perms_dict[complete_word] = (\n",
    "                        edge_perms_dict[complete_word] + edge_perms[complete_word]\n",
    "                    )\n",
    "                else:\n",
    "                    edge_perms_dict[complete_word] = edge_perms[complete_word]\n",
    "\n",
    "        # copied from above, checking if perm in the dictionary\n",
    "        edge_perms_set = set(edge_perms_dict.keys())\n",
    "        valid_edge_perms = self.WORDSET.intersection(edge_perms_set)\n",
    "        valid_edge_perms_dict = {\n",
    "            k: v for (k, v) in edge_perms_dict.items() if k in valid_edge_perms\n",
    "        }\n",
    "        return valid_edge_perms_dict"
   ]
  },
  {
   "cell_type": "code",
   "execution_count": 87,
   "metadata": {},
   "outputs": [
    {
     "data": {
      "application/javascript": [
       "\n",
       "            setTimeout(function() {\n",
       "                var nbb_cell_id = 87;\n",
       "                var nbb_unformatted_code = \"def all_board_words(self):\\n    # Find the valid words\\n    # find the edge hooks\\n    # transpose\\n    # find the valid words (column words)\\n    # add the edge words from above (column words)\\n    # find the crossing words of the combined list (column words)\\n    # find the edge words\\n    # transpose\\n    # find the crossing words of the combined list (row words)\\n\\n    # now I have two dictionaries: row and column\\n    # first entry of any word should be a list of its crossing words (as a dictionary themselves)\\n    pass\\n\\n\\n# then I score the dictionaries\\ndef score_word(self, word_dict_entry):\\n    pass\";\n",
       "                var nbb_formatted_code = \"def all_board_words(self):\\n    # Find the valid words\\n    # find the edge hooks\\n    # transpose\\n    # find the valid words (column words)\\n    # add the edge words from above (column words)\\n    # find the crossing words of the combined list (column words)\\n    # find the edge words\\n    # transpose\\n    # find the crossing words of the combined list (row words)\\n\\n    # now I have two dictionaries: row and column\\n    # first entry of any word should be a list of its crossing words (as a dictionary themselves)\\n    pass\\n\\n\\n# then I score the dictionaries\\ndef score_word(self, word_dict_entry):\\n    pass\";\n",
       "                var nbb_cells = Jupyter.notebook.get_cells();\n",
       "                for (var i = 0; i < nbb_cells.length; ++i) {\n",
       "                    if (nbb_cells[i].input_prompt_number == nbb_cell_id) {\n",
       "                        if (nbb_cells[i].get_text() == nbb_unformatted_code) {\n",
       "                             nbb_cells[i].set_text(nbb_formatted_code);\n",
       "                        }\n",
       "                        break;\n",
       "                    }\n",
       "                }\n",
       "            }, 500);\n",
       "            "
      ],
      "text/plain": [
       "<IPython.core.display.Javascript object>"
      ]
     },
     "metadata": {},
     "output_type": "display_data"
    }
   ],
   "source": [
    "def all_board_words(self):\n",
    "    valid_perms = self.find_valid_perms()\n",
    "    valid_row_plays=self.valid_plays(valid_perms)\n",
    "    # find the edge hooks\n",
    "    edge_hooks=self.find_edge_hooks(valid_plays)\n",
    "    # transpose\n",
    "    self.board = self.board.transpose()\n",
    "    # find the valid words (column words)\n",
    "    valid_column_plays=self.valid_plays()\n",
    "    #find which edge words are valid from above\n",
    "    # add the edge words from above (column words)\n",
    "    # find the crossing words of the combined list (column words)\n",
    "    # find the edge words\n",
    "    # transpose\n",
    "    # find the crossing words of the combined list (row words)\n",
    "\n",
    "    # now I have two dictionaries: row and column\n",
    "    # first entry of any word should be a list of its crossing words (as a dictionary themselves)\n",
    "    pass\n",
    "\n",
    "\n",
    "# then I score the dictionaries\n",
    "def score_word(self, word_dict_entry):\n",
    "    pass"
   ]
  },
  {
   "cell_type": "code",
   "execution_count": 88,
   "metadata": {},
   "outputs": [
    {
     "data": {
      "application/javascript": [
       "\n",
       "            setTimeout(function() {\n",
       "                var nbb_cell_id = 88;\n",
       "                var nbb_unformatted_code = \"# for edge row, I could find permutations of the surrounding area including spaces\\n# make a check surrroundings function for both axes\";\n",
       "                var nbb_formatted_code = \"# for edge row, I could find permutations of the surrounding area including spaces\\n# make a check surrroundings function for both axes\";\n",
       "                var nbb_cells = Jupyter.notebook.get_cells();\n",
       "                for (var i = 0; i < nbb_cells.length; ++i) {\n",
       "                    if (nbb_cells[i].input_prompt_number == nbb_cell_id) {\n",
       "                        if (nbb_cells[i].get_text() == nbb_unformatted_code) {\n",
       "                             nbb_cells[i].set_text(nbb_formatted_code);\n",
       "                        }\n",
       "                        break;\n",
       "                    }\n",
       "                }\n",
       "            }, 500);\n",
       "            "
      ],
      "text/plain": [
       "<IPython.core.display.Javascript object>"
      ]
     },
     "metadata": {},
     "output_type": "display_data"
    }
   ],
   "source": [
    "# for edge row, I could find permutations of the surrounding area including spaces\n",
    "# make a check surrroundings function for both axes"
   ]
  },
  {
   "cell_type": "code",
   "execution_count": 180,
   "metadata": {},
   "outputs": [
    {
     "data": {
      "text/plain": [
       "{'des': [[10, 5]],\n",
       " 'esd': [[10, 6]],\n",
       " 'oes': [[10, 5]],\n",
       " 'eso': [[10, 6]],\n",
       " 'aes': [[10, 5]],\n",
       " 'esa': [[10, 6]],\n",
       " 'does': [[10, 4]],\n",
       " 'deso': [[10, 5]],\n",
       " 'esdo': [[10, 6]],\n",
       " 'daes': [[10, 4]],\n",
       " 'desa': [[10, 5]],\n",
       " 'esda': [[10, 6]],\n",
       " 'odes': [[10, 4]],\n",
       " 'oesd': [[10, 5]],\n",
       " 'esod': [[10, 6]],\n",
       " 'oaes': [[10, 4]],\n",
       " 'oesa': [[10, 5]],\n",
       " 'esoa': [[10, 6]],\n",
       " 'ades': [[10, 4]],\n",
       " 'aesd': [[10, 5]],\n",
       " 'esad': [[10, 6]],\n",
       " 'aoes': [[10, 4]],\n",
       " 'aeso': [[10, 5]],\n",
       " 'esao': [[10, 6]],\n",
       " 'doaes': [[10, 3]],\n",
       " 'doesa': [[10, 4]],\n",
       " 'desoa': [[10, 5]],\n",
       " 'esdoag': [[10, 6]],\n",
       " 'daoes': [[10, 3]],\n",
       " 'daeso': [[10, 4]],\n",
       " 'desao': [[10, 5]],\n",
       " 'esdaog': [[10, 6]],\n",
       " 'odaes': [[10, 3]],\n",
       " 'odesa': [[10, 4]],\n",
       " 'oesda': [[10, 5]],\n",
       " 'esodag': [[10, 6]],\n",
       " 'oades': [[10, 3]],\n",
       " 'oaesd': [[10, 4]],\n",
       " 'oesad': [[10, 5]],\n",
       " 'esoadg': [[10, 6]],\n",
       " 'adoes': [[10, 3]],\n",
       " 'adeso': [[10, 4]],\n",
       " 'aesdo': [[10, 5]],\n",
       " 'esadog': [[10, 6]],\n",
       " 'aodes': [[10, 3]],\n",
       " 'aoesd': [[10, 4]],\n",
       " 'aesod': [[10, 5]],\n",
       " 'esaodg': [[10, 6]]}"
      ]
     },
     "execution_count": 180,
     "metadata": {},
     "output_type": "execute_result"
    },
    {
     "data": {
      "application/javascript": [
       "\n",
       "            setTimeout(function() {\n",
       "                var nbb_cell_id = 180;\n",
       "                var nbb_unformatted_code = \"sam = Scrabbler(board_array, sample_board_letters)\\ncw, _, _ = sam.complete_word_y_x(1, 1, (\\\"a\\\"))\\nsamcross = sam.find_crosses(\\\"abcdfe\\\", 12, 9)\\nsam.edge_perms(\\\"s\\\", 10, 7)\\n# {i for i in zip(*samcross)}\\n# valid_plays = {}\\n# for i in samcross:\\n#     valid_plays[\\\"a\\\"] = 1  # [\\\"b\\\"][[\\\"c\\\", \\\"d\\\"][0]] = [\\\"e\\\", \\\"f\\\"][1:3]\";\n",
       "                var nbb_formatted_code = \"sam = Scrabbler(board_array, sample_board_letters)\\ncw, _, _ = sam.complete_word_y_x(1, 1, (\\\"a\\\"))\\nsamcross = sam.find_crosses(\\\"abcdfe\\\", 12, 9)\\nsam.edge_perms(\\\"s\\\", 10, 7)\\n# {i for i in zip(*samcross)}\\n# valid_plays = {}\\n# for i in samcross:\\n#     valid_plays[\\\"a\\\"] = 1  # [\\\"b\\\"][[\\\"c\\\", \\\"d\\\"][0]] = [\\\"e\\\", \\\"f\\\"][1:3]\";\n",
       "                var nbb_cells = Jupyter.notebook.get_cells();\n",
       "                for (var i = 0; i < nbb_cells.length; ++i) {\n",
       "                    if (nbb_cells[i].input_prompt_number == nbb_cell_id) {\n",
       "                        if (nbb_cells[i].get_text() == nbb_unformatted_code) {\n",
       "                             nbb_cells[i].set_text(nbb_formatted_code);\n",
       "                        }\n",
       "                        break;\n",
       "                    }\n",
       "                }\n",
       "            }, 500);\n",
       "            "
      ],
      "text/plain": [
       "<IPython.core.display.Javascript object>"
      ]
     },
     "metadata": {},
     "output_type": "display_data"
    }
   ],
   "source": [
    "sam = Scrabbler(board_array, sample_board_letters)\n",
    "cw, _, _ = sam.complete_word_y_x(1, 1, (\"a\"))\n",
    "samcross = sam.find_crosses(\"abcdfe\", 12, 9)\n",
    "sam.edge_perms(\"s\", 10, 7)\n",
    "# {i for i in zip(*samcross)}\n",
    "# valid_plays = {}\n",
    "# for i in samcross:\n",
    "#     valid_plays[\"a\"] = 1  # [\"b\"][[\"c\", \"d\"][0]] = [\"e\", \"f\"][1:3]"
   ]
  },
  {
   "cell_type": "code",
   "execution_count": 181,
   "metadata": {
    "scrolled": false
   },
   "outputs": [
    {
     "data": {
      "application/javascript": [
       "\n",
       "            setTimeout(function() {\n",
       "                var nbb_cell_id = 181;\n",
       "                var nbb_unformatted_code = \"sam = Scrabbler(board_array, sample_board_letters)\\n# samperms = sam.find_valid_perms()\\n# sam.find_edge_hooks(sam.valid_plays(sam.find_valid_perms()))\\n# dict(sam.valid_plays(samperms))\\n# [i for i in sam.valid_plays()]\\n# [i for i in sam.hand_letter_permutations(1)][0]\\n# edge_hooks = sam.find_edge_hooks(sam.valid_plays(sam.find_valid_perms()))\\n# sam.board = sam.T_board\\n# sam.valid_edge_plays(edge_hooks)\";\n",
       "                var nbb_formatted_code = \"sam = Scrabbler(board_array, sample_board_letters)\\n# samperms = sam.find_valid_perms()\\n# sam.find_edge_hooks(sam.valid_plays(sam.find_valid_perms()))\\n# dict(sam.valid_plays(samperms))\\n# [i for i in sam.valid_plays()]\\n# [i for i in sam.hand_letter_permutations(1)][0]\\n# edge_hooks = sam.find_edge_hooks(sam.valid_plays(sam.find_valid_perms()))\\n# sam.board = sam.T_board\\n# sam.valid_edge_plays(edge_hooks)\";\n",
       "                var nbb_cells = Jupyter.notebook.get_cells();\n",
       "                for (var i = 0; i < nbb_cells.length; ++i) {\n",
       "                    if (nbb_cells[i].input_prompt_number == nbb_cell_id) {\n",
       "                        if (nbb_cells[i].get_text() == nbb_unformatted_code) {\n",
       "                             nbb_cells[i].set_text(nbb_formatted_code);\n",
       "                        }\n",
       "                        break;\n",
       "                    }\n",
       "                }\n",
       "            }, 500);\n",
       "            "
      ],
      "text/plain": [
       "<IPython.core.display.Javascript object>"
      ]
     },
     "metadata": {},
     "output_type": "display_data"
    }
   ],
   "source": [
    "sam = Scrabbler(board_array, sample_board_letters)\n",
    "# samperms = sam.find_valid_perms()\n",
    "# sam.find_edge_hooks(sam.valid_plays(sam.find_valid_perms()))\n",
    "# dict(sam.valid_plays(samperms))\n",
    "# [i for i in sam.valid_plays()]\n",
    "# [i for i in sam.hand_letter_permutations(1)][0]\n",
    "# edge_hooks = sam.find_edge_hooks(sam.valid_plays(sam.find_valid_perms()))\n",
    "# sam.board = sam.T_board\n",
    "# sam.valid_edge_plays(edge_hooks)"
   ]
  },
  {
   "cell_type": "code",
   "execution_count": 109,
   "metadata": {},
   "outputs": [
    {
     "data": {
      "text/plain": [
       "[(0, 11), (10, 13)]"
      ]
     },
     "execution_count": 109,
     "metadata": {},
     "output_type": "execute_result"
    },
    {
     "data": {
      "application/javascript": [
       "\n",
       "            setTimeout(function() {\n",
       "                var nbb_cell_id = 109;\n",
       "                var nbb_unformatted_code = \"[i for i in sam.valid_plays()]\\n[i for i in sam.valid_plays()[\\\"ea\\\"]]\\n# sam.valid_plays()[\\\"ea\\\"]\\n# sam.valid_plays()[\\\"ea\\\"]\";\n",
       "                var nbb_formatted_code = \"[i for i in sam.valid_plays()]\\n[i for i in sam.valid_plays()[\\\"ea\\\"]]\\n# sam.valid_plays()[\\\"ea\\\"]\\n# sam.valid_plays()[\\\"ea\\\"]\";\n",
       "                var nbb_cells = Jupyter.notebook.get_cells();\n",
       "                for (var i = 0; i < nbb_cells.length; ++i) {\n",
       "                    if (nbb_cells[i].input_prompt_number == nbb_cell_id) {\n",
       "                        if (nbb_cells[i].get_text() == nbb_unformatted_code) {\n",
       "                             nbb_cells[i].set_text(nbb_formatted_code);\n",
       "                        }\n",
       "                        break;\n",
       "                    }\n",
       "                }\n",
       "            }, 500);\n",
       "            "
      ],
      "text/plain": [
       "<IPython.core.display.Javascript object>"
      ]
     },
     "metadata": {},
     "output_type": "display_data"
    }
   ],
   "source": [
    "[i for i in sam.valid_plays()]\n",
    "[i for i in sam.valid_plays()[\"ea\"]]\n",
    "# sam.valid_plays()[\"ea\"]\n",
    "# sam.valid_plays()[\"ea\"]"
   ]
  },
  {
   "cell_type": "code",
   "execution_count": 79,
   "metadata": {},
   "outputs": [
    {
     "data": {
      "text/plain": [
       "array([[0, 0, 0, 0, 0, 0, 0, 0, 0, 0, 0, 1, 0, 0, 0],\n",
       "       [0, 0, 0, 0, 0, 0, 0, 0, 0, 1, 1, 1, 1, 0, 1],\n",
       "       [0, 0, 0, 0, 0, 0, 0, 0, 0, 0, 0, 1, 0, 0, 1],\n",
       "       [0, 0, 0, 0, 0, 0, 0, 0, 0, 1, 1, 1, 1, 0, 1],\n",
       "       [0, 0, 0, 0, 0, 0, 0, 0, 0, 0, 0, 1, 1, 1, 1],\n",
       "       [0, 0, 0, 0, 0, 0, 0, 0, 0, 1, 1, 1, 1, 1, 0],\n",
       "       [0, 0, 0, 0, 0, 0, 0, 1, 1, 1, 1, 0, 0, 0, 0],\n",
       "       [0, 0, 0, 0, 0, 0, 1, 1, 1, 1, 0, 1, 0, 0, 0],\n",
       "       [0, 0, 0, 0, 0, 0, 0, 1, 1, 1, 1, 1, 0, 0, 0],\n",
       "       [0, 0, 0, 0, 1, 1, 1, 1, 0, 0, 0, 1, 0, 1, 0],\n",
       "       [0, 0, 0, 0, 0, 0, 1, 0, 0, 0, 0, 1, 0, 1, 0],\n",
       "       [0, 0, 0, 0, 0, 0, 1, 0, 0, 0, 0, 1, 1, 1, 1],\n",
       "       [0, 0, 0, 0, 0, 0, 0, 0, 0, 0, 0, 0, 0, 1, 0],\n",
       "       [0, 0, 0, 0, 0, 0, 0, 0, 0, 1, 1, 1, 1, 1, 0],\n",
       "       [0, 0, 0, 0, 0, 0, 0, 0, 1, 1, 1, 0, 0, 0, 0]])"
      ]
     },
     "execution_count": 79,
     "metadata": {},
     "output_type": "execute_result"
    },
    {
     "data": {
      "application/javascript": [
       "\n",
       "            setTimeout(function() {\n",
       "                var nbb_cell_id = 79;\n",
       "                var nbb_unformatted_code = \"sam = Scrabbler(board_array, sample_board_letters)\\nsam.valid_plays()\\nsam.board_mask\";\n",
       "                var nbb_formatted_code = \"sam = Scrabbler(board_array, sample_board_letters)\\nsam.valid_plays()\\nsam.board_mask\";\n",
       "                var nbb_cells = Jupyter.notebook.get_cells();\n",
       "                for (var i = 0; i < nbb_cells.length; ++i) {\n",
       "                    if (nbb_cells[i].input_prompt_number == nbb_cell_id) {\n",
       "                        if (nbb_cells[i].get_text() == nbb_unformatted_code) {\n",
       "                             nbb_cells[i].set_text(nbb_formatted_code);\n",
       "                        }\n",
       "                        break;\n",
       "                    }\n",
       "                }\n",
       "            }, 500);\n",
       "            "
      ],
      "text/plain": [
       "<IPython.core.display.Javascript object>"
      ]
     },
     "metadata": {},
     "output_type": "display_data"
    }
   ],
   "source": [
    "sam = Scrabbler(board_array, sample_board_letters)\n",
    "sam.valid_plays()\n",
    "sam.board_mask"
   ]
  },
  {
   "cell_type": "code",
   "execution_count": 182,
   "metadata": {
    "scrolled": true
   },
   "outputs": [
    {
     "data": {
      "text/plain": [
       "{'da': [[8, 4]], 'oda': [[8, 3]], 'soda': [[8, 2]]}"
      ]
     },
     "execution_count": 182,
     "metadata": {},
     "output_type": "execute_result"
    },
    {
     "data": {
      "application/javascript": [
       "\n",
       "            setTimeout(function() {\n",
       "                var nbb_cell_id = 182;\n",
       "                var nbb_unformatted_code = \"sam.valid_edge_plays([[\\\"a\\\", 5, 8]])\";\n",
       "                var nbb_formatted_code = \"sam.valid_edge_plays([[\\\"a\\\", 5, 8]])\";\n",
       "                var nbb_cells = Jupyter.notebook.get_cells();\n",
       "                for (var i = 0; i < nbb_cells.length; ++i) {\n",
       "                    if (nbb_cells[i].input_prompt_number == nbb_cell_id) {\n",
       "                        if (nbb_cells[i].get_text() == nbb_unformatted_code) {\n",
       "                             nbb_cells[i].set_text(nbb_formatted_code);\n",
       "                        }\n",
       "                        break;\n",
       "                    }\n",
       "                }\n",
       "            }, 500);\n",
       "            "
      ],
      "text/plain": [
       "<IPython.core.display.Javascript object>"
      ]
     },
     "metadata": {},
     "output_type": "display_data"
    }
   ],
   "source": [
    "sam.valid_edge_plays([[\"a\", 5, 8]])\n",
    "#todo, seems like my x is off by 1"
   ]
  },
  {
   "cell_type": "code",
   "execution_count": 8,
   "metadata": {
    "scrolled": false
   },
   "outputs": [
    {
     "name": "stdout",
     "output_type": "stream",
     "text": [
      "[[' ' ' ' ' ' ' ' ' ' ' ' ' ' ' ' ' ' ' ' ' ' 'e' ' ' ' ' ' ']\n",
      " [' ' ' ' ' ' ' ' ' ' ' ' ' ' ' ' ' ' 'z' 'o' 'n' 'a' ' ' 'w']\n",
      " [' ' ' ' ' ' ' ' ' ' ' ' ' ' ' ' ' ' ' ' ' ' 'a' ' ' ' ' 'i']\n",
      " [' ' ' ' ' ' ' ' ' ' ' ' ' ' ' ' ' ' 'r' 'i' 'm' 'a' ' ' 'l']\n",
      " [' ' ' ' ' ' ' ' ' ' ' ' ' ' ' ' ' ' ' ' ' ' 'o' 'b' 'e' 'y']\n",
      " [' ' ' ' ' ' ' ' ' ' ' ' ' ' ' ' ' ' 'j' 'u' 'r' 'a' 'l' ' ']\n",
      " [' ' ' ' ' ' ' ' ' ' ' ' ' ' 'b' 'e' 'e' 'p' ' ' ' ' ' ' ' ']\n",
      " [' ' ' ' ' ' ' ' ' ' ' ' 'y' 'e' 'w' 's' ' ' 't' ' ' ' ' ' ']\n",
      " [' ' ' ' ' ' ' ' ' ' ' ' ' ' 'l' 'e' 't' 'c' 'h' ' ' ' ' ' ']\n",
      " [' ' ' ' ' ' ' ' 'h' 'u' 'r' 'l' ' ' ' ' ' ' 'i' ' ' 'r' ' ']\n",
      " [' ' ' ' ' ' ' ' ' ' ' ' 'e' ' ' ' ' ' ' ' ' 'g' ' ' 'e' ' ']\n",
      " [' ' ' ' ' ' ' ' ' ' ' ' 'd' ' ' ' ' ' ' ' ' 'h' 'u' 'e' 'd']\n",
      " [' ' ' ' ' ' ' ' ' ' ' ' ' ' ' ' ' ' ' ' ' ' ' ' ' ' 'f' ' ']\n",
      " [' ' ' ' ' ' ' ' ' ' ' ' ' ' ' ' ' ' 'v' 'e' 'e' 'p' 's' ' ']\n",
      " [' ' ' ' ' ' ' ' ' ' ' ' ' ' ' ' 'n' 'u' 'n' ' ' ' ' ' ' ' ']]\n"
     ]
    },
    {
     "data": {
      "application/javascript": [
       "\n",
       "            setTimeout(function() {\n",
       "                var nbb_cell_id = 8;\n",
       "                var nbb_unformatted_code = \"print(np.where(board_array == \\\"\\\", \\\" \\\", board_array))\";\n",
       "                var nbb_formatted_code = \"print(np.where(board_array == \\\"\\\", \\\" \\\", board_array))\";\n",
       "                var nbb_cells = Jupyter.notebook.get_cells();\n",
       "                for (var i = 0; i < nbb_cells.length; ++i) {\n",
       "                    if (nbb_cells[i].input_prompt_number == nbb_cell_id) {\n",
       "                        if (nbb_cells[i].get_text() == nbb_unformatted_code) {\n",
       "                             nbb_cells[i].set_text(nbb_formatted_code);\n",
       "                        }\n",
       "                        break;\n",
       "                    }\n",
       "                }\n",
       "            }, 500);\n",
       "            "
      ],
      "text/plain": [
       "<IPython.core.display.Javascript object>"
      ]
     },
     "metadata": {},
     "output_type": "display_data"
    }
   ],
   "source": [
    "print(np.where(board_array == \"\", \" \", board_array))"
   ]
  },
  {
   "cell_type": "code",
   "execution_count": 9,
   "metadata": {
    "scrolled": true
   },
   "outputs": [
    {
     "data": {
      "text/plain": [
       "('dabc', 11, 6)"
      ]
     },
     "execution_count": 9,
     "metadata": {},
     "output_type": "execute_result"
    },
    {
     "data": {
      "application/javascript": [
       "\n",
       "            setTimeout(function() {\n",
       "                var nbb_cell_id = 9;\n",
       "                var nbb_unformatted_code = \"sam.complete_word_y_x(11, 6, [\\\"a\\\", \\\"b\\\", \\\"c\\\"])\";\n",
       "                var nbb_formatted_code = \"sam.complete_word_y_x(11, 6, [\\\"a\\\", \\\"b\\\", \\\"c\\\"])\";\n",
       "                var nbb_cells = Jupyter.notebook.get_cells();\n",
       "                for (var i = 0; i < nbb_cells.length; ++i) {\n",
       "                    if (nbb_cells[i].input_prompt_number == nbb_cell_id) {\n",
       "                        if (nbb_cells[i].get_text() == nbb_unformatted_code) {\n",
       "                             nbb_cells[i].set_text(nbb_formatted_code);\n",
       "                        }\n",
       "                        break;\n",
       "                    }\n",
       "                }\n",
       "            }, 500);\n",
       "            "
      ],
      "text/plain": [
       "<IPython.core.display.Javascript object>"
      ]
     },
     "metadata": {},
     "output_type": "display_data"
    }
   ],
   "source": [
    "sam.complete_word_y_x(11, 6, [\"a\", \"b\", \"c\"])"
   ]
  },
  {
   "cell_type": "code",
   "execution_count": 17,
   "metadata": {
    "scrolled": false
   },
   "outputs": [
    {
     "data": {
      "text/plain": [
       "[[7, 6]]"
      ]
     },
     "execution_count": 17,
     "metadata": {},
     "output_type": "execute_result"
    },
    {
     "data": {
      "application/javascript": [
       "\n",
       "            setTimeout(function() {\n",
       "                var nbb_cell_id = 17;\n",
       "                var nbb_unformatted_code = \"a = sam.row_permutations(7)\\n# output:\\n# {'dfdf':[[3,4]], 'dfkdf':[[5,7]],...}\\n# l = [[4, 3]]\\n# l.append(a[\\\"daosyews\\\"])\\n# l\\n# [i for i in a.values()]\\na['yewsatosd']\";\n",
       "                var nbb_formatted_code = \"a = sam.row_permutations(7)\\n# output:\\n# {'dfdf':[[3,4]], 'dfkdf':[[5,7]],...}\\n# l = [[4, 3]]\\n# l.append(a[\\\"daosyews\\\"])\\n# l\\n# [i for i in a.values()]\\na[\\\"yewsatosd\\\"]\";\n",
       "                var nbb_cells = Jupyter.notebook.get_cells();\n",
       "                for (var i = 0; i < nbb_cells.length; ++i) {\n",
       "                    if (nbb_cells[i].input_prompt_number == nbb_cell_id) {\n",
       "                        if (nbb_cells[i].get_text() == nbb_unformatted_code) {\n",
       "                             nbb_cells[i].set_text(nbb_formatted_code);\n",
       "                        }\n",
       "                        break;\n",
       "                    }\n",
       "                }\n",
       "            }, 500);\n",
       "            "
      ],
      "text/plain": [
       "<IPython.core.display.Javascript object>"
      ]
     },
     "metadata": {},
     "output_type": "display_data"
    }
   ],
   "source": [
    "a = sam.row_permutations(7)\n",
    "# output:\n",
    "# {'dfdf':[[3,4]], 'dfkdf':[[5,7]],...}\n",
    "# l = [[4, 3]]\n",
    "# l.append(a[\"daosyews\"])\n",
    "# l\n",
    "# [i for i in a.values()]\n",
    "a[\"yewsatosd\"]"
   ]
  },
  {
   "cell_type": "code",
   "execution_count": 162,
   "metadata": {
    "scrolled": true
   },
   "outputs": [
    {
     "data": {
      "text/plain": [
       "True"
      ]
     },
     "execution_count": 162,
     "metadata": {},
     "output_type": "execute_result"
    },
    {
     "data": {
      "application/javascript": [
       "\n",
       "            setTimeout(function() {\n",
       "                var nbb_cell_id = 162;\n",
       "                var nbb_unformatted_code = \"\\\"dagoes\\\" in sam.WORDSET\";\n",
       "                var nbb_formatted_code = \"\\\"dagoes\\\" in sam.WORDSET\";\n",
       "                var nbb_cells = Jupyter.notebook.get_cells();\n",
       "                for (var i = 0; i < nbb_cells.length; ++i) {\n",
       "                    if (nbb_cells[i].input_prompt_number == nbb_cell_id) {\n",
       "                        if (nbb_cells[i].get_text() == nbb_unformatted_code) {\n",
       "                             nbb_cells[i].set_text(nbb_formatted_code);\n",
       "                        }\n",
       "                        break;\n",
       "                    }\n",
       "                }\n",
       "            }, 500);\n",
       "            "
      ],
      "text/plain": [
       "<IPython.core.display.Javascript object>"
      ]
     },
     "metadata": {},
     "output_type": "display_data"
    }
   ],
   "source": [
    "\"dagoes\" in sam.WORDSET"
   ]
  },
  {
   "cell_type": "code",
   "execution_count": 19,
   "metadata": {
    "scrolled": true
   },
   "outputs": [
    {
     "data": {
      "text/plain": [
       "{'a': {'b': [1, 2], 'c': [1, 2]}}"
      ]
     },
     "execution_count": 19,
     "metadata": {},
     "output_type": "execute_result"
    },
    {
     "data": {
      "application/javascript": [
       "\n",
       "            setTimeout(function() {\n",
       "                var nbb_cell_id = 19;\n",
       "                var nbb_unformatted_code = \"a = {\\\"a\\\": 1, \\\"b\\\": 2, \\\"c\\\": 3}\\na[\\\"a\\\"] = {a[\\\"a\\\"]: 2}\\na\\nb = defaultdict(dict)\\nb[\\\"a\\\"][\\\"b\\\"] = [1, 2]\\nb[\\\"a\\\"][\\\"c\\\"] = [1, 2]\\n\\n# b[\\\"r\\\"] = {1: 2}\\ndict(b)\";\n",
       "                var nbb_formatted_code = \"a = {\\\"a\\\": 1, \\\"b\\\": 2, \\\"c\\\": 3}\\na[\\\"a\\\"] = {a[\\\"a\\\"]: 2}\\na\\nb = defaultdict(dict)\\nb[\\\"a\\\"][\\\"b\\\"] = [1, 2]\\nb[\\\"a\\\"][\\\"c\\\"] = [1, 2]\\n\\n# b[\\\"r\\\"] = {1: 2}\\ndict(b)\";\n",
       "                var nbb_cells = Jupyter.notebook.get_cells();\n",
       "                for (var i = 0; i < nbb_cells.length; ++i) {\n",
       "                    if (nbb_cells[i].input_prompt_number == nbb_cell_id) {\n",
       "                        if (nbb_cells[i].get_text() == nbb_unformatted_code) {\n",
       "                             nbb_cells[i].set_text(nbb_formatted_code);\n",
       "                        }\n",
       "                        break;\n",
       "                    }\n",
       "                }\n",
       "            }, 500);\n",
       "            "
      ],
      "text/plain": [
       "<IPython.core.display.Javascript object>"
      ]
     },
     "metadata": {},
     "output_type": "display_data"
    }
   ],
   "source": [
    "a = {\"a\": 1, \"b\": 2, \"c\": 3}\n",
    "a[\"a\"] = {a[\"a\"]: 2}\n",
    "a\n",
    "b = defaultdict(dict)\n",
    "b[\"a\"][\"b\"] = [1, 2]\n",
    "b[\"a\"][\"c\"] = [1, 2]\n",
    "\n",
    "# b[\"r\"] = {1: 2}\n",
    "dict(b)"
   ]
  },
  {
   "cell_type": "code",
   "execution_count": 59,
   "metadata": {},
   "outputs": [
    {
     "name": "stdout",
     "output_type": "stream",
     "text": [
      "dict_values([[2, 6], [4, 7]])\n"
     ]
    },
    {
     "data": {
      "application/javascript": [
       "\n",
       "            setTimeout(function() {\n",
       "                var nbb_cell_id = 59;\n",
       "                var nbb_unformatted_code = \"d1 = {1: 2, 3: 4}\\nd2 = {1: 6, 3: 7}\\n\\ndd = defaultdict(list)\\n\\nfor d in (d1, d2): # you can list as many input dicts as you want here\\n    for key, value in d.items():\\n        dd[key].append(value)\\n\\nprint(dict(dd).values())\";\n",
       "                var nbb_formatted_code = \"d1 = {1: 2, 3: 4}\\nd2 = {1: 6, 3: 7}\\n\\ndd = defaultdict(list)\\n\\nfor d in (d1, d2):  # you can list as many input dicts as you want here\\n    for key, value in d.items():\\n        dd[key].append(value)\\n\\nprint(dict(dd).values())\";\n",
       "                var nbb_cells = Jupyter.notebook.get_cells();\n",
       "                for (var i = 0; i < nbb_cells.length; ++i) {\n",
       "                    if (nbb_cells[i].input_prompt_number == nbb_cell_id) {\n",
       "                        if (nbb_cells[i].get_text() == nbb_unformatted_code) {\n",
       "                             nbb_cells[i].set_text(nbb_formatted_code);\n",
       "                        }\n",
       "                        break;\n",
       "                    }\n",
       "                }\n",
       "            }, 500);\n",
       "            "
      ],
      "text/plain": [
       "<IPython.core.display.Javascript object>"
      ]
     },
     "metadata": {},
     "output_type": "display_data"
    }
   ],
   "source": [
    "d1 = {1: 2, 3: 4}\n",
    "d2 = {1: 6, 3: 7}\n",
    "\n",
    "dd = defaultdict(list)\n",
    "\n",
    "for d in (d1, d2): # you can list as many input dicts as you want here\n",
    "    for key, value in d.items():\n",
    "        dd[key].append(value)\n",
    "\n",
    "print(dict(dd).values())\n"
   ]
  },
  {
   "cell_type": "code",
   "execution_count": 49,
   "metadata": {},
   "outputs": [
    {
     "data": {
      "text/plain": [
       "{2000: {'hello': [2, 3]}}"
      ]
     },
     "execution_count": 49,
     "metadata": {},
     "output_type": "execute_result"
    },
    {
     "data": {
      "application/javascript": [
       "\n",
       "            setTimeout(function() {\n",
       "                var nbb_cell_id = 49;\n",
       "                var nbb_unformatted_code = \"class Vividict(dict):\\n    def __missing__(self, key):\\n        value = self[key] = type(self)()\\n        return value\\nmyDict = Vividict()\\n\\nmyDict[2000]['hello'] = [2,3]\\nmyDict\";\n",
       "                var nbb_formatted_code = \"class Vividict(dict):\\n    def __missing__(self, key):\\n        value = self[key] = type(self)()\\n        return value\\n\\n\\nmyDict = Vividict()\\n\\nmyDict[2000][\\\"hello\\\"] = [2, 3]\\nmyDict\";\n",
       "                var nbb_cells = Jupyter.notebook.get_cells();\n",
       "                for (var i = 0; i < nbb_cells.length; ++i) {\n",
       "                    if (nbb_cells[i].input_prompt_number == nbb_cell_id) {\n",
       "                        if (nbb_cells[i].get_text() == nbb_unformatted_code) {\n",
       "                             nbb_cells[i].set_text(nbb_formatted_code);\n",
       "                        }\n",
       "                        break;\n",
       "                    }\n",
       "                }\n",
       "            }, 500);\n",
       "            "
      ],
      "text/plain": [
       "<IPython.core.display.Javascript object>"
      ]
     },
     "metadata": {},
     "output_type": "display_data"
    }
   ],
   "source": [
    "class Vividict(dict):\n",
    "    def __missing__(self, key):\n",
    "        value = self[key] = type(self)()\n",
    "        return value\n",
    "\n",
    "\n",
    "myDict = Vividict()\n",
    "\n",
    "myDict[2000][\"hello\"] = [2, 3]\n",
    "myDict"
   ]
  },
  {
   "cell_type": "code",
   "execution_count": 70,
   "metadata": {},
   "outputs": [
    {
     "data": {
      "text/plain": [
       "defaultdict(<function __main__.<lambda>()>,\n",
       "            {'a': defaultdict(dict, {(3, 2): {'b': [2, 3], 'c': [4, 3]}})})"
      ]
     },
     "execution_count": 70,
     "metadata": {},
     "output_type": "execute_result"
    },
    {
     "data": {
      "application/javascript": [
       "\n",
       "            setTimeout(function() {\n",
       "                var nbb_cell_id = 70;\n",
       "                var nbb_unformatted_code = \"mydict2 = defaultdict(lambda: defaultdict(dict))\\nmydict2[\\\"a\\\"][3, 2][\\\"b\\\"] = [2, 3]\\nmydict2[\\\"a\\\"][3, 2][\\\"c\\\"] = [4, 3]\\n\\nmydict2\";\n",
       "                var nbb_formatted_code = \"mydict2 = defaultdict(lambda: defaultdict(dict))\\nmydict2[\\\"a\\\"][3, 2][\\\"b\\\"] = [2, 3]\\nmydict2[\\\"a\\\"][3, 2][\\\"c\\\"] = [4, 3]\\n\\nmydict2\";\n",
       "                var nbb_cells = Jupyter.notebook.get_cells();\n",
       "                for (var i = 0; i < nbb_cells.length; ++i) {\n",
       "                    if (nbb_cells[i].input_prompt_number == nbb_cell_id) {\n",
       "                        if (nbb_cells[i].get_text() == nbb_unformatted_code) {\n",
       "                             nbb_cells[i].set_text(nbb_formatted_code);\n",
       "                        }\n",
       "                        break;\n",
       "                    }\n",
       "                }\n",
       "            }, 500);\n",
       "            "
      ],
      "text/plain": [
       "<IPython.core.display.Javascript object>"
      ]
     },
     "metadata": {},
     "output_type": "display_data"
    }
   ],
   "source": [
    "mydict2 = defaultdict(lambda: defaultdict(dict))\n",
    "mydict2[\"a\"][3, 2][\"b\"] = [2, 3]\n",
    "mydict2[\"a\"][3, 2][\"c\"] = [4, 3]\n",
    "\n",
    "mydict2"
   ]
  },
  {
   "cell_type": "code",
   "execution_count": null,
   "metadata": {},
   "outputs": [],
   "source": [
    "                                    # First, update the hook letters:\n",
    "                                    if (\n",
    "                                        len(complete_word) == perm_len + 1\n",
    "                                    ):  # TODO: could also say len(hand_perm)==1\n",
    "                                        # I'm transposing x and y here\n",
    "                                        hook_with_position = [hand_perm[0], x, y]\n",
    "                                        self.hook_letters_global.append(\n",
    "                                            hook_with_position\n",
    "                                        )\n"
   ]
  }
 ],
 "metadata": {
  "kernelspec": {
   "display_name": "Python 3",
   "language": "python",
   "name": "python3"
  },
  "language_info": {
   "codemirror_mode": {
    "name": "ipython",
    "version": 3
   },
   "file_extension": ".py",
   "mimetype": "text/x-python",
   "name": "python",
   "nbconvert_exporter": "python",
   "pygments_lexer": "ipython3",
   "version": "3.7.6"
  }
 },
 "nbformat": 4,
 "nbformat_minor": 4
}
