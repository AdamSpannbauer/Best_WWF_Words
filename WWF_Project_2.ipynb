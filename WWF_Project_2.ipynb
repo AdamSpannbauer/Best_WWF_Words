{
 "cells": [
  {
   "cell_type": "markdown",
   "metadata": {},
   "source": [
    "General outline:\n",
    "I want to take in an array (later image) representation of a scrabble board/hand tiles, and output the best play.\n",
    "\n",
    "Naive best play: the highest scoring play\n",
    "\n",
    "Goal best play: the play that maximizes your winning chances (takes into account the opponent's potential score)\n",
    "    * You want to maximize how you're using the tiles in your hand. \n",
    "        * This doesn't just mean getting the highest score possible. Save your high tiles for the multipliers.\n",
    "    * As well as minimizing your opponent's reply score\n",
    "\n",
    "0. Constants:\n",
    "    * Multiplier boards\n",
    "    \n",
    "* make functions that define the area that the word is in on the board (given a letter?)\n",
    "    * allow another function to tell what the letters are in that area.\n",
    "\n",
    "\n",
    "Main steps needed:\n",
    "1. Take in an array of the board and your hand letters **check**\n",
    "2. Tell the available permutations and their locations on the board **check**\n",
    "    * return a dictionary with the word as a key and the location as the value **check**\n",
    "3. See what crossing words those permutations are going to make **check**\n",
    "    * this will return a dictionary of the main word and its position as a key and the crossing words as the values\n",
    "    * could use a nested dictionary for this\n",
    "4. Check to see if the permutations and their crossing words are in the dictionary\n",
    "    * take in the dictinary from above?\n",
    "    \n",
    "For Step 2:\n",
    "1. Need to get permutations for each row\n",
    "       * Options:\n",
    "           1. Get permutations around each group of letters like I've been doing\n",
    "           2. Look at it on a row-wide basis\n",
    "               * Need to make sure all the sample letters stay together\n",
    "    "
   ]
  },
  {
   "cell_type": "code",
   "execution_count": 1,
   "metadata": {},
   "outputs": [
    {
     "data": {
      "application/javascript": [
       "\n",
       "            setTimeout(function() {\n",
       "                var nbb_cell_id = 1;\n",
       "                var nbb_unformatted_code = \"%reload_ext nb_black\";\n",
       "                var nbb_formatted_code = \"%reload_ext nb_black\";\n",
       "                var nbb_cells = Jupyter.notebook.get_cells();\n",
       "                for (var i = 0; i < nbb_cells.length; ++i) {\n",
       "                    if (nbb_cells[i].input_prompt_number == nbb_cell_id) {\n",
       "                        if (nbb_cells[i].get_text() == nbb_unformatted_code) {\n",
       "                             nbb_cells[i].set_text(nbb_formatted_code);\n",
       "                        }\n",
       "                        break;\n",
       "                    }\n",
       "                }\n",
       "            }, 500);\n",
       "            "
      ],
      "text/plain": [
       "<IPython.core.display.Javascript object>"
      ]
     },
     "metadata": {},
     "output_type": "display_data"
    }
   ],
   "source": [
    "%reload_ext nb_black"
   ]
  },
  {
   "cell_type": "code",
   "execution_count": 2,
   "metadata": {},
   "outputs": [
    {
     "data": {
      "application/javascript": [
       "\n",
       "            setTimeout(function() {\n",
       "                var nbb_cell_id = 2;\n",
       "                var nbb_unformatted_code = \"import numpy as np\\nimport csv\\nimport itertools\\nimport re\\nfrom collections import defaultdict\";\n",
       "                var nbb_formatted_code = \"import numpy as np\\nimport csv\\nimport itertools\\nimport re\\nfrom collections import defaultdict\";\n",
       "                var nbb_cells = Jupyter.notebook.get_cells();\n",
       "                for (var i = 0; i < nbb_cells.length; ++i) {\n",
       "                    if (nbb_cells[i].input_prompt_number == nbb_cell_id) {\n",
       "                        if (nbb_cells[i].get_text() == nbb_unformatted_code) {\n",
       "                             nbb_cells[i].set_text(nbb_formatted_code);\n",
       "                        }\n",
       "                        break;\n",
       "                    }\n",
       "                }\n",
       "            }, 500);\n",
       "            "
      ],
      "text/plain": [
       "<IPython.core.display.Javascript object>"
      ]
     },
     "metadata": {},
     "output_type": "display_data"
    }
   ],
   "source": [
    "import numpy as np\n",
    "import csv\n",
    "import itertools\n",
    "import re\n",
    "from collections import defaultdict\n"
   ]
  },
  {
   "cell_type": "code",
   "execution_count": 3,
   "metadata": {},
   "outputs": [
    {
     "data": {
      "application/javascript": [
       "\n",
       "            setTimeout(function() {\n",
       "                var nbb_cell_id = 3;\n",
       "                var nbb_unformatted_code = \"sample_board = [\\n    [\\\"\\\", \\\"\\\", \\\"\\\", \\\"\\\", \\\"\\\", \\\"\\\", \\\"\\\", \\\"\\\", \\\"\\\", \\\"\\\", \\\"\\\", \\\"e\\\", \\\"\\\", \\\"\\\", \\\"\\\"],  # 0\\n    [\\\"\\\", \\\"\\\", \\\"\\\", \\\"\\\", \\\"\\\", \\\"\\\", \\\"\\\", \\\"\\\", \\\"\\\", \\\"z\\\", \\\"o\\\", \\\"n\\\", \\\"a\\\", \\\"\\\", \\\"w\\\"],  # 1\\n    [\\\"\\\", \\\"\\\", \\\"\\\", \\\"\\\", \\\"\\\", \\\"\\\", \\\"\\\", \\\"\\\", \\\"\\\", \\\"\\\", \\\"\\\", \\\"a\\\", \\\"\\\", \\\"\\\", \\\"i\\\"],  # 2\\n    [\\\"\\\", \\\"\\\", \\\"\\\", \\\"\\\", \\\"\\\", \\\"\\\", \\\"\\\", \\\"\\\", \\\"\\\", \\\"r\\\", \\\"i\\\", \\\"m\\\", \\\"a\\\", \\\"\\\", \\\"l\\\"],  # 3\\n    [\\\"\\\", \\\"\\\", \\\"\\\", \\\"\\\", \\\"\\\", \\\"\\\", \\\"\\\", \\\"\\\", \\\"\\\", \\\"\\\", \\\"\\\", \\\"o\\\", \\\"b\\\", \\\"e\\\", \\\"y\\\"],  # 4\\n    [\\\"\\\", \\\"\\\", \\\"\\\", \\\"\\\", \\\"\\\", \\\"\\\", \\\"\\\", \\\"\\\", \\\"\\\", \\\"j\\\", \\\"u\\\", \\\"r\\\", \\\"a\\\", \\\"l\\\", \\\"\\\"],\\n    [\\\"\\\", \\\"\\\", \\\"\\\", \\\"\\\", \\\"\\\", \\\"\\\", \\\"\\\", \\\"b\\\", \\\"e\\\", \\\"e\\\", \\\"p\\\", \\\"\\\", \\\"\\\", \\\"\\\", \\\"\\\"],  # 6\\n    [\\\"\\\", \\\"\\\", \\\"\\\", \\\"\\\", \\\"\\\", \\\"\\\", \\\"y\\\", \\\"e\\\", \\\"w\\\", \\\"s\\\", \\\"\\\", \\\"t\\\", \\\"\\\", \\\"\\\", \\\"\\\"],\\n    [\\\"\\\", \\\"\\\", \\\"\\\", \\\"\\\", \\\"\\\", \\\"\\\", \\\"\\\", \\\"l\\\", \\\"e\\\", \\\"t\\\", \\\"c\\\", \\\"h\\\", \\\"\\\", \\\"\\\", \\\"\\\"],  # 8\\n    [\\\"\\\", \\\"\\\", \\\"\\\", \\\"\\\", \\\"h\\\", \\\"u\\\", \\\"r\\\", \\\"l\\\", \\\"\\\", \\\"\\\", \\\"\\\", \\\"i\\\", \\\"\\\", \\\"r\\\", \\\"\\\"],\\n    [\\\"\\\", \\\"\\\", \\\"\\\", \\\"\\\", \\\"\\\", \\\"\\\", \\\"e\\\", \\\"\\\", \\\"\\\", \\\"\\\", \\\"\\\", \\\"g\\\", \\\"\\\", \\\"e\\\", \\\"\\\"],  # 10\\n    [\\\"\\\", \\\"\\\", \\\"\\\", \\\"\\\", \\\"\\\", \\\"\\\", \\\"d\\\", \\\"\\\", \\\"\\\", \\\"\\\", \\\"\\\", \\\"h\\\", \\\"u\\\", \\\"e\\\", \\\"d\\\"],\\n    [\\\"\\\", \\\"\\\", \\\"\\\", \\\"\\\", \\\"\\\", \\\"\\\", \\\"\\\", \\\"\\\", \\\"\\\", \\\"\\\", \\\"\\\", \\\"\\\", \\\"\\\", \\\"f\\\", \\\"\\\"],  # 12\\n    [\\\"\\\", \\\"\\\", \\\"\\\", \\\"\\\", \\\"\\\", \\\"\\\", \\\"\\\", \\\"\\\", \\\"\\\", \\\"v\\\", \\\"e\\\", \\\"e\\\", \\\"p\\\", \\\"s\\\", \\\"\\\"],\\n    [\\\"\\\", \\\"\\\", \\\"\\\", \\\"\\\", \\\"\\\", \\\"\\\", \\\"\\\", \\\"\\\", \\\"n\\\", \\\"u\\\", \\\"n\\\", \\\"\\\", \\\"\\\", \\\"\\\", \\\"\\\"],  # 14\\n]\\nsample_board_letters = [\\\"o\\\", \\\"d\\\", \\\"a\\\", \\\"s\\\"]  # \\\"d\\\", \\\"d\\\", \\\"a\\\", \\\"r\\\"]\\n\\n# numpy of the board\\nboard_array = np.array(sample_board)\\n\\n# making the empty strings spaces\\nneat_sample_array = np.copy(board_array)\\nneat_sample_array[neat_sample_array == \\\"\\\"] = \\\" \\\"\";\n",
       "                var nbb_formatted_code = \"sample_board = [\\n    [\\\"\\\", \\\"\\\", \\\"\\\", \\\"\\\", \\\"\\\", \\\"\\\", \\\"\\\", \\\"\\\", \\\"\\\", \\\"\\\", \\\"\\\", \\\"e\\\", \\\"\\\", \\\"\\\", \\\"\\\"],  # 0\\n    [\\\"\\\", \\\"\\\", \\\"\\\", \\\"\\\", \\\"\\\", \\\"\\\", \\\"\\\", \\\"\\\", \\\"\\\", \\\"z\\\", \\\"o\\\", \\\"n\\\", \\\"a\\\", \\\"\\\", \\\"w\\\"],  # 1\\n    [\\\"\\\", \\\"\\\", \\\"\\\", \\\"\\\", \\\"\\\", \\\"\\\", \\\"\\\", \\\"\\\", \\\"\\\", \\\"\\\", \\\"\\\", \\\"a\\\", \\\"\\\", \\\"\\\", \\\"i\\\"],  # 2\\n    [\\\"\\\", \\\"\\\", \\\"\\\", \\\"\\\", \\\"\\\", \\\"\\\", \\\"\\\", \\\"\\\", \\\"\\\", \\\"r\\\", \\\"i\\\", \\\"m\\\", \\\"a\\\", \\\"\\\", \\\"l\\\"],  # 3\\n    [\\\"\\\", \\\"\\\", \\\"\\\", \\\"\\\", \\\"\\\", \\\"\\\", \\\"\\\", \\\"\\\", \\\"\\\", \\\"\\\", \\\"\\\", \\\"o\\\", \\\"b\\\", \\\"e\\\", \\\"y\\\"],  # 4\\n    [\\\"\\\", \\\"\\\", \\\"\\\", \\\"\\\", \\\"\\\", \\\"\\\", \\\"\\\", \\\"\\\", \\\"\\\", \\\"j\\\", \\\"u\\\", \\\"r\\\", \\\"a\\\", \\\"l\\\", \\\"\\\"],\\n    [\\\"\\\", \\\"\\\", \\\"\\\", \\\"\\\", \\\"\\\", \\\"\\\", \\\"\\\", \\\"b\\\", \\\"e\\\", \\\"e\\\", \\\"p\\\", \\\"\\\", \\\"\\\", \\\"\\\", \\\"\\\"],  # 6\\n    [\\\"\\\", \\\"\\\", \\\"\\\", \\\"\\\", \\\"\\\", \\\"\\\", \\\"y\\\", \\\"e\\\", \\\"w\\\", \\\"s\\\", \\\"\\\", \\\"t\\\", \\\"\\\", \\\"\\\", \\\"\\\"],\\n    [\\\"\\\", \\\"\\\", \\\"\\\", \\\"\\\", \\\"\\\", \\\"\\\", \\\"\\\", \\\"l\\\", \\\"e\\\", \\\"t\\\", \\\"c\\\", \\\"h\\\", \\\"\\\", \\\"\\\", \\\"\\\"],  # 8\\n    [\\\"\\\", \\\"\\\", \\\"\\\", \\\"\\\", \\\"h\\\", \\\"u\\\", \\\"r\\\", \\\"l\\\", \\\"\\\", \\\"\\\", \\\"\\\", \\\"i\\\", \\\"\\\", \\\"r\\\", \\\"\\\"],\\n    [\\\"\\\", \\\"\\\", \\\"\\\", \\\"\\\", \\\"\\\", \\\"\\\", \\\"e\\\", \\\"\\\", \\\"\\\", \\\"\\\", \\\"\\\", \\\"g\\\", \\\"\\\", \\\"e\\\", \\\"\\\"],  # 10\\n    [\\\"\\\", \\\"\\\", \\\"\\\", \\\"\\\", \\\"\\\", \\\"\\\", \\\"d\\\", \\\"\\\", \\\"\\\", \\\"\\\", \\\"\\\", \\\"h\\\", \\\"u\\\", \\\"e\\\", \\\"d\\\"],\\n    [\\\"\\\", \\\"\\\", \\\"\\\", \\\"\\\", \\\"\\\", \\\"\\\", \\\"\\\", \\\"\\\", \\\"\\\", \\\"\\\", \\\"\\\", \\\"\\\", \\\"\\\", \\\"f\\\", \\\"\\\"],  # 12\\n    [\\\"\\\", \\\"\\\", \\\"\\\", \\\"\\\", \\\"\\\", \\\"\\\", \\\"\\\", \\\"\\\", \\\"\\\", \\\"v\\\", \\\"e\\\", \\\"e\\\", \\\"p\\\", \\\"s\\\", \\\"\\\"],\\n    [\\\"\\\", \\\"\\\", \\\"\\\", \\\"\\\", \\\"\\\", \\\"\\\", \\\"\\\", \\\"\\\", \\\"n\\\", \\\"u\\\", \\\"n\\\", \\\"\\\", \\\"\\\", \\\"\\\", \\\"\\\"],  # 14\\n]\\nsample_board_letters = [\\\"o\\\", \\\"d\\\", \\\"a\\\", \\\"s\\\"]  # \\\"d\\\", \\\"d\\\", \\\"a\\\", \\\"r\\\"]\\n\\n# numpy of the board\\nboard_array = np.array(sample_board)\\n\\n# making the empty strings spaces\\nneat_sample_array = np.copy(board_array)\\nneat_sample_array[neat_sample_array == \\\"\\\"] = \\\" \\\"\";\n",
       "                var nbb_cells = Jupyter.notebook.get_cells();\n",
       "                for (var i = 0; i < nbb_cells.length; ++i) {\n",
       "                    if (nbb_cells[i].input_prompt_number == nbb_cell_id) {\n",
       "                        if (nbb_cells[i].get_text() == nbb_unformatted_code) {\n",
       "                             nbb_cells[i].set_text(nbb_formatted_code);\n",
       "                        }\n",
       "                        break;\n",
       "                    }\n",
       "                }\n",
       "            }, 500);\n",
       "            "
      ],
      "text/plain": [
       "<IPython.core.display.Javascript object>"
      ]
     },
     "metadata": {},
     "output_type": "display_data"
    }
   ],
   "source": [
    "sample_board = [\n",
    "    [\"\", \"\", \"\", \"\", \"\", \"\", \"\", \"\", \"\", \"\", \"\", \"e\", \"\", \"\", \"\"],  # 0\n",
    "    [\"\", \"\", \"\", \"\", \"\", \"\", \"\", \"\", \"\", \"z\", \"o\", \"n\", \"a\", \"\", \"w\"],  # 1\n",
    "    [\"\", \"\", \"\", \"\", \"\", \"\", \"\", \"\", \"\", \"\", \"\", \"a\", \"\", \"\", \"i\"],  # 2\n",
    "    [\"\", \"\", \"\", \"\", \"\", \"\", \"\", \"\", \"\", \"r\", \"i\", \"m\", \"a\", \"\", \"l\"],  # 3\n",
    "    [\"\", \"\", \"\", \"\", \"\", \"\", \"\", \"\", \"\", \"\", \"\", \"o\", \"b\", \"e\", \"y\"],  # 4\n",
    "    [\"\", \"\", \"\", \"\", \"\", \"\", \"\", \"\", \"\", \"j\", \"u\", \"r\", \"a\", \"l\", \"\"],\n",
    "    [\"\", \"\", \"\", \"\", \"\", \"\", \"\", \"b\", \"e\", \"e\", \"p\", \"\", \"\", \"\", \"\"],  # 6\n",
    "    [\"\", \"\", \"\", \"\", \"\", \"\", \"y\", \"e\", \"w\", \"s\", \"\", \"t\", \"\", \"\", \"\"],\n",
    "    [\"\", \"\", \"\", \"\", \"\", \"\", \"\", \"l\", \"e\", \"t\", \"c\", \"h\", \"\", \"\", \"\"],  # 8\n",
    "    [\"\", \"\", \"\", \"\", \"h\", \"u\", \"r\", \"l\", \"\", \"\", \"\", \"i\", \"\", \"r\", \"\"],\n",
    "    [\"\", \"\", \"\", \"\", \"\", \"\", \"e\", \"\", \"\", \"\", \"\", \"g\", \"\", \"e\", \"\"],  # 10\n",
    "    [\"\", \"\", \"\", \"\", \"\", \"\", \"d\", \"\", \"\", \"\", \"\", \"h\", \"u\", \"e\", \"d\"],\n",
    "    [\"\", \"\", \"\", \"\", \"\", \"\", \"\", \"\", \"\", \"\", \"\", \"\", \"\", \"f\", \"\"],  # 12\n",
    "    [\"\", \"\", \"\", \"\", \"\", \"\", \"\", \"\", \"\", \"v\", \"e\", \"e\", \"p\", \"s\", \"\"],\n",
    "    [\"\", \"\", \"\", \"\", \"\", \"\", \"\", \"\", \"n\", \"u\", \"n\", \"\", \"\", \"\", \"\"],  # 14\n",
    "]\n",
    "sample_board_letters = [\"o\", \"d\", \"a\", \"s\"]  # \"d\", \"d\", \"a\", \"r\"]\n",
    "\n",
    "# numpy of the board\n",
    "board_array = np.array(sample_board)\n",
    "\n",
    "# making the empty strings spaces\n",
    "neat_sample_array = np.copy(board_array)\n",
    "neat_sample_array[neat_sample_array == \"\"] = \" \"\n"
   ]
  },
  {
   "cell_type": "code",
   "execution_count": 4,
   "metadata": {},
   "outputs": [
    {
     "data": {
      "application/javascript": [
       "\n",
       "            setTimeout(function() {\n",
       "                var nbb_cell_id = 4;\n",
       "                var nbb_unformatted_code = \"class Scrabbler:\\n    data_path = \\\"../sowpods.txt\\\"\\n    with open(data_path, newline=\\\"\\\") as f:\\n        reader = csv.reader(f)\\n        allwords = list(reader)\\n    WORDLIST = list(itertools.chain.from_iterable(allwords))\\n    WORDLIST = [x.lower() for x in WORDLIST]\\n    WORDSET = set(WORDLIST)\\n    BOARD_LENGTH = 15\\n    MAX_I = 14\\n\\n    LETTER_MULTIPLIERS = [\\n        [1, 1, 1, 1, 1, 1, 3, 1, 3, 1, 1, 1, 1, 1, 1],  # 0\\n        [1, 1, 2, 1, 1, 1, 1, 1, 1, 1, 1, 1, 2, 1, 1],  # 1\\n        [1, 2, 1, 1, 2, 1, 1, 1, 1, 1, 2, 1, 1, 2, 1],  # 2\\n        [1, 1, 1, 3, 1, 1, 1, 1, 1, 1, 1, 3, 1, 1, 1],  # 3\\n        [1, 1, 2, 1, 1, 1, 2, 1, 2, 1, 1, 1, 2, 1, 1],  # 4\\n        [1, 1, 1, 1, 1, 3, 1, 1, 1, 3, 1, 1, 1, 1, 1],\\n        [3, 1, 1, 1, 2, 1, 1, 1, 1, 1, 2, 1, 1, 1, 3],  # 6\\n        [1, 1, 1, 1, 1, 1, 1, 1, 1, 1, 1, 1, 1, 1, 1],\\n        [3, 1, 1, 1, 2, 1, 1, 1, 1, 1, 2, 1, 1, 1, 3],  # 8\\n        [1, 1, 1, 1, 1, 3, 1, 1, 1, 3, 1, 1, 1, 1, 1],\\n        [1, 1, 2, 1, 1, 1, 2, 1, 2, 1, 1, 1, 2, 1, 1],  # 10\\n        [1, 1, 1, 3, 1, 1, 1, 1, 1, 1, 1, 3, 1, 1, 1],\\n        [1, 2, 1, 1, 2, 1, 1, 1, 1, 1, 2, 1, 1, 2, 1],  # 12\\n        [1, 1, 2, 1, 1, 1, 1, 1, 1, 1, 1, 1, 2, 1, 1],\\n        [1, 1, 1, 1, 1, 1, 3, 1, 3, 1, 1, 1, 1, 1, 1],  # 14\\n    ]\\n    LETTER_MULTIPLIERS_ARRAY = np.array(LETTER_MULTIPLIERS)\\n\\n    WORD_MULTIPLIERS = [\\n        [1, 1, 1, 3, 1, 1, 1, 1, 1, 1, 1, 3, 1, 1, 1],  # 0\\n        [1, 1, 1, 1, 1, 2, 1, 1, 1, 2, 1, 1, 1, 1, 1],  # 1\\n        [1, 1, 1, 1, 1, 1, 1, 1, 1, 1, 1, 1, 1, 1, 1],  # 2\\n        [3, 1, 1, 1, 1, 1, 1, 2, 1, 1, 1, 1, 1, 1, 3],  # 3\\n        [1, 1, 1, 1, 1, 1, 1, 1, 1, 1, 1, 1, 1, 1, 1],  # 4\\n        [1, 2, 1, 1, 1, 1, 1, 1, 1, 1, 1, 1, 1, 2, 1],\\n        [1, 1, 1, 1, 1, 1, 1, 1, 1, 1, 1, 1, 1, 1, 1],  # 6\\n        [1, 1, 1, 2, 1, 1, 1, 1, 1, 1, 1, 2, 1, 1, 1],\\n        [1, 1, 1, 1, 1, 1, 1, 1, 1, 1, 1, 1, 1, 1, 1],  # 8\\n        [1, 2, 1, 1, 1, 1, 1, 1, 1, 1, 1, 1, 1, 2, 1],\\n        [1, 1, 1, 1, 1, 1, 1, 1, 1, 1, 1, 1, 1, 1, 1],  # 10\\n        [3, 1, 1, 1, 1, 1, 1, 2, 1, 1, 1, 1, 1, 1, 3],\\n        [1, 1, 1, 1, 1, 1, 1, 1, 1, 1, 1, 1, 1, 1, 1],  # 12\\n        [1, 1, 1, 1, 1, 2, 1, 1, 1, 2, 1, 1, 1, 1, 1],\\n        [1, 1, 1, 3, 1, 1, 1, 1, 1, 1, 1, 3, 1, 1, 1],  # 14\\n    ]\\n    WORD_MULTIPLIERS_ARRAY = np.array(WORD_MULTIPLIERS)\\n\\n    TILE_SCORES = {\\n        \\\"a\\\": 1,\\n        \\\"b\\\": 4,\\n        \\\"c\\\": 4,\\n        \\\"d\\\": 2,\\n        \\\"e\\\": 1,\\n        \\\"f\\\": 4,\\n        \\\"g\\\": 3,\\n        \\\"h\\\": 3,\\n        \\\"i\\\": 1,\\n        \\\"j\\\": 10,\\n        \\\"k\\\": 5,\\n        \\\"l\\\": 2,\\n        \\\"m\\\": 4,\\n        \\\"n\\\": 2,\\n        \\\"o\\\": 1,\\n        \\\"p\\\": 4,\\n        \\\"q\\\": 10,\\n        \\\"r\\\": 1,\\n        \\\"s\\\": 1,\\n        \\\"t\\\": 1,\\n        \\\"u\\\": 2,\\n        \\\"v\\\": 5,\\n        \\\"w\\\": 4,\\n        \\\"x\\\": 8,\\n        \\\"y\\\": 3,\\n        \\\"z\\\": 10,\\n    }\\n\\n    def __init__(self, board, hand_letters):\\n        self.board = board\\n        self.hand_letters = hand_letters\\n        self.T_board = np.copy(board).transpose()  # TODO: should this be here?\\n\\n    # Navigator functions\\n    def check_yx(self, y, x):\\n        if x > -1 and x < 15 and y > -1 and y < 15:\\n            return bool(self.board[y, x])\\n        else:\\n            return \\\"out\\\"\\n\\n    def check_right(self, y, x):\\n        if x < self.BOARD_LENGTH - 1:\\n            return bool(self.board[y, x + 1]), self.board[y, x + 1]\\n        else:\\n            return \\\"out\\\"\\n\\n    def check_left(self, y, x):\\n        if x > 0:\\n            return bool(self.board[y, x - 1]), self.board[y, x - 1]\\n        else:\\n            return \\\"out\\\"\\n\\n    def check_above(self, y, x):\\n        if y > 0:\\n            return bool(self.board[y - 1, x]), self.board[y - 1, x]\\n        else:\\n            return \\\"out\\\"\\n\\n    def check_below(self, y, x):\\n        if y < self.BOARD_LENGTH - 1:\\n            return bool(self.board[y + 1, x]), self.board[y + 1, x]\\n        else:\\n            return \\\"out\\\"\\n\\n    # For potential words of a given length\\n    # start at the left, travel right (keep track of empties) till you hit a letter\\n    def hand_letter_permutations(self, length):\\n        # this returns a list of permutations of the hand letters of a given length\\n        letter_permutations = list(itertools.permutations(self.hand_letters, length))\\n        return letter_permutations\\n\\n    def row_permutations(self, row):\\n        y = row\\n        board_row = self.board[row]\\n        no_hand_letters = len(self.hand_letters)\\n        no_pre_filled = sum(list(map(bool, board_row)))\\n        row_perms_dict = {}\\n        if no_pre_filled > 0:\\n            for perm_len in range(1, no_hand_letters + 1):\\n                hand_perms = self.hand_letter_permutations(perm_len)\\n                # for x in range(0, BOARD_LENGTH-(len(self.hand_letters)-1)-no_pre_filled):\\n                # x=0\\n                no_tiles_to_right = no_pre_filled\\n                for hand_perm in hand_perms:\\n                    # while x + no_tiles_to_right+perm_len<self.BOARD_LENGTH:\\n                    x = 0\\n                    if (\\n                        self.check_yx(y, x) == False\\n                    ):  # and sum(list(map(bool,board_row[x:x+no_hand_letters])))\\n                        # for hand_perm in hand_perms:\\n                        while True:\\n                            # TODO check this\\n                            if (\\n                                any(\\n                                    board_row[max(0, x - 1) : min(x + perm_len + 1, 14)]\\n                                )\\n                                == True\\n                            ):\\n                                complete_word, word_y, word_x = self.complete_word_y_x(\\n                                    row, x, hand_perm\\n                                )\\n                                if complete_word == []:\\n                                    break\\n                                elif len(complete_word) > perm_len:\\n                                    # TODO: could leave out the part after the and below and delete duplicates later\\n                                    # TODO: could indicate the length of the original perm\\n                                    if (\\n                                        complete_word in row_perms_dict\\n                                        and [word_y, word_x]\\n                                        not in row_perms_dict[complete_word]\\n                                    ):\\n                                        row_perms_dict[complete_word].append(\\n                                            [word_y, word_x]\\n                                        )\\n                                    else:\\n                                        row_perms_dict[complete_word] = [\\n                                            [word_y, word_x]\\n                                        ]\\n                            x = x + 1\\n                            if x == self.BOARD_LENGTH:\\n                                break\\n                    # no_tiles_to_right=sum(list(map(bool,board_row[x+1:])))#TODO: +1 here?\\n        return row_perms_dict\\n\\n    # fill the next len(hand_perm) spaces with hand tiles and find the connecting words\\n    # row=y\\n    def complete_word_y_x(self, row, x, hand_perm):\\n        hand_perm = list(hand_perm)\\n        perm_len = len(hand_perm)\\n        X = x\\n        board_row = self.board[row]\\n        y = row\\n        no_filled = 0\\n        filled_tiles = []\\n        left_letters = []\\n        right_letters = []\\n        while self.check_left(y, x)[0] == True:\\n            x = x - 1\\n            left_letters = left_letters + [board_row[x]]\\n        left_letters = left_letters[::-1]\\n        x = X\\n        while no_filled < perm_len:\\n            if self.check_yx(y, x) == True:\\n                filled_tiles = filled_tiles + [board_row[x]]\\n            elif self.check_yx(y, x) == \\\"out\\\":\\n                return [], [], []\\n            elif self.check_yx(y, x) == False:\\n                new_tile = hand_perm.pop(0)\\n                filled_tiles = filled_tiles + [new_tile]\\n                no_filled = no_filled + 1\\n            x = x + 1\\n        x = x - 1\\n        while self.check_right(y, x)[0] == True:\\n            x = x + 1\\n            right_letters = right_letters + [board_row[x]]\\n        complete_word_as_list = left_letters + filled_tiles + right_letters\\n        word_x = X - len(left_letters)\\n        complete_word = \\\"\\\".join(complete_word_as_list)\\n        return complete_word, y, word_x\\n\\n    # Find the crossing words for a given complete_word_y_x info\\n    def find_crosses(self, complete_word, y, x):\\n        crossing_words = set()\\n        count = 0\\n        for tile in complete_word:\\n            # TODO: don't think I need this if part, only the last part and len(crossing_word)>1\\n            if (\\n                self.check_above(y, x)[0] == True or self.check_below(y, x)[0] == True\\n            ) and self.board[y, x] != tile:\\n                crossing_word, T_y, T_x = self.crossing_words_at_tile(tile, y, x)\\n                if len(crossing_word) > 1:\\n                    crossing_words.add((crossing_word, T_y, T_x))\\n\\n            # TODO: not sure if I need all this stuff about edge_letter\\n            #             if self.board[y, x] != tile:\\n            #                 count = count + 1\\n            #                 edge_letter = tile\\n            #                 edge_x = x\\n            #                 edge_y = y\\n\\n            x = x + 1\\n        # TODO fix this?\\n        #         if count == 1 and len(crossing_words) == 0:\\n        #             crossing_words.add((edge_letter, edge_y, edge_x))\\n        if len(crossing_words) == 0:\\n            crossing_words.add((\\\"\\\", -1, -1))\\n        return crossing_words\\n\\n    # Enter a tile and its location and return the crosses that it makes\\n    def crossing_words_at_tile(self, tile, y, x):\\n        # We will be using the transpose board so y and x are switched\\n        self.board = self.board.transpose()\\n        y, x = x, y\\n        crossing_word, T_y, T_x = self.complete_word_y_x(y, x, (tile))\\n        self.board = self.board.transpose()\\n        return crossing_word, T_y, T_x\\n\\n    # insert the \\\"hook letter\\\" into a shadow board and find the output connected to that\\n    # assume the board has already been transposed and you are operating with the right y and x\\n    def edge_perms(self, hook_letter, y, x):\\n        self.board[y, x] = hook_letter\\n        self.hand_letters.remove(hook_letter)\\n        shadow_row_perms = self.row_permutations(y)\\n        edge_perms_dict = {\\n            k: v\\n            for (k, v) in shadow_row_perms.items()\\n            if v[0][1] <= x\\n            and v[0][1] + len(k)\\n            >= x  # TODO: see if I really need to put out a nested list here\\n        }\\n\\n        self.hand_letters.append(hook_letter)\\n        self.board[y, x] = \\\"\\\"\\n        return edge_perms_dict\\n\\n    def find_valid_words(self):\\n        # perms_set = set()\\n        crossing_set = set()\\n        # board_perm_dict={}\\n        board_perm_dict = defaultdict(list)\\n\\n        for row in range(0, self.BOARD_LENGTH):\\n            row_perms = self.row_permutations(row)\\n            #Probably going to need to combine dictionaries the old school way\\n            #             for key in row_perms.keys():\\n            #                 perms_set.add(key)\\n            for d in (board_perm_dict, row_perms):\\n                for key, value in d.items():\\n                    board_perm_dict[key].append(value)\\n        perms_set = set(dict(board_perm_dict).keys())\\n        valid_perms = self.WORDSET.intersection(perms_set)\\n        valid_perms_dict = {\\n            k: v for (k, v) in dict(board_perm_dict).items() if k in valid_perms\\n        }  # todo: work on the dictionary\\n        return valid_perms_dict\\n        # use the perms to find crossings\";\n",
       "                var nbb_formatted_code = \"class Scrabbler:\\n    data_path = \\\"../sowpods.txt\\\"\\n    with open(data_path, newline=\\\"\\\") as f:\\n        reader = csv.reader(f)\\n        allwords = list(reader)\\n    WORDLIST = list(itertools.chain.from_iterable(allwords))\\n    WORDLIST = [x.lower() for x in WORDLIST]\\n    WORDSET = set(WORDLIST)\\n    BOARD_LENGTH = 15\\n    MAX_I = 14\\n\\n    LETTER_MULTIPLIERS = [\\n        [1, 1, 1, 1, 1, 1, 3, 1, 3, 1, 1, 1, 1, 1, 1],  # 0\\n        [1, 1, 2, 1, 1, 1, 1, 1, 1, 1, 1, 1, 2, 1, 1],  # 1\\n        [1, 2, 1, 1, 2, 1, 1, 1, 1, 1, 2, 1, 1, 2, 1],  # 2\\n        [1, 1, 1, 3, 1, 1, 1, 1, 1, 1, 1, 3, 1, 1, 1],  # 3\\n        [1, 1, 2, 1, 1, 1, 2, 1, 2, 1, 1, 1, 2, 1, 1],  # 4\\n        [1, 1, 1, 1, 1, 3, 1, 1, 1, 3, 1, 1, 1, 1, 1],\\n        [3, 1, 1, 1, 2, 1, 1, 1, 1, 1, 2, 1, 1, 1, 3],  # 6\\n        [1, 1, 1, 1, 1, 1, 1, 1, 1, 1, 1, 1, 1, 1, 1],\\n        [3, 1, 1, 1, 2, 1, 1, 1, 1, 1, 2, 1, 1, 1, 3],  # 8\\n        [1, 1, 1, 1, 1, 3, 1, 1, 1, 3, 1, 1, 1, 1, 1],\\n        [1, 1, 2, 1, 1, 1, 2, 1, 2, 1, 1, 1, 2, 1, 1],  # 10\\n        [1, 1, 1, 3, 1, 1, 1, 1, 1, 1, 1, 3, 1, 1, 1],\\n        [1, 2, 1, 1, 2, 1, 1, 1, 1, 1, 2, 1, 1, 2, 1],  # 12\\n        [1, 1, 2, 1, 1, 1, 1, 1, 1, 1, 1, 1, 2, 1, 1],\\n        [1, 1, 1, 1, 1, 1, 3, 1, 3, 1, 1, 1, 1, 1, 1],  # 14\\n    ]\\n    LETTER_MULTIPLIERS_ARRAY = np.array(LETTER_MULTIPLIERS)\\n\\n    WORD_MULTIPLIERS = [\\n        [1, 1, 1, 3, 1, 1, 1, 1, 1, 1, 1, 3, 1, 1, 1],  # 0\\n        [1, 1, 1, 1, 1, 2, 1, 1, 1, 2, 1, 1, 1, 1, 1],  # 1\\n        [1, 1, 1, 1, 1, 1, 1, 1, 1, 1, 1, 1, 1, 1, 1],  # 2\\n        [3, 1, 1, 1, 1, 1, 1, 2, 1, 1, 1, 1, 1, 1, 3],  # 3\\n        [1, 1, 1, 1, 1, 1, 1, 1, 1, 1, 1, 1, 1, 1, 1],  # 4\\n        [1, 2, 1, 1, 1, 1, 1, 1, 1, 1, 1, 1, 1, 2, 1],\\n        [1, 1, 1, 1, 1, 1, 1, 1, 1, 1, 1, 1, 1, 1, 1],  # 6\\n        [1, 1, 1, 2, 1, 1, 1, 1, 1, 1, 1, 2, 1, 1, 1],\\n        [1, 1, 1, 1, 1, 1, 1, 1, 1, 1, 1, 1, 1, 1, 1],  # 8\\n        [1, 2, 1, 1, 1, 1, 1, 1, 1, 1, 1, 1, 1, 2, 1],\\n        [1, 1, 1, 1, 1, 1, 1, 1, 1, 1, 1, 1, 1, 1, 1],  # 10\\n        [3, 1, 1, 1, 1, 1, 1, 2, 1, 1, 1, 1, 1, 1, 3],\\n        [1, 1, 1, 1, 1, 1, 1, 1, 1, 1, 1, 1, 1, 1, 1],  # 12\\n        [1, 1, 1, 1, 1, 2, 1, 1, 1, 2, 1, 1, 1, 1, 1],\\n        [1, 1, 1, 3, 1, 1, 1, 1, 1, 1, 1, 3, 1, 1, 1],  # 14\\n    ]\\n    WORD_MULTIPLIERS_ARRAY = np.array(WORD_MULTIPLIERS)\\n\\n    TILE_SCORES = {\\n        \\\"a\\\": 1,\\n        \\\"b\\\": 4,\\n        \\\"c\\\": 4,\\n        \\\"d\\\": 2,\\n        \\\"e\\\": 1,\\n        \\\"f\\\": 4,\\n        \\\"g\\\": 3,\\n        \\\"h\\\": 3,\\n        \\\"i\\\": 1,\\n        \\\"j\\\": 10,\\n        \\\"k\\\": 5,\\n        \\\"l\\\": 2,\\n        \\\"m\\\": 4,\\n        \\\"n\\\": 2,\\n        \\\"o\\\": 1,\\n        \\\"p\\\": 4,\\n        \\\"q\\\": 10,\\n        \\\"r\\\": 1,\\n        \\\"s\\\": 1,\\n        \\\"t\\\": 1,\\n        \\\"u\\\": 2,\\n        \\\"v\\\": 5,\\n        \\\"w\\\": 4,\\n        \\\"x\\\": 8,\\n        \\\"y\\\": 3,\\n        \\\"z\\\": 10,\\n    }\\n\\n    def __init__(self, board, hand_letters):\\n        self.board = board\\n        self.hand_letters = hand_letters\\n        self.T_board = np.copy(board).transpose()  # TODO: should this be here?\\n\\n    # Navigator functions\\n    def check_yx(self, y, x):\\n        if x > -1 and x < 15 and y > -1 and y < 15:\\n            return bool(self.board[y, x])\\n        else:\\n            return \\\"out\\\"\\n\\n    def check_right(self, y, x):\\n        if x < self.BOARD_LENGTH - 1:\\n            return bool(self.board[y, x + 1]), self.board[y, x + 1]\\n        else:\\n            return \\\"out\\\"\\n\\n    def check_left(self, y, x):\\n        if x > 0:\\n            return bool(self.board[y, x - 1]), self.board[y, x - 1]\\n        else:\\n            return \\\"out\\\"\\n\\n    def check_above(self, y, x):\\n        if y > 0:\\n            return bool(self.board[y - 1, x]), self.board[y - 1, x]\\n        else:\\n            return \\\"out\\\"\\n\\n    def check_below(self, y, x):\\n        if y < self.BOARD_LENGTH - 1:\\n            return bool(self.board[y + 1, x]), self.board[y + 1, x]\\n        else:\\n            return \\\"out\\\"\\n\\n    # For potential words of a given length\\n    # start at the left, travel right (keep track of empties) till you hit a letter\\n    def hand_letter_permutations(self, length):\\n        # this returns a list of permutations of the hand letters of a given length\\n        letter_permutations = list(itertools.permutations(self.hand_letters, length))\\n        return letter_permutations\\n\\n    def row_permutations(self, row):\\n        y = row\\n        board_row = self.board[row]\\n        no_hand_letters = len(self.hand_letters)\\n        no_pre_filled = sum(list(map(bool, board_row)))\\n        row_perms_dict = {}\\n        if no_pre_filled > 0:\\n            for perm_len in range(1, no_hand_letters + 1):\\n                hand_perms = self.hand_letter_permutations(perm_len)\\n                # for x in range(0, BOARD_LENGTH-(len(self.hand_letters)-1)-no_pre_filled):\\n                # x=0\\n                no_tiles_to_right = no_pre_filled\\n                for hand_perm in hand_perms:\\n                    # while x + no_tiles_to_right+perm_len<self.BOARD_LENGTH:\\n                    x = 0\\n                    if (\\n                        self.check_yx(y, x) == False\\n                    ):  # and sum(list(map(bool,board_row[x:x+no_hand_letters])))\\n                        # for hand_perm in hand_perms:\\n                        while True:\\n                            # TODO check this\\n                            if (\\n                                any(\\n                                    board_row[max(0, x - 1) : min(x + perm_len + 1, 14)]\\n                                )\\n                                == True\\n                            ):\\n                                complete_word, word_y, word_x = self.complete_word_y_x(\\n                                    row, x, hand_perm\\n                                )\\n                                if complete_word == []:\\n                                    break\\n                                elif len(complete_word) > perm_len:\\n                                    # TODO: could leave out the part after the and below and delete duplicates later\\n                                    # TODO: could indicate the length of the original perm\\n                                    if (\\n                                        complete_word in row_perms_dict\\n                                        and [word_y, word_x]\\n                                        not in row_perms_dict[complete_word]\\n                                    ):\\n                                        row_perms_dict[complete_word].append(\\n                                            [word_y, word_x]\\n                                        )\\n                                    else:\\n                                        row_perms_dict[complete_word] = [\\n                                            [word_y, word_x]\\n                                        ]\\n                            x = x + 1\\n                            if x == self.BOARD_LENGTH:\\n                                break\\n                    # no_tiles_to_right=sum(list(map(bool,board_row[x+1:])))#TODO: +1 here?\\n        return row_perms_dict\\n\\n    # fill the next len(hand_perm) spaces with hand tiles and find the connecting words\\n    # row=y\\n    def complete_word_y_x(self, row, x, hand_perm):\\n        hand_perm = list(hand_perm)\\n        perm_len = len(hand_perm)\\n        X = x\\n        board_row = self.board[row]\\n        y = row\\n        no_filled = 0\\n        filled_tiles = []\\n        left_letters = []\\n        right_letters = []\\n        while self.check_left(y, x)[0] == True:\\n            x = x - 1\\n            left_letters = left_letters + [board_row[x]]\\n        left_letters = left_letters[::-1]\\n        x = X\\n        while no_filled < perm_len:\\n            if self.check_yx(y, x) == True:\\n                filled_tiles = filled_tiles + [board_row[x]]\\n            elif self.check_yx(y, x) == \\\"out\\\":\\n                return [], [], []\\n            elif self.check_yx(y, x) == False:\\n                new_tile = hand_perm.pop(0)\\n                filled_tiles = filled_tiles + [new_tile]\\n                no_filled = no_filled + 1\\n            x = x + 1\\n        x = x - 1\\n        while self.check_right(y, x)[0] == True:\\n            x = x + 1\\n            right_letters = right_letters + [board_row[x]]\\n        complete_word_as_list = left_letters + filled_tiles + right_letters\\n        word_x = X - len(left_letters)\\n        complete_word = \\\"\\\".join(complete_word_as_list)\\n        return complete_word, y, word_x\\n\\n    # Find the crossing words for a given complete_word_y_x info\\n    def find_crosses(self, complete_word, y, x):\\n        crossing_words = set()\\n        count = 0\\n        for tile in complete_word:\\n            # TODO: don't think I need this if part, only the last part and len(crossing_word)>1\\n            if (\\n                self.check_above(y, x)[0] == True or self.check_below(y, x)[0] == True\\n            ) and self.board[y, x] != tile:\\n                crossing_word, T_y, T_x = self.crossing_words_at_tile(tile, y, x)\\n                if len(crossing_word) > 1:\\n                    crossing_words.add((crossing_word, T_y, T_x))\\n\\n            # TODO: not sure if I need all this stuff about edge_letter\\n            #             if self.board[y, x] != tile:\\n            #                 count = count + 1\\n            #                 edge_letter = tile\\n            #                 edge_x = x\\n            #                 edge_y = y\\n\\n            x = x + 1\\n        # TODO fix this?\\n        #         if count == 1 and len(crossing_words) == 0:\\n        #             crossing_words.add((edge_letter, edge_y, edge_x))\\n        if len(crossing_words) == 0:\\n            crossing_words.add((\\\"\\\", -1, -1))\\n        return crossing_words\\n\\n    # Enter a tile and its location and return the crosses that it makes\\n    def crossing_words_at_tile(self, tile, y, x):\\n        # We will be using the transpose board so y and x are switched\\n        self.board = self.board.transpose()\\n        y, x = x, y\\n        crossing_word, T_y, T_x = self.complete_word_y_x(y, x, (tile))\\n        self.board = self.board.transpose()\\n        return crossing_word, T_y, T_x\\n\\n    # insert the \\\"hook letter\\\" into a shadow board and find the output connected to that\\n    # assume the board has already been transposed and you are operating with the right y and x\\n    def edge_perms(self, hook_letter, y, x):\\n        self.board[y, x] = hook_letter\\n        self.hand_letters.remove(hook_letter)\\n        shadow_row_perms = self.row_permutations(y)\\n        edge_perms_dict = {\\n            k: v\\n            for (k, v) in shadow_row_perms.items()\\n            if v[0][1] <= x\\n            and v[0][1] + len(k)\\n            >= x  # TODO: see if I really need to put out a nested list here\\n        }\\n\\n        self.hand_letters.append(hook_letter)\\n        self.board[y, x] = \\\"\\\"\\n        return edge_perms_dict\\n\\n    def find_valid_words(self):\\n        # perms_set = set()\\n        crossing_set = set()\\n        # board_perm_dict={}\\n        board_perm_dict = defaultdict(list)\\n\\n        for row in range(0, self.BOARD_LENGTH):\\n            row_perms = self.row_permutations(row)\\n            # Probably going to need to combine dictionaries the old school way\\n            #             for key in row_perms.keys():\\n            #                 perms_set.add(key)\\n            for d in (board_perm_dict, row_perms):\\n                for key, value in d.items():\\n                    board_perm_dict[key].append(value)\\n        perms_set = set(dict(board_perm_dict).keys())\\n        valid_perms = self.WORDSET.intersection(perms_set)\\n        valid_perms_dict = {\\n            k: v for (k, v) in dict(board_perm_dict).items() if k in valid_perms\\n        }  # todo: work on the dictionary\\n        return valid_perms_dict\\n        # use the perms to find crossings\";\n",
       "                var nbb_cells = Jupyter.notebook.get_cells();\n",
       "                for (var i = 0; i < nbb_cells.length; ++i) {\n",
       "                    if (nbb_cells[i].input_prompt_number == nbb_cell_id) {\n",
       "                        if (nbb_cells[i].get_text() == nbb_unformatted_code) {\n",
       "                             nbb_cells[i].set_text(nbb_formatted_code);\n",
       "                        }\n",
       "                        break;\n",
       "                    }\n",
       "                }\n",
       "            }, 500);\n",
       "            "
      ],
      "text/plain": [
       "<IPython.core.display.Javascript object>"
      ]
     },
     "metadata": {},
     "output_type": "display_data"
    }
   ],
   "source": [
    "class Scrabbler:\n",
    "    data_path = \"../sowpods.txt\"\n",
    "    with open(data_path, newline=\"\") as f:\n",
    "        reader = csv.reader(f)\n",
    "        allwords = list(reader)\n",
    "    WORDLIST = list(itertools.chain.from_iterable(allwords))\n",
    "    WORDLIST = [x.lower() for x in WORDLIST]\n",
    "    WORDSET = set(WORDLIST)\n",
    "    BOARD_LENGTH = 15\n",
    "    MAX_I = 14\n",
    "\n",
    "    LETTER_MULTIPLIERS = [\n",
    "        [1, 1, 1, 1, 1, 1, 3, 1, 3, 1, 1, 1, 1, 1, 1],  # 0\n",
    "        [1, 1, 2, 1, 1, 1, 1, 1, 1, 1, 1, 1, 2, 1, 1],  # 1\n",
    "        [1, 2, 1, 1, 2, 1, 1, 1, 1, 1, 2, 1, 1, 2, 1],  # 2\n",
    "        [1, 1, 1, 3, 1, 1, 1, 1, 1, 1, 1, 3, 1, 1, 1],  # 3\n",
    "        [1, 1, 2, 1, 1, 1, 2, 1, 2, 1, 1, 1, 2, 1, 1],  # 4\n",
    "        [1, 1, 1, 1, 1, 3, 1, 1, 1, 3, 1, 1, 1, 1, 1],\n",
    "        [3, 1, 1, 1, 2, 1, 1, 1, 1, 1, 2, 1, 1, 1, 3],  # 6\n",
    "        [1, 1, 1, 1, 1, 1, 1, 1, 1, 1, 1, 1, 1, 1, 1],\n",
    "        [3, 1, 1, 1, 2, 1, 1, 1, 1, 1, 2, 1, 1, 1, 3],  # 8\n",
    "        [1, 1, 1, 1, 1, 3, 1, 1, 1, 3, 1, 1, 1, 1, 1],\n",
    "        [1, 1, 2, 1, 1, 1, 2, 1, 2, 1, 1, 1, 2, 1, 1],  # 10\n",
    "        [1, 1, 1, 3, 1, 1, 1, 1, 1, 1, 1, 3, 1, 1, 1],\n",
    "        [1, 2, 1, 1, 2, 1, 1, 1, 1, 1, 2, 1, 1, 2, 1],  # 12\n",
    "        [1, 1, 2, 1, 1, 1, 1, 1, 1, 1, 1, 1, 2, 1, 1],\n",
    "        [1, 1, 1, 1, 1, 1, 3, 1, 3, 1, 1, 1, 1, 1, 1],  # 14\n",
    "    ]\n",
    "    LETTER_MULTIPLIERS_ARRAY = np.array(LETTER_MULTIPLIERS)\n",
    "\n",
    "    WORD_MULTIPLIERS = [\n",
    "        [1, 1, 1, 3, 1, 1, 1, 1, 1, 1, 1, 3, 1, 1, 1],  # 0\n",
    "        [1, 1, 1, 1, 1, 2, 1, 1, 1, 2, 1, 1, 1, 1, 1],  # 1\n",
    "        [1, 1, 1, 1, 1, 1, 1, 1, 1, 1, 1, 1, 1, 1, 1],  # 2\n",
    "        [3, 1, 1, 1, 1, 1, 1, 2, 1, 1, 1, 1, 1, 1, 3],  # 3\n",
    "        [1, 1, 1, 1, 1, 1, 1, 1, 1, 1, 1, 1, 1, 1, 1],  # 4\n",
    "        [1, 2, 1, 1, 1, 1, 1, 1, 1, 1, 1, 1, 1, 2, 1],\n",
    "        [1, 1, 1, 1, 1, 1, 1, 1, 1, 1, 1, 1, 1, 1, 1],  # 6\n",
    "        [1, 1, 1, 2, 1, 1, 1, 1, 1, 1, 1, 2, 1, 1, 1],\n",
    "        [1, 1, 1, 1, 1, 1, 1, 1, 1, 1, 1, 1, 1, 1, 1],  # 8\n",
    "        [1, 2, 1, 1, 1, 1, 1, 1, 1, 1, 1, 1, 1, 2, 1],\n",
    "        [1, 1, 1, 1, 1, 1, 1, 1, 1, 1, 1, 1, 1, 1, 1],  # 10\n",
    "        [3, 1, 1, 1, 1, 1, 1, 2, 1, 1, 1, 1, 1, 1, 3],\n",
    "        [1, 1, 1, 1, 1, 1, 1, 1, 1, 1, 1, 1, 1, 1, 1],  # 12\n",
    "        [1, 1, 1, 1, 1, 2, 1, 1, 1, 2, 1, 1, 1, 1, 1],\n",
    "        [1, 1, 1, 3, 1, 1, 1, 1, 1, 1, 1, 3, 1, 1, 1],  # 14\n",
    "    ]\n",
    "    WORD_MULTIPLIERS_ARRAY = np.array(WORD_MULTIPLIERS)\n",
    "\n",
    "    TILE_SCORES = {\n",
    "        \"a\": 1,\n",
    "        \"b\": 4,\n",
    "        \"c\": 4,\n",
    "        \"d\": 2,\n",
    "        \"e\": 1,\n",
    "        \"f\": 4,\n",
    "        \"g\": 3,\n",
    "        \"h\": 3,\n",
    "        \"i\": 1,\n",
    "        \"j\": 10,\n",
    "        \"k\": 5,\n",
    "        \"l\": 2,\n",
    "        \"m\": 4,\n",
    "        \"n\": 2,\n",
    "        \"o\": 1,\n",
    "        \"p\": 4,\n",
    "        \"q\": 10,\n",
    "        \"r\": 1,\n",
    "        \"s\": 1,\n",
    "        \"t\": 1,\n",
    "        \"u\": 2,\n",
    "        \"v\": 5,\n",
    "        \"w\": 4,\n",
    "        \"x\": 8,\n",
    "        \"y\": 3,\n",
    "        \"z\": 10,\n",
    "    }\n",
    "\n",
    "    def __init__(self, board, hand_letters):\n",
    "        self.board = board\n",
    "        self.hand_letters = hand_letters\n",
    "        self.T_board = np.copy(board).transpose()  # TODO: should this be here?\n",
    "\n",
    "    # Navigator functions\n",
    "    def check_yx(self, y, x):\n",
    "        if x > -1 and x < 15 and y > -1 and y < 15:\n",
    "            return bool(self.board[y, x])\n",
    "        else:\n",
    "            return \"out\"\n",
    "\n",
    "    def check_right(self, y, x):\n",
    "        if x < self.BOARD_LENGTH - 1:\n",
    "            return bool(self.board[y, x + 1]), self.board[y, x + 1]\n",
    "        else:\n",
    "            return \"out\"\n",
    "\n",
    "    def check_left(self, y, x):\n",
    "        if x > 0:\n",
    "            return bool(self.board[y, x - 1]), self.board[y, x - 1]\n",
    "        else:\n",
    "            return \"out\"\n",
    "\n",
    "    def check_above(self, y, x):\n",
    "        if y > 0:\n",
    "            return bool(self.board[y - 1, x]), self.board[y - 1, x]\n",
    "        else:\n",
    "            return \"out\"\n",
    "\n",
    "    def check_below(self, y, x):\n",
    "        if y < self.BOARD_LENGTH - 1:\n",
    "            return bool(self.board[y + 1, x]), self.board[y + 1, x]\n",
    "        else:\n",
    "            return \"out\"\n",
    "\n",
    "    # For potential words of a given length\n",
    "    # start at the left, travel right (keep track of empties) till you hit a letter\n",
    "    def hand_letter_permutations(self, length):\n",
    "        # this returns a list of permutations of the hand letters of a given length\n",
    "        letter_permutations = list(itertools.permutations(self.hand_letters, length))\n",
    "        return letter_permutations\n",
    "\n",
    "    def row_permutations(self, row):\n",
    "        y = row\n",
    "        board_row = self.board[row]\n",
    "        no_hand_letters = len(self.hand_letters)\n",
    "        no_pre_filled = sum(list(map(bool, board_row)))\n",
    "        row_perms_dict = {}\n",
    "        if no_pre_filled > 0:\n",
    "            for perm_len in range(1, no_hand_letters + 1):\n",
    "                hand_perms = self.hand_letter_permutations(perm_len)\n",
    "                # for x in range(0, BOARD_LENGTH-(len(self.hand_letters)-1)-no_pre_filled):\n",
    "                # x=0\n",
    "                no_tiles_to_right = no_pre_filled\n",
    "                for hand_perm in hand_perms:\n",
    "                    # while x + no_tiles_to_right+perm_len<self.BOARD_LENGTH:\n",
    "                    x = 0\n",
    "                    if (\n",
    "                        self.check_yx(y, x) == False\n",
    "                    ):  # and sum(list(map(bool,board_row[x:x+no_hand_letters])))\n",
    "                        # for hand_perm in hand_perms:\n",
    "                        while True:\n",
    "                            # TODO check this\n",
    "                            if (\n",
    "                                any(\n",
    "                                    board_row[max(0, x - 1) : min(x + perm_len + 1, 14)]\n",
    "                                )\n",
    "                                == True\n",
    "                            ):\n",
    "                                complete_word, word_y, word_x = self.complete_word_y_x(\n",
    "                                    row, x, hand_perm\n",
    "                                )\n",
    "                                if complete_word == []:\n",
    "                                    break\n",
    "                                elif len(complete_word) > perm_len:\n",
    "                                    # TODO: could leave out the part after the and below and delete duplicates later\n",
    "                                    # TODO: could indicate the length of the original perm\n",
    "                                    if (\n",
    "                                        complete_word in row_perms_dict\n",
    "                                        and [word_y, word_x]\n",
    "                                        not in row_perms_dict[complete_word]\n",
    "                                    ):\n",
    "                                        row_perms_dict[complete_word].append(\n",
    "                                            [word_y, word_x]\n",
    "                                        )\n",
    "                                    else:\n",
    "                                        row_perms_dict[complete_word] = [\n",
    "                                            [word_y, word_x]\n",
    "                                        ]\n",
    "                            x = x + 1\n",
    "                            if x == self.BOARD_LENGTH:\n",
    "                                break\n",
    "                    # no_tiles_to_right=sum(list(map(bool,board_row[x+1:])))#TODO: +1 here?\n",
    "        return row_perms_dict\n",
    "\n",
    "    # fill the next len(hand_perm) spaces with hand tiles and find the connecting words\n",
    "    # row=y\n",
    "    def complete_word_y_x(self, row, x, hand_perm):\n",
    "        hand_perm = list(hand_perm)\n",
    "        perm_len = len(hand_perm)\n",
    "        X = x\n",
    "        board_row = self.board[row]\n",
    "        y = row\n",
    "        no_filled = 0\n",
    "        filled_tiles = []\n",
    "        left_letters = []\n",
    "        right_letters = []\n",
    "        while self.check_left(y, x)[0] == True:\n",
    "            x = x - 1\n",
    "            left_letters = left_letters + [board_row[x]]\n",
    "        left_letters = left_letters[::-1]\n",
    "        x = X\n",
    "        while no_filled < perm_len:\n",
    "            if self.check_yx(y, x) == True:\n",
    "                filled_tiles = filled_tiles + [board_row[x]]\n",
    "            elif self.check_yx(y, x) == \"out\":\n",
    "                return [], [], []\n",
    "            elif self.check_yx(y, x) == False:\n",
    "                new_tile = hand_perm.pop(0)\n",
    "                filled_tiles = filled_tiles + [new_tile]\n",
    "                no_filled = no_filled + 1\n",
    "            x = x + 1\n",
    "        x = x - 1\n",
    "        while self.check_right(y, x)[0] == True:\n",
    "            x = x + 1\n",
    "            right_letters = right_letters + [board_row[x]]\n",
    "        complete_word_as_list = left_letters + filled_tiles + right_letters\n",
    "        word_x = X - len(left_letters)\n",
    "        complete_word = \"\".join(complete_word_as_list)\n",
    "        return complete_word, y, word_x\n",
    "\n",
    "    # Find the crossing words for a given complete_word_y_x info\n",
    "    def find_crosses(self, complete_word, y, x):\n",
    "        crossing_words = set()\n",
    "        count = 0\n",
    "        for tile in complete_word:\n",
    "            # TODO: don't think I need this if part, only the last part and len(crossing_word)>1\n",
    "            if (\n",
    "                self.check_above(y, x)[0] == True or self.check_below(y, x)[0] == True\n",
    "            ) and self.board[y, x] != tile:\n",
    "                crossing_word, T_y, T_x = self.crossing_words_at_tile(tile, y, x)\n",
    "                if len(crossing_word) > 1:\n",
    "                    crossing_words.add((crossing_word, T_y, T_x))\n",
    "\n",
    "            # TODO: not sure if I need all this stuff about edge_letter\n",
    "            #             if self.board[y, x] != tile:\n",
    "            #                 count = count + 1\n",
    "            #                 edge_letter = tile\n",
    "            #                 edge_x = x\n",
    "            #                 edge_y = y\n",
    "\n",
    "            x = x + 1\n",
    "        # TODO fix this?\n",
    "        #         if count == 1 and len(crossing_words) == 0:\n",
    "        #             crossing_words.add((edge_letter, edge_y, edge_x))\n",
    "        if len(crossing_words) == 0:\n",
    "            crossing_words.add((\"\", -1, -1))\n",
    "        return crossing_words\n",
    "\n",
    "    # Enter a tile and its location and return the crosses that it makes\n",
    "    def crossing_words_at_tile(self, tile, y, x):\n",
    "        # We will be using the transpose board so y and x are switched\n",
    "        self.board = self.board.transpose()\n",
    "        y, x = x, y\n",
    "        crossing_word, T_y, T_x = self.complete_word_y_x(y, x, (tile))\n",
    "        self.board = self.board.transpose()\n",
    "        return crossing_word, T_y, T_x\n",
    "\n",
    "    # insert the \"hook letter\" into a shadow board and find the output connected to that\n",
    "    # assume the board has already been transposed and you are operating with the right y and x\n",
    "    def edge_perms(self, hook_letter, y, x):\n",
    "        self.board[y, x] = hook_letter\n",
    "        self.hand_letters.remove(hook_letter)\n",
    "        shadow_row_perms = self.row_permutations(y)\n",
    "        edge_perms_dict = {\n",
    "            k: v\n",
    "            for (k, v) in shadow_row_perms.items()\n",
    "            if v[0][1] <= x\n",
    "            and v[0][1] + len(k)\n",
    "            >= x  # TODO: see if I really need to put out a nested list here\n",
    "        }\n",
    "\n",
    "        self.hand_letters.append(hook_letter)\n",
    "        self.board[y, x] = \"\"\n",
    "        return edge_perms_dict\n",
    "\n",
    "    def find_valid_words(self):\n",
    "        # perms_set = set()\n",
    "        crossing_set = set()\n",
    "        # board_perm_set=set()\n",
    "        #board_perm_dict = defaultdict(list)\n",
    "        board_perm_dict ={}\n",
    "        \n",
    "        #TODO: this block\n",
    "        for row in range(0, self.BOARD_LENGTH):\n",
    "            row_perms = self.row_permutations(row)\n",
    "            # Probably going to need to combine dictionaries the old school way\n",
    "            if (\n",
    "                complete_word in row_perms_dict\n",
    "                and [word_y, word_x]\n",
    "                not in row_perms_dict[complete_word]\n",
    "            ):\n",
    "                row_perms_dict[complete_word].append(\n",
    "                    [word_y, word_x]\n",
    "                )\n",
    "            else:\n",
    "                row_perms_dict[complete_word] = [\n",
    "                    [word_y, word_x]\n",
    "                ]\n",
    "            #End TODO\n",
    "            \n",
    "            for d in (board_perm_dict, row_perms):\n",
    "                for key, value in d.items():\n",
    "                    board_perm_dict[key].append(value)\n",
    "        perms_set = set(dict(board_perm_dict).keys())\n",
    "        valid_perms = self.WORDSET.intersection(perms_set)\n",
    "        valid_perms_dict = {\n",
    "            k: v for (k, v) in dict(board_perm_dict).items() if k in valid_perms\n",
    "        }  # todo: work on the dictionary\n",
    "        return valid_perms_dict\n",
    "        # use the perms to find crossings"
   ]
  },
  {
   "cell_type": "code",
   "execution_count": 5,
   "metadata": {},
   "outputs": [
    {
     "data": {
      "application/javascript": [
       "\n",
       "            setTimeout(function() {\n",
       "                var nbb_cell_id = 5;\n",
       "                var nbb_unformatted_code = \"# for edge row, I could find permutations of the surrounding area including spaces\\n# make a check surrroundings function for both axes\";\n",
       "                var nbb_formatted_code = \"# for edge row, I could find permutations of the surrounding area including spaces\\n# make a check surrroundings function for both axes\";\n",
       "                var nbb_cells = Jupyter.notebook.get_cells();\n",
       "                for (var i = 0; i < nbb_cells.length; ++i) {\n",
       "                    if (nbb_cells[i].input_prompt_number == nbb_cell_id) {\n",
       "                        if (nbb_cells[i].get_text() == nbb_unformatted_code) {\n",
       "                             nbb_cells[i].set_text(nbb_formatted_code);\n",
       "                        }\n",
       "                        break;\n",
       "                    }\n",
       "                }\n",
       "            }, 500);\n",
       "            "
      ],
      "text/plain": [
       "<IPython.core.display.Javascript object>"
      ]
     },
     "metadata": {},
     "output_type": "display_data"
    }
   ],
   "source": [
    "# for edge row, I could find permutations of the surrounding area including spaces\n",
    "# make a check surrroundings function for both axes"
   ]
  },
  {
   "cell_type": "code",
   "execution_count": 6,
   "metadata": {},
   "outputs": [
    {
     "data": {
      "text/plain": [
       "{('avu', 9, 12),\n",
       " ('ben', 10, 12),\n",
       " ('de', 14, 11),\n",
       " ('thighce', 11, 7),\n",
       " ('udp', 12, 11)}"
      ]
     },
     "execution_count": 6,
     "metadata": {},
     "output_type": "execute_result"
    },
    {
     "data": {
      "application/javascript": [
       "\n",
       "            setTimeout(function() {\n",
       "                var nbb_cell_id = 6;\n",
       "                var nbb_unformatted_code = \"sam = Scrabbler(board_array, sample_board_letters)\\ncw, _, _ = sam.complete_word_y_x(1, 1, (\\\"a\\\"))\\nsam.find_crosses(\\\"abcdfe\\\", 12, 9)\\n# sam.edge_perms(\\\"s\\\", 10, 7)\";\n",
       "                var nbb_formatted_code = \"sam = Scrabbler(board_array, sample_board_letters)\\ncw, _, _ = sam.complete_word_y_x(1, 1, (\\\"a\\\"))\\nsam.find_crosses(\\\"abcdfe\\\", 12, 9)\\n# sam.edge_perms(\\\"s\\\", 10, 7)\";\n",
       "                var nbb_cells = Jupyter.notebook.get_cells();\n",
       "                for (var i = 0; i < nbb_cells.length; ++i) {\n",
       "                    if (nbb_cells[i].input_prompt_number == nbb_cell_id) {\n",
       "                        if (nbb_cells[i].get_text() == nbb_unformatted_code) {\n",
       "                             nbb_cells[i].set_text(nbb_formatted_code);\n",
       "                        }\n",
       "                        break;\n",
       "                    }\n",
       "                }\n",
       "            }, 500);\n",
       "            "
      ],
      "text/plain": [
       "<IPython.core.display.Javascript object>"
      ]
     },
     "metadata": {},
     "output_type": "display_data"
    }
   ],
   "source": [
    "sam = Scrabbler(board_array, sample_board_letters)\n",
    "cw, _, _ = sam.complete_word_y_x(1, 1, (\"a\"))\n",
    "sam.find_crosses(\"abcdfe\", 12, 9)\n",
    "# sam.edge_perms(\"s\", 10, 7)"
   ]
  },
  {
   "cell_type": "code",
   "execution_count": null,
   "metadata": {
    "scrolled": true
   },
   "outputs": [],
   "source": [
    "sam.find_valid_words()"
   ]
  },
  {
   "cell_type": "code",
   "execution_count": 14,
   "metadata": {
    "scrolled": false
   },
   "outputs": [
    {
     "name": "stdout",
     "output_type": "stream",
     "text": [
      "[[' ' ' ' ' ' ' ' ' ' ' ' ' ' ' ' ' ' ' ' ' ' 'e' ' ' ' ' ' ']\n",
      " [' ' ' ' ' ' ' ' ' ' ' ' ' ' ' ' ' ' 'z' 'o' 'n' 'a' ' ' 'w']\n",
      " [' ' ' ' ' ' ' ' ' ' ' ' ' ' ' ' ' ' ' ' ' ' 'a' ' ' ' ' 'i']\n",
      " [' ' ' ' ' ' ' ' ' ' ' ' ' ' ' ' ' ' 'r' 'i' 'm' 'a' ' ' 'l']\n",
      " [' ' ' ' ' ' ' ' ' ' ' ' ' ' ' ' ' ' ' ' ' ' 'o' 'b' 'e' 'y']\n",
      " [' ' ' ' ' ' ' ' ' ' ' ' ' ' ' ' ' ' 'j' 'u' 'r' 'a' 'l' ' ']\n",
      " [' ' ' ' ' ' ' ' ' ' ' ' ' ' 'b' 'e' 'e' 'p' ' ' ' ' ' ' ' ']\n",
      " [' ' ' ' ' ' ' ' ' ' ' ' 'y' 'e' 'w' 's' ' ' 't' ' ' ' ' ' ']\n",
      " [' ' ' ' ' ' ' ' ' ' ' ' ' ' 'l' 'e' 't' 'c' 'h' ' ' ' ' ' ']\n",
      " [' ' ' ' ' ' ' ' 'h' 'u' 'r' 'l' ' ' ' ' ' ' 'i' ' ' 'r' ' ']\n",
      " [' ' ' ' ' ' ' ' ' ' ' ' 'e' ' ' ' ' ' ' ' ' 'g' ' ' 'e' ' ']\n",
      " [' ' ' ' ' ' ' ' ' ' ' ' 'd' ' ' ' ' ' ' ' ' 'h' 'u' 'e' 'd']\n",
      " [' ' ' ' ' ' ' ' ' ' ' ' ' ' ' ' ' ' ' ' ' ' ' ' ' ' 'f' ' ']\n",
      " [' ' ' ' ' ' ' ' ' ' ' ' ' ' ' ' ' ' 'v' 'e' 'e' 'p' 's' ' ']\n",
      " [' ' ' ' ' ' ' ' ' ' ' ' ' ' ' ' 'n' 'u' 'n' ' ' ' ' ' ' ' ']]\n"
     ]
    },
    {
     "data": {
      "application/javascript": [
       "\n",
       "            setTimeout(function() {\n",
       "                var nbb_cell_id = 14;\n",
       "                var nbb_unformatted_code = \"print(np.where(board_array == \\\"\\\", \\\" \\\", board_array))\";\n",
       "                var nbb_formatted_code = \"print(np.where(board_array == \\\"\\\", \\\" \\\", board_array))\";\n",
       "                var nbb_cells = Jupyter.notebook.get_cells();\n",
       "                for (var i = 0; i < nbb_cells.length; ++i) {\n",
       "                    if (nbb_cells[i].input_prompt_number == nbb_cell_id) {\n",
       "                        if (nbb_cells[i].get_text() == nbb_unformatted_code) {\n",
       "                             nbb_cells[i].set_text(nbb_formatted_code);\n",
       "                        }\n",
       "                        break;\n",
       "                    }\n",
       "                }\n",
       "            }, 500);\n",
       "            "
      ],
      "text/plain": [
       "<IPython.core.display.Javascript object>"
      ]
     },
     "metadata": {},
     "output_type": "display_data"
    }
   ],
   "source": [
    "print(np.where(board_array == \"\", \" \", board_array))"
   ]
  },
  {
   "cell_type": "code",
   "execution_count": 15,
   "metadata": {
    "scrolled": true
   },
   "outputs": [
    {
     "data": {
      "text/plain": [
       "('dabc', 11, 6)"
      ]
     },
     "execution_count": 15,
     "metadata": {},
     "output_type": "execute_result"
    },
    {
     "data": {
      "application/javascript": [
       "\n",
       "            setTimeout(function() {\n",
       "                var nbb_cell_id = 15;\n",
       "                var nbb_unformatted_code = \"sam.complete_word_y_x(11, 6, [\\\"a\\\", \\\"b\\\", \\\"c\\\"])\";\n",
       "                var nbb_formatted_code = \"sam.complete_word_y_x(11, 6, [\\\"a\\\", \\\"b\\\", \\\"c\\\"])\";\n",
       "                var nbb_cells = Jupyter.notebook.get_cells();\n",
       "                for (var i = 0; i < nbb_cells.length; ++i) {\n",
       "                    if (nbb_cells[i].input_prompt_number == nbb_cell_id) {\n",
       "                        if (nbb_cells[i].get_text() == nbb_unformatted_code) {\n",
       "                             nbb_cells[i].set_text(nbb_formatted_code);\n",
       "                        }\n",
       "                        break;\n",
       "                    }\n",
       "                }\n",
       "            }, 500);\n",
       "            "
      ],
      "text/plain": [
       "<IPython.core.display.Javascript object>"
      ]
     },
     "metadata": {},
     "output_type": "display_data"
    }
   ],
   "source": [
    "sam.complete_word_y_x(11, 6, [\"a\", \"b\", \"c\"])"
   ]
  },
  {
   "cell_type": "code",
   "execution_count": 9,
   "metadata": {
    "scrolled": false
   },
   "outputs": [
    {
     "data": {
      "application/javascript": [
       "\n",
       "            setTimeout(function() {\n",
       "                var nbb_cell_id = 9;\n",
       "                var nbb_unformatted_code = \"a = sam.row_permutations(7)\";\n",
       "                var nbb_formatted_code = \"a = sam.row_permutations(7)\";\n",
       "                var nbb_cells = Jupyter.notebook.get_cells();\n",
       "                for (var i = 0; i < nbb_cells.length; ++i) {\n",
       "                    if (nbb_cells[i].input_prompt_number == nbb_cell_id) {\n",
       "                        if (nbb_cells[i].get_text() == nbb_unformatted_code) {\n",
       "                             nbb_cells[i].set_text(nbb_formatted_code);\n",
       "                        }\n",
       "                        break;\n",
       "                    }\n",
       "                }\n",
       "            }, 500);\n",
       "            "
      ],
      "text/plain": [
       "<IPython.core.display.Javascript object>"
      ]
     },
     "metadata": {},
     "output_type": "display_data"
    }
   ],
   "source": [
    "a = sam.row_permutations(7)\n",
    "#output: \n",
    "#{'dfdf':[[3,4]], 'dfkdf':[[5,7]],...}\n"
   ]
  },
  {
   "cell_type": "code",
   "execution_count": null,
   "metadata": {
    "scrolled": true
   },
   "outputs": [],
   "source": [
    "set(a.keys())"
   ]
  },
  {
   "cell_type": "code",
   "execution_count": 34,
   "metadata": {
    "scrolled": true
   },
   "outputs": [
    {
     "ename": "TypeError",
     "evalue": "add() takes exactly one argument (2 given)",
     "output_type": "error",
     "traceback": [
      "\u001b[0;31m---------------------------------------------------------------------------\u001b[0m",
      "\u001b[0;31mTypeError\u001b[0m                                 Traceback (most recent call last)",
      "\u001b[0;32m<ipython-input-34-6ca8be907bf9>\u001b[0m in \u001b[0;36m<module>\u001b[0;34m\u001b[0m\n\u001b[1;32m      1\u001b[0m \u001b[0ma\u001b[0m \u001b[0;34m=\u001b[0m \u001b[0;34m{\u001b[0m\u001b[0;34m\"a\"\u001b[0m\u001b[0;34m,\u001b[0m \u001b[0;34m\"b\"\u001b[0m\u001b[0;34m,\u001b[0m \u001b[0;34m\"c\"\u001b[0m\u001b[0;34m}\u001b[0m\u001b[0;34m\u001b[0m\u001b[0;34m\u001b[0m\u001b[0m\n\u001b[0;32m----> 2\u001b[0;31m \u001b[0ma\u001b[0m\u001b[0;34m.\u001b[0m\u001b[0madd\u001b[0m\u001b[0;34m(\u001b[0m\u001b[0;34m\"d\"\u001b[0m\u001b[0;34m,\u001b[0m \u001b[0;34m\"e\"\u001b[0m\u001b[0;34m)\u001b[0m\u001b[0;34m\u001b[0m\u001b[0;34m\u001b[0m\u001b[0m\n\u001b[0m",
      "\u001b[0;31mTypeError\u001b[0m: add() takes exactly one argument (2 given)"
     ]
    },
    {
     "data": {
      "application/javascript": [
       "\n",
       "            setTimeout(function() {\n",
       "                var nbb_cell_id = 34;\n",
       "                var nbb_unformatted_code = \"a = {\\\"a\\\", \\\"b\\\", \\\"c\\\"}\\na.add(\\\"d\\\", \\\"e\\\")\";\n",
       "                var nbb_formatted_code = \"a = {\\\"a\\\", \\\"b\\\", \\\"c\\\"}\\na.add(\\\"d\\\", \\\"e\\\")\";\n",
       "                var nbb_cells = Jupyter.notebook.get_cells();\n",
       "                for (var i = 0; i < nbb_cells.length; ++i) {\n",
       "                    if (nbb_cells[i].input_prompt_number == nbb_cell_id) {\n",
       "                        if (nbb_cells[i].get_text() == nbb_unformatted_code) {\n",
       "                             nbb_cells[i].set_text(nbb_formatted_code);\n",
       "                        }\n",
       "                        break;\n",
       "                    }\n",
       "                }\n",
       "            }, 500);\n",
       "            "
      ],
      "text/plain": [
       "<IPython.core.display.Javascript object>"
      ]
     },
     "metadata": {},
     "output_type": "display_data"
    }
   ],
   "source": [
    "a = {\"a\", \"b\", \"c\"}\n",
    "a.add(\"d\", \"e\")"
   ]
  },
  {
   "cell_type": "code",
   "execution_count": 59,
   "metadata": {},
   "outputs": [
    {
     "name": "stdout",
     "output_type": "stream",
     "text": [
      "dict_values([[2, 6], [4, 7]])\n"
     ]
    },
    {
     "data": {
      "application/javascript": [
       "\n",
       "            setTimeout(function() {\n",
       "                var nbb_cell_id = 59;\n",
       "                var nbb_unformatted_code = \"d1 = {1: 2, 3: 4}\\nd2 = {1: 6, 3: 7}\\n\\ndd = defaultdict(list)\\n\\nfor d in (d1, d2): # you can list as many input dicts as you want here\\n    for key, value in d.items():\\n        dd[key].append(value)\\n\\nprint(dict(dd).values())\";\n",
       "                var nbb_formatted_code = \"d1 = {1: 2, 3: 4}\\nd2 = {1: 6, 3: 7}\\n\\ndd = defaultdict(list)\\n\\nfor d in (d1, d2):  # you can list as many input dicts as you want here\\n    for key, value in d.items():\\n        dd[key].append(value)\\n\\nprint(dict(dd).values())\";\n",
       "                var nbb_cells = Jupyter.notebook.get_cells();\n",
       "                for (var i = 0; i < nbb_cells.length; ++i) {\n",
       "                    if (nbb_cells[i].input_prompt_number == nbb_cell_id) {\n",
       "                        if (nbb_cells[i].get_text() == nbb_unformatted_code) {\n",
       "                             nbb_cells[i].set_text(nbb_formatted_code);\n",
       "                        }\n",
       "                        break;\n",
       "                    }\n",
       "                }\n",
       "            }, 500);\n",
       "            "
      ],
      "text/plain": [
       "<IPython.core.display.Javascript object>"
      ]
     },
     "metadata": {},
     "output_type": "display_data"
    }
   ],
   "source": [
    "d1 = {1: 2, 3: 4}\n",
    "d2 = {1: 6, 3: 7}\n",
    "\n",
    "dd = defaultdict(list)\n",
    "\n",
    "for d in (d1, d2): # you can list as many input dicts as you want here\n",
    "    for key, value in d.items():\n",
    "        dd[key].append(value)\n",
    "\n",
    "print(dict(dd).values())\n"
   ]
  },
  {
   "cell_type": "code",
   "execution_count": null,
   "metadata": {},
   "outputs": [],
   "source": [
    "            #             for key in row_perms.keys():\n",
    "            #                 perms_set.add(key)\n"
   ]
  }
 ],
 "metadata": {
  "kernelspec": {
   "display_name": "Python 3",
   "language": "python",
   "name": "python3"
  },
  "language_info": {
   "codemirror_mode": {
    "name": "ipython",
    "version": 3
   },
   "file_extension": ".py",
   "mimetype": "text/x-python",
   "name": "python",
   "nbconvert_exporter": "python",
   "pygments_lexer": "ipython3",
   "version": "3.7.6"
  }
 },
 "nbformat": 4,
 "nbformat_minor": 4
}
