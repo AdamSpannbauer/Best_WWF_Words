{
 "cells": [
  {
   "cell_type": "markdown",
   "metadata": {},
   "source": [
    "General outline:\n",
    "I want to take in an array (later image) representation of a scrabble board/hand tiles, and output the best play.\n",
    "\n",
    "Naive best play: the highest scoring play\n",
    "\n",
    "Goal best play: the play that maximizes your winning chances (takes into account the opponent's potential score)\n",
    "    * You want to maximize how you're using the tiles in your hand. \n",
    "        * This doesn't just mean getting the highest score possible. Save your high tiles for the multipliers.\n",
    "    * As well as minimizing your opponent's reply score\n",
    "\n",
    "0. Constants:\n",
    "    * Multiplier boards\n",
    "    \n",
    "* make functions that define the area that the word is in on the board (given a letter?)\n",
    "    * allow another function to tell what the letters are in that area.\n",
    "\n",
    "\n",
    "Main steps needed:\n",
    "1. Take in an array of the board and your hand letters **check**\n",
    "2. Tell the available permutations and their locations on the board **check**\n",
    "    * return a dictionary with the word as a key and the location as the value **check**\n",
    "3. See what crossing words those permutations are going to make **check**\n",
    "    * this will return a dictionary of the main word and its position as a key and the crossing words as the values **check**\n",
    "    * could use a nested dictionary for this **check**\n",
    "4. Check to see if the permutations and their crossing words are in the dictionary **check**\n",
    "    * take in the dictinary from above? **check**\n",
    "5. Do the same for the edge words.\n",
    "6. Score it.\n",
    "For \n",
    "\n",
    "Step 2:\n",
    "1. Need to get permutations for each row\n",
    "       * Options:\n",
    "           1. Get permutations around each group of letters like I've been doing\n",
    "           2. Look at it on a row-wide basis **Went with this one**\n",
    "               * Need to make sure all the sample letters stay together\n",
    "    "
   ]
  },
  {
   "cell_type": "code",
   "execution_count": 1,
   "metadata": {},
   "outputs": [
    {
     "data": {
      "application/javascript": [
       "\n",
       "            setTimeout(function() {\n",
       "                var nbb_cell_id = 1;\n",
       "                var nbb_unformatted_code = \"%reload_ext nb_black\";\n",
       "                var nbb_formatted_code = \"%reload_ext nb_black\";\n",
       "                var nbb_cells = Jupyter.notebook.get_cells();\n",
       "                for (var i = 0; i < nbb_cells.length; ++i) {\n",
       "                    if (nbb_cells[i].input_prompt_number == nbb_cell_id) {\n",
       "                        if (nbb_cells[i].get_text() == nbb_unformatted_code) {\n",
       "                             nbb_cells[i].set_text(nbb_formatted_code);\n",
       "                        }\n",
       "                        break;\n",
       "                    }\n",
       "                }\n",
       "            }, 500);\n",
       "            "
      ],
      "text/plain": [
       "<IPython.core.display.Javascript object>"
      ]
     },
     "metadata": {},
     "output_type": "display_data"
    }
   ],
   "source": [
    "%reload_ext nb_black"
   ]
  },
  {
   "cell_type": "code",
   "execution_count": 2,
   "metadata": {},
   "outputs": [
    {
     "data": {
      "application/javascript": [
       "\n",
       "            setTimeout(function() {\n",
       "                var nbb_cell_id = 2;\n",
       "                var nbb_unformatted_code = \"import numpy as np\\nimport csv\\nimport itertools\\nimport re\\nfrom collections import defaultdict\";\n",
       "                var nbb_formatted_code = \"import numpy as np\\nimport csv\\nimport itertools\\nimport re\\nfrom collections import defaultdict\";\n",
       "                var nbb_cells = Jupyter.notebook.get_cells();\n",
       "                for (var i = 0; i < nbb_cells.length; ++i) {\n",
       "                    if (nbb_cells[i].input_prompt_number == nbb_cell_id) {\n",
       "                        if (nbb_cells[i].get_text() == nbb_unformatted_code) {\n",
       "                             nbb_cells[i].set_text(nbb_formatted_code);\n",
       "                        }\n",
       "                        break;\n",
       "                    }\n",
       "                }\n",
       "            }, 500);\n",
       "            "
      ],
      "text/plain": [
       "<IPython.core.display.Javascript object>"
      ]
     },
     "metadata": {},
     "output_type": "display_data"
    }
   ],
   "source": [
    "import numpy as np\n",
    "import csv\n",
    "import itertools\n",
    "import re\n",
    "from collections import defaultdict\n"
   ]
  },
  {
   "cell_type": "code",
   "execution_count": 105,
   "metadata": {},
   "outputs": [
    {
     "data": {
      "application/javascript": [
       "\n",
       "            setTimeout(function() {\n",
       "                var nbb_cell_id = 105;\n",
       "                var nbb_unformatted_code = \"sample_board = [\\n    [\\\"\\\", \\\"\\\", \\\"\\\", \\\"\\\", \\\"\\\", \\\"\\\", \\\"\\\", \\\"\\\", \\\"\\\", \\\"\\\", \\\"d\\\", \\\"e\\\", \\\"a\\\", \\\"d\\\", \\\"\\\"],  # 0\\n    [\\\"\\\", \\\"\\\", \\\"\\\", \\\"\\\", \\\"\\\", \\\"\\\", \\\"\\\", \\\"\\\", \\\"\\\", \\\"z\\\", \\\"o\\\", \\\"n\\\", \\\"a\\\", \\\"\\\", \\\"w\\\"],  # 1\\n    [\\\"\\\", \\\"\\\", \\\"\\\", \\\"\\\", \\\"\\\", \\\"\\\", \\\"\\\", \\\"\\\", \\\"\\\", \\\"\\\", \\\"\\\", \\\"a\\\", \\\"\\\", \\\"\\\", \\\"i\\\"],  # 2\\n    [\\\"\\\", \\\"\\\", \\\"\\\", \\\"\\\", \\\"\\\", \\\"\\\", \\\"\\\", \\\"\\\", \\\"\\\", \\\"r\\\", \\\"i\\\", \\\"m\\\", \\\"a\\\", \\\"\\\", \\\"l\\\"],  # 3\\n    [\\\"\\\", \\\"\\\", \\\"\\\", \\\"\\\", \\\"\\\", \\\"\\\", \\\"\\\", \\\"\\\", \\\"\\\", \\\"\\\", \\\"\\\", \\\"o\\\", \\\"b\\\", \\\"e\\\", \\\"y\\\"],  # 4\\n    [\\\"\\\", \\\"\\\", \\\"\\\", \\\"\\\", \\\"\\\", \\\"\\\", \\\"\\\", \\\"\\\", \\\"\\\", \\\"j\\\", \\\"u\\\", \\\"r\\\", \\\"a\\\", \\\"l\\\", \\\"\\\"],\\n    [\\\"\\\", \\\"\\\", \\\"\\\", \\\"\\\", \\\"\\\", \\\"\\\", \\\"\\\", \\\"b\\\", \\\"e\\\", \\\"e\\\", \\\"p\\\", \\\"\\\", \\\"\\\", \\\"\\\", \\\"\\\"],  # 6\\n    [\\\"\\\", \\\"\\\", \\\"\\\", \\\"f\\\", \\\"\\\", \\\"\\\", \\\"y\\\", \\\"e\\\", \\\"w\\\", \\\"s\\\", \\\"\\\", \\\"t\\\", \\\"\\\", \\\"\\\", \\\"\\\"],\\n    [\\\"\\\", \\\"\\\", \\\"\\\", \\\"o\\\", \\\"\\\", \\\"\\\", \\\"\\\", \\\"l\\\", \\\"e\\\", \\\"t\\\", \\\"c\\\", \\\"h\\\", \\\"\\\", \\\"\\\", \\\"\\\"],  # 8\\n    [\\\"\\\", \\\"\\\", \\\"\\\", \\\"c\\\", \\\"h\\\", \\\"u\\\", \\\"r\\\", \\\"l\\\", \\\"\\\", \\\"\\\", \\\"\\\", \\\"i\\\", \\\"\\\", \\\"r\\\", \\\"\\\"],\\n    [\\\"\\\", \\\"\\\", \\\"g\\\", \\\"i\\\", \\\"\\\", \\\"\\\", \\\"\\\", \\\"\\\", \\\"\\\", \\\"\\\", \\\"\\\", \\\"g\\\", \\\"\\\", \\\"e\\\", \\\"\\\"],  # 10\\n    [\\\"\\\", \\\"\\\", \\\"i\\\", \\\"\\\", \\\"\\\", \\\"\\\", \\\"\\\", \\\"\\\", \\\"\\\", \\\"\\\", \\\"\\\", \\\"h\\\", \\\"u\\\", \\\"e\\\", \\\"d\\\"],\\n    [\\\"\\\", \\\"\\\", \\\"n\\\", \\\"\\\", \\\"\\\", \\\"\\\", \\\"\\\", \\\"\\\", \\\"\\\", \\\"\\\", \\\"\\\", \\\"\\\", \\\"\\\", \\\"f\\\", \\\"\\\"],  # 12\\n    [\\\"\\\", \\\"\\\", \\\"\\\", \\\"\\\", \\\"\\\", \\\"\\\", \\\"\\\", \\\"\\\", \\\"\\\", \\\"v\\\", \\\"e\\\", \\\"e\\\", \\\"p\\\", \\\"s\\\", \\\"\\\"],\\n    [\\\"\\\", \\\"\\\", \\\"\\\", \\\"\\\", \\\"\\\", \\\"\\\", \\\"\\\", \\\"\\\", \\\"n\\\", \\\"u\\\", \\\"n\\\", \\\"\\\", \\\"\\\", \\\"\\\", \\\"\\\"],  # 14\\n]\\nsample_board_letters = [\\\"o\\\", \\\"a\\\", \\\"s\\\", \\\"r\\\", \\\"l\\\",]#'r','t']\\n\\n# numpy of the board\\nboard_array = np.array(sample_board)\\n\\n# making the empty strings spaces\\nneat_sample_array = np.copy(board_array)\\nneat_sample_array[neat_sample_array == \\\"\\\"] = \\\" \\\"\";\n",
       "                var nbb_formatted_code = \"sample_board = [\\n    [\\\"\\\", \\\"\\\", \\\"\\\", \\\"\\\", \\\"\\\", \\\"\\\", \\\"\\\", \\\"\\\", \\\"\\\", \\\"\\\", \\\"d\\\", \\\"e\\\", \\\"a\\\", \\\"d\\\", \\\"\\\"],  # 0\\n    [\\\"\\\", \\\"\\\", \\\"\\\", \\\"\\\", \\\"\\\", \\\"\\\", \\\"\\\", \\\"\\\", \\\"\\\", \\\"z\\\", \\\"o\\\", \\\"n\\\", \\\"a\\\", \\\"\\\", \\\"w\\\"],  # 1\\n    [\\\"\\\", \\\"\\\", \\\"\\\", \\\"\\\", \\\"\\\", \\\"\\\", \\\"\\\", \\\"\\\", \\\"\\\", \\\"\\\", \\\"\\\", \\\"a\\\", \\\"\\\", \\\"\\\", \\\"i\\\"],  # 2\\n    [\\\"\\\", \\\"\\\", \\\"\\\", \\\"\\\", \\\"\\\", \\\"\\\", \\\"\\\", \\\"\\\", \\\"\\\", \\\"r\\\", \\\"i\\\", \\\"m\\\", \\\"a\\\", \\\"\\\", \\\"l\\\"],  # 3\\n    [\\\"\\\", \\\"\\\", \\\"\\\", \\\"\\\", \\\"\\\", \\\"\\\", \\\"\\\", \\\"\\\", \\\"\\\", \\\"\\\", \\\"\\\", \\\"o\\\", \\\"b\\\", \\\"e\\\", \\\"y\\\"],  # 4\\n    [\\\"\\\", \\\"\\\", \\\"\\\", \\\"\\\", \\\"\\\", \\\"\\\", \\\"\\\", \\\"\\\", \\\"\\\", \\\"j\\\", \\\"u\\\", \\\"r\\\", \\\"a\\\", \\\"l\\\", \\\"\\\"],\\n    [\\\"\\\", \\\"\\\", \\\"\\\", \\\"\\\", \\\"\\\", \\\"\\\", \\\"\\\", \\\"b\\\", \\\"e\\\", \\\"e\\\", \\\"p\\\", \\\"\\\", \\\"\\\", \\\"\\\", \\\"\\\"],  # 6\\n    [\\\"\\\", \\\"\\\", \\\"\\\", \\\"f\\\", \\\"\\\", \\\"\\\", \\\"y\\\", \\\"e\\\", \\\"w\\\", \\\"s\\\", \\\"\\\", \\\"t\\\", \\\"\\\", \\\"\\\", \\\"\\\"],\\n    [\\\"\\\", \\\"\\\", \\\"\\\", \\\"o\\\", \\\"\\\", \\\"\\\", \\\"\\\", \\\"l\\\", \\\"e\\\", \\\"t\\\", \\\"c\\\", \\\"h\\\", \\\"\\\", \\\"\\\", \\\"\\\"],  # 8\\n    [\\\"\\\", \\\"\\\", \\\"\\\", \\\"c\\\", \\\"h\\\", \\\"u\\\", \\\"r\\\", \\\"l\\\", \\\"\\\", \\\"\\\", \\\"\\\", \\\"i\\\", \\\"\\\", \\\"r\\\", \\\"\\\"],\\n    [\\\"\\\", \\\"\\\", \\\"g\\\", \\\"i\\\", \\\"\\\", \\\"\\\", \\\"\\\", \\\"\\\", \\\"\\\", \\\"\\\", \\\"\\\", \\\"g\\\", \\\"\\\", \\\"e\\\", \\\"\\\"],  # 10\\n    [\\\"\\\", \\\"\\\", \\\"i\\\", \\\"\\\", \\\"\\\", \\\"\\\", \\\"\\\", \\\"\\\", \\\"\\\", \\\"\\\", \\\"\\\", \\\"h\\\", \\\"u\\\", \\\"e\\\", \\\"d\\\"],\\n    [\\\"\\\", \\\"\\\", \\\"n\\\", \\\"\\\", \\\"\\\", \\\"\\\", \\\"\\\", \\\"\\\", \\\"\\\", \\\"\\\", \\\"\\\", \\\"\\\", \\\"\\\", \\\"f\\\", \\\"\\\"],  # 12\\n    [\\\"\\\", \\\"\\\", \\\"\\\", \\\"\\\", \\\"\\\", \\\"\\\", \\\"\\\", \\\"\\\", \\\"\\\", \\\"v\\\", \\\"e\\\", \\\"e\\\", \\\"p\\\", \\\"s\\\", \\\"\\\"],\\n    [\\\"\\\", \\\"\\\", \\\"\\\", \\\"\\\", \\\"\\\", \\\"\\\", \\\"\\\", \\\"\\\", \\\"n\\\", \\\"u\\\", \\\"n\\\", \\\"\\\", \\\"\\\", \\\"\\\", \\\"\\\"],  # 14\\n]\\nsample_board_letters = [\\n    \\\"o\\\",\\n    \\\"a\\\",\\n    \\\"s\\\",\\n    \\\"r\\\",\\n    \\\"l\\\",\\n]  #'r','t']\\n\\n# numpy of the board\\nboard_array = np.array(sample_board)\\n\\n# making the empty strings spaces\\nneat_sample_array = np.copy(board_array)\\nneat_sample_array[neat_sample_array == \\\"\\\"] = \\\" \\\"\";\n",
       "                var nbb_cells = Jupyter.notebook.get_cells();\n",
       "                for (var i = 0; i < nbb_cells.length; ++i) {\n",
       "                    if (nbb_cells[i].input_prompt_number == nbb_cell_id) {\n",
       "                        if (nbb_cells[i].get_text() == nbb_unformatted_code) {\n",
       "                             nbb_cells[i].set_text(nbb_formatted_code);\n",
       "                        }\n",
       "                        break;\n",
       "                    }\n",
       "                }\n",
       "            }, 500);\n",
       "            "
      ],
      "text/plain": [
       "<IPython.core.display.Javascript object>"
      ]
     },
     "metadata": {},
     "output_type": "display_data"
    }
   ],
   "source": [
    "sample_board = [\n",
    "    [\"\", \"\", \"\", \"\", \"\", \"\", \"\", \"\", \"\", \"\", \"d\", \"e\", \"a\", \"d\", \"\"],  # 0\n",
    "    [\"\", \"\", \"\", \"\", \"\", \"\", \"\", \"\", \"\", \"z\", \"o\", \"n\", \"a\", \"\", \"w\"],  # 1\n",
    "    [\"\", \"\", \"\", \"\", \"\", \"\", \"\", \"\", \"\", \"\", \"\", \"a\", \"\", \"\", \"i\"],  # 2\n",
    "    [\"\", \"\", \"\", \"\", \"\", \"\", \"\", \"\", \"\", \"r\", \"i\", \"m\", \"a\", \"\", \"l\"],  # 3\n",
    "    [\"\", \"\", \"\", \"\", \"\", \"\", \"\", \"\", \"\", \"\", \"\", \"o\", \"b\", \"e\", \"y\"],  # 4\n",
    "    [\"\", \"\", \"\", \"\", \"\", \"\", \"\", \"\", \"\", \"j\", \"u\", \"r\", \"a\", \"l\", \"\"],\n",
    "    [\"\", \"\", \"\", \"\", \"\", \"\", \"\", \"b\", \"e\", \"e\", \"p\", \"\", \"\", \"\", \"\"],  # 6\n",
    "    [\"\", \"\", \"\", \"f\", \"\", \"\", \"y\", \"e\", \"w\", \"s\", \"\", \"t\", \"\", \"\", \"\"],\n",
    "    [\"\", \"\", \"\", \"o\", \"\", \"\", \"\", \"l\", \"e\", \"t\", \"c\", \"h\", \"\", \"\", \"\"],  # 8\n",
    "    [\"\", \"\", \"\", \"c\", \"h\", \"u\", \"r\", \"l\", \"\", \"\", \"\", \"i\", \"\", \"r\", \"\"],\n",
    "    [\"\", \"\", \"g\", \"i\", \"\", \"\", \"\", \"\", \"\", \"\", \"\", \"g\", \"\", \"e\", \"\"],  # 10\n",
    "    [\"\", \"\", \"i\", \"\", \"\", \"\", \"\", \"\", \"\", \"\", \"\", \"h\", \"u\", \"e\", \"d\"],\n",
    "    [\"\", \"\", \"n\", \"\", \"\", \"\", \"\", \"\", \"\", \"\", \"\", \"\", \"\", \"f\", \"\"],  # 12\n",
    "    [\"\", \"\", \"\", \"\", \"\", \"\", \"\", \"\", \"\", \"v\", \"e\", \"e\", \"p\", \"s\", \"\"],\n",
    "    [\"\", \"\", \"\", \"\", \"\", \"\", \"\", \"\", \"n\", \"u\", \"n\", \"\", \"\", \"\", \"\"],  # 14\n",
    "]\n",
    "sample_board_letters = [\"o\", \"a\", \"s\", \"r\", \"l\",]#'r','t']\n",
    "\n",
    "# numpy of the board\n",
    "board_array = np.array(sample_board)\n",
    "\n",
    "# making the empty strings spaces\n",
    "neat_sample_array = np.copy(board_array)\n",
    "neat_sample_array[neat_sample_array == \"\"] = \" \"\n"
   ]
  },
  {
   "cell_type": "code",
   "execution_count": 110,
   "metadata": {},
   "outputs": [
    {
     "data": {
      "application/javascript": [
       "\n",
       "            setTimeout(function() {\n",
       "                var nbb_cell_id = 110;\n",
       "                var nbb_unformatted_code = \"class Scrabbler:\\n    data_path = \\\"../sowpods.txt\\\"\\n    with open(data_path, newline=\\\"\\\") as f:\\n        reader = csv.reader(f)\\n        allwords = list(reader)\\n    WORDLIST = list(itertools.chain.from_iterable(allwords))\\n    WORDLIST = [x.lower() for x in WORDLIST]\\n    WORDSET = set(WORDLIST)\\n    BOARD_LENGTH = 15\\n    MAX_I = 14\\n\\n    LETTER_MULTIPLIERS = [\\n        [1, 1, 1, 1, 1, 1, 3, 1, 3, 1, 1, 1, 1, 1, 1],  # 0\\n        [1, 1, 2, 1, 1, 1, 1, 1, 1, 1, 1, 1, 2, 1, 1],  # 1\\n        [1, 2, 1, 1, 2, 1, 1, 1, 1, 1, 2, 1, 1, 2, 1],  # 2\\n        [1, 1, 1, 3, 1, 1, 1, 1, 1, 1, 1, 3, 1, 1, 1],  # 3\\n        [1, 1, 2, 1, 1, 1, 2, 1, 2, 1, 1, 1, 2, 1, 1],  # 4\\n        [1, 1, 1, 1, 1, 3, 1, 1, 1, 3, 1, 1, 1, 1, 1],\\n        [3, 1, 1, 1, 2, 1, 1, 1, 1, 1, 2, 1, 1, 1, 3],  # 6\\n        [1, 1, 1, 1, 1, 1, 1, 1, 1, 1, 1, 1, 1, 1, 1],\\n        [3, 1, 1, 1, 2, 1, 1, 1, 1, 1, 2, 1, 1, 1, 3],  # 8\\n        [1, 1, 1, 1, 1, 3, 1, 1, 1, 3, 1, 1, 1, 1, 1],\\n        [1, 1, 2, 1, 1, 1, 2, 1, 2, 1, 1, 1, 2, 1, 1],  # 10\\n        [1, 1, 1, 3, 1, 1, 1, 1, 1, 1, 1, 3, 1, 1, 1],\\n        [1, 2, 1, 1, 2, 1, 1, 1, 1, 1, 2, 1, 1, 2, 1],  # 12\\n        [1, 1, 2, 1, 1, 1, 1, 1, 1, 1, 1, 1, 2, 1, 1],\\n        [1, 1, 1, 1, 1, 1, 3, 1, 3, 1, 1, 1, 1, 1, 1],  # 14\\n    ]\\n    LETTER_MULTIPLIERS_ARRAY = np.array(LETTER_MULTIPLIERS)\\n\\n    WORD_MULTIPLIERS = [\\n        [1, 1, 1, 3, 1, 1, 1, 1, 1, 1, 1, 3, 1, 1, 1],  # 0\\n        [1, 1, 1, 1, 1, 2, 1, 1, 1, 2, 1, 1, 1, 1, 1],  # 1\\n        [1, 1, 1, 1, 1, 1, 1, 1, 1, 1, 1, 1, 1, 1, 1],  # 2\\n        [3, 1, 1, 1, 1, 1, 1, 2, 1, 1, 1, 1, 1, 1, 3],  # 3\\n        [1, 1, 1, 1, 1, 1, 1, 1, 1, 1, 1, 1, 1, 1, 1],  # 4\\n        [1, 2, 1, 1, 1, 1, 1, 1, 1, 1, 1, 1, 1, 2, 1],\\n        [1, 1, 1, 1, 1, 1, 1, 1, 1, 1, 1, 1, 1, 1, 1],  # 6\\n        [1, 1, 1, 2, 1, 1, 1, 1, 1, 1, 1, 2, 1, 1, 1],\\n        [1, 1, 1, 1, 1, 1, 1, 1, 1, 1, 1, 1, 1, 1, 1],  # 8\\n        [1, 2, 1, 1, 1, 1, 1, 1, 1, 1, 1, 1, 1, 2, 1],\\n        [1, 1, 1, 1, 1, 1, 1, 1, 1, 1, 1, 1, 1, 1, 1],  # 10\\n        [3, 1, 1, 1, 1, 1, 1, 2, 1, 1, 1, 1, 1, 1, 3],\\n        [1, 1, 1, 1, 1, 1, 1, 1, 1, 1, 1, 1, 1, 1, 1],  # 12\\n        [1, 1, 1, 1, 1, 2, 1, 1, 1, 2, 1, 1, 1, 1, 1],\\n        [1, 1, 1, 3, 1, 1, 1, 1, 1, 1, 1, 3, 1, 1, 1],  # 14\\n    ]\\n    WORD_MULTIPLIERS_ARRAY = np.array(WORD_MULTIPLIERS)\\n\\n    TILE_SCORES = {\\n        \\\"a\\\": 1,\\n        \\\"b\\\": 4,\\n        \\\"c\\\": 4,\\n        \\\"d\\\": 2,\\n        \\\"e\\\": 1,\\n        \\\"f\\\": 4,\\n        \\\"g\\\": 3,\\n        \\\"h\\\": 3,\\n        \\\"i\\\": 1,\\n        \\\"j\\\": 10,\\n        \\\"k\\\": 5,\\n        \\\"l\\\": 2,\\n        \\\"m\\\": 4,\\n        \\\"n\\\": 2,\\n        \\\"o\\\": 1,\\n        \\\"p\\\": 4,\\n        \\\"q\\\": 10,\\n        \\\"r\\\": 1,\\n        \\\"s\\\": 1,\\n        \\\"t\\\": 1,\\n        \\\"u\\\": 2,\\n        \\\"v\\\": 5,\\n        \\\"w\\\": 4,\\n        \\\"x\\\": 8,\\n        \\\"y\\\": 3,\\n        \\\"z\\\": 10,\\n    }\\n\\n    def __init__(self, board, hand_letters):\\n        self.board = board\\n        self.hand_letters = hand_letters\\n        self.T_board = np.copy(board).transpose()  # TODO: should this be here?\\n        self.board_mask = (np.copy(board) != \\\"\\\").astype(int)\\n\\n    # Navigator functions\\n    def check_yx(self, y, x):\\n        if x > -1 and x < 15 and y > -1 and y < 15:\\n            return bool(self.board[y, x])\\n        else:\\n            return \\\"out\\\"\\n\\n    def check_right(self, y, x):\\n        if x < self.BOARD_LENGTH - 1:\\n            return bool(self.board[y, x + 1]), self.board[y, x + 1]\\n        else:\\n            return \\\"out\\\"\\n\\n    def check_left(self, y, x):\\n        if x > 0:\\n            return bool(self.board[y, x - 1]), self.board[y, x - 1]\\n        else:\\n            return \\\"out\\\"\\n\\n    def check_above(self, y, x):\\n        if y > 0:\\n            return bool(self.board[y - 1, x]), self.board[y - 1, x]\\n        else:\\n            return \\\"out\\\"\\n\\n    def check_below(self, y, x):\\n        if y < self.BOARD_LENGTH - 1:\\n            return bool(self.board[y + 1, x]), self.board[y + 1, x]\\n        else:\\n            return \\\"out\\\"\\n\\n    # For potential words of a given length\\n    # start at the left, travel right (keep track of empties) till you hit a letter\\n    def hand_letter_permutations(self, length):\\n        # this returns a list of permutations of the hand letters of a given length\\n        letter_permutations = list(itertools.permutations(self.hand_letters, length))\\n        return letter_permutations\\n\\n    def row_permutations(self, row):\\n        y = row\\n        board_row = self.board[row]\\n\\n        # no_ means \\\"number of\\\" here\\n        no_hand_letters = len(self.hand_letters)\\n        no_pre_filled = sum(list(map(bool, board_row)))\\n        row_perms_dict = {}\\n\\n        if no_pre_filled > 0:\\n            for perm_len in range(1, no_hand_letters + 1):\\n                hand_perms = self.hand_letter_permutations(perm_len)\\n                # for x in range(0, BOARD_LENGTH-(len(self.hand_letters)-1)-no_pre_filled):\\n                # x=0\\n                no_tiles_to_right = no_pre_filled\\n                for hand_perm in hand_perms:\\n                    # while x + no_tiles_to_right+perm_len<self.BOARD_LENGTH:\\n                    x = 0\\n                    if (\\n                        self.check_yx(y, x) == False\\n                    ):  # and sum(list(map(bool,board_row[x:x+no_hand_letters])))\\n                        # for hand_perm in hand_perms:\\n                        while True:\\n                            # TODO check this\\n                            if (\\n                                any(\\n                                    board_row[max(0, x - 1) : min(x + perm_len + 1, 14)]\\n                                )\\n                                == True\\n                            ):\\n                                complete_word, word_y, word_x = self.complete_word_y_x(\\n                                    row, x, hand_perm\\n                                )\\n                                if complete_word == []:\\n                                    break\\n                                elif len(complete_word) > perm_len:\\n                                    # TODO: could leave out the part after the and below and delete duplicates later\\n                                    # TODO: could indicate the length of the original perm\\n                                    if (\\n                                        complete_word in row_perms_dict\\n                                        and [word_y, word_x]\\n                                        not in row_perms_dict[complete_word]\\n                                    ):\\n                                        row_perms_dict[complete_word].append(\\n                                            [word_y, word_x]\\n                                        )\\n                                    else:\\n                                        row_perms_dict[complete_word] = [\\n                                            [word_y, word_x]\\n                                        ]\\n                            x = x + 1\\n                            if x == self.BOARD_LENGTH:\\n                                break\\n                    # no_tiles_to_right=sum(list(map(bool,board_row[x+1:])))#TODO: +1 here?\\n        return row_perms_dict\\n\\n    # fill the next len(hand_perm) spaces with hand tiles and find the connecting words\\n    # row=y\\n    def complete_word_y_x(self, row, x, hand_perm):\\n        hand_perm = list(hand_perm)\\n        perm_len = len(hand_perm)\\n        X = x\\n        board_row = self.board[row]\\n        y = row\\n        no_filled = 0\\n        filled_tiles = []\\n        left_letters = []\\n        right_letters = []\\n        while self.check_left(y, x)[0] == True:\\n            x = x - 1\\n            left_letters = left_letters + [board_row[x]]\\n        left_letters = left_letters[::-1]\\n        x = X\\n        while no_filled < perm_len:\\n            if self.check_yx(y, x) == True:\\n                filled_tiles = filled_tiles + [board_row[x]]\\n            elif self.check_yx(y, x) == \\\"out\\\":\\n                return [], [], []\\n            elif self.check_yx(y, x) == False:\\n                new_tile = hand_perm.pop(0)\\n                filled_tiles = filled_tiles + [new_tile]\\n                no_filled = no_filled + 1\\n            x = x + 1\\n        x = x - 1\\n        while self.check_right(y, x)[0] == True:\\n            x = x + 1\\n            right_letters = right_letters + [board_row[x]]\\n        complete_word_as_list = left_letters + filled_tiles + right_letters\\n        word_x = X - len(left_letters)\\n        complete_word = \\\"\\\".join(complete_word_as_list)\\n        return complete_word, y, word_x\\n\\n    # Find the crossing words for a given complete_word_y_x info\\n    def find_crosses(self, complete_word, y, x):\\n        crossing_words = set()\\n        count = 0\\n        for tile in complete_word:\\n            # TODO: don't think I need this if part, only the last part and len(crossing_word)>1\\n            if (\\n                self.check_above(y, x)[0] == True or self.check_below(y, x)[0] == True\\n            ) and self.board[y, x] != tile:\\n                crossing_word, T_y, T_x = self.crossing_words_at_tile(tile, y, x)\\n                if len(crossing_word) > 1:\\n                    crossing_words.add((crossing_word, T_y, T_x))\\n\\n            # TODO: not sure if I need all this stuff about edge_letter\\n            #             if self.board[y, x] != tile:\\n            #                 count = count + 1\\n            #                 edge_letter = tile\\n            #                 edge_x = x\\n            #                 edge_y = y\\n\\n            x = x + 1\\n        # TODO fix this?\\n        #         if count == 1 and len(crossing_words) == 0:\\n        #             crossing_words.add((edge_letter, edge_y, edge_x))\\n        if len(crossing_words) == 0:\\n            crossing_words.add((\\\"\\\", -1, -1))\\n        return crossing_words\\n\\n    # Enter a tile and its location and return the crosses that it makes\\n    def crossing_words_at_tile(self, tile, y, x):\\n        # We will be using the transpose board so y and x are switched\\n        self.board = self.board.transpose()\\n        y, x = x, y\\n        crossing_word, T_y, T_x = self.complete_word_y_x(y, x, (tile))\\n        self.board = self.board.transpose()\\n        return crossing_word, T_y, T_x\\n\\n    # insert the \\\"hook letter\\\" into a shadow board and find the output connected to that\\n    # assume the board has already been transposed and you are operating with the right y and x\\n    def edge_perms(self, hook_letter, y, x):\\n        self.board[y, x] = hook_letter\\n        self.hand_letters.remove(hook_letter)\\n        shadow_row_perms = self.row_permutations(y)\\n        edge_perms_dict = {\\n            k: v\\n            for (k, v) in shadow_row_perms.items()\\n            if v[0][1] <= x\\n            and v[0][1] + len(k)\\n            >= x  # TODO: see if I really need to put out a nested list here\\n        }\\n\\n        self.hand_letters.append(hook_letter)\\n        self.board[y, x] = \\\"\\\"\\n        return edge_perms_dict\\n\\n    def find_valid_perms(self):\\n        crossing_set = set()\\n        board_perms_dict = {}\\n\\n        for row in range(0, self.BOARD_LENGTH):\\n            row_perms = self.row_permutations(row)\\n            for complete_word in row_perms:\\n                if complete_word in board_perms_dict:\\n                    board_perms_dict[complete_word] = (\\n                        board_perms_dict[complete_word] + row_perms[complete_word]\\n                    )\\n                else:\\n                    board_perms_dict[complete_word] = row_perms[complete_word]\\n        perms_set = set(board_perms_dict.keys())\\n        valid_perms = self.WORDSET.intersection(perms_set)\\n        valid_perms_dict = {\\n            k: v for (k, v) in board_perms_dict.items() if k in valid_perms\\n        }\\n        return valid_perms_dict\\n\\n    # use the perms to find crossings and check if they are all valid\\n    # TODO: ask to see if I can somehow check all of these sets at once so I only have to iter through once\\n    def check_crosses(self, valid_perm, y, x):\\n        crosses_with_position = self.find_crosses(valid_perm, y, x)\\n        crossing_words = set([i for i in zip(*crosses_with_position)][0])\\n        crosses_valid = crossing_words.issubset(\\n            self.WORDSET\\n        ) or crosses_with_position == {(\\\"\\\", -1, -1)}\\n        return crosses_valid, crosses_with_position\\n\\n    # make a dictionary of valid plays for one direction as a dictionary of words with a nested crossing dict\\n    # in the first entry of a list that are the values of the dictionary\\n    def valid_plays(self, valid_perms):\\n        # valid_perms = self.find_valid_perms() #TODO is this right to move to a parameter?\\n\\n        valid_plays = defaultdict(lambda: defaultdict(lambda: defaultdict(list)))\\n        for valid_perm in valid_perms:\\n            potential_positions = valid_perms[valid_perm]\\n            for potential_position in potential_positions:\\n                y = potential_position[0]\\n                x = potential_position[1]\\n                crosses_valid, crosses_with_position = self.check_crosses(\\n                    valid_perm, y, x\\n                )\\n                if crosses_valid == True:\\n                    # TODO: I need to be able to add new positionf of the same cross here\\n                    # probably need to make another default dict here\\n                    for cross_with_position in crosses_with_position:\\n                        valid_plays[valid_perm][tuple(potential_position)][\\n                            cross_with_position[0]\\n                        ].append((cross_with_position[1:3]))\\n        return valid_plays\\n\\n    # remember the crosses returned above have the x and y switched, as well as nested default dicts\\n\\n    # Find which tiles of a word originated from the hand\\n    def new_tiles(self, valid_word, y, x):\\n        new_tiles = []\\n        for letter in valid_word:\\n            if self.check_yx(y, x) == False:\\n                new_tiles.append(\\n                    [letter, y, x]\\n                )  # should this really be a dictionary list?\\n            x = x + 1\\n        return new_tiles\\n\\n    # Find which tiles could be used to build a crossing word\\n    def find_edge_hooks(self, valid_plays):\\n        edge_hooks = []\\n        for valid_word in valid_plays:\\n            for position in valid_plays[valid_word]:\\n                y = position[0]\\n                x = position[1]\\n                new_tiles = self.new_tiles(valid_word, y, x)\\n                if len(new_tiles) == 1:\\n                    edge_hooks = edge_hooks + new_tiles\\n        return edge_hooks\\n\\n    # create a dictionary of the valid edge words\\n    # could probably adapt find valid perms above for this\\n    def valid_edge_words(self, edge_hooks):\\n        edge_perms_dict = {}\\n        for hook in edge_hooks:\\n            hook_letter = hook[0]\\n            # x and y are transposed\\n            y = hook[2]\\n            x = hook[1]\\n            edge_perms = self.edge_perms(hook_letter, y, x)\\n\\n            for complete_word in edge_perms:\\n                #                 if complete_word in edge_perms_dict:\\n                #                     edge_perms_dict[complete_word] = (\\n                #                         edge_perms_dict[complete_word] + edge_perms[complete_word]\\n                #                     )\\n                #                 else:\\n                #                     edge_perms_dict[complete_word] = edge_perms[complete_word]\\n                # debugging\\n                if complete_word not in edge_perms_dict:\\n                    edge_perms_dict[complete_word] = edge_perms[complete_word]\\n                elif edge_perms[complete_word][0] not in edge_perms_dict[complete_word]:\\n                    # debugging\\n                    #print(\\n                        # \\\"\\\\n complete_word\\\",\\n                        # complete_word,\\n                        #\\\"\\\\n EP(CW)\\\",\\n                        #edge_perms[complete_word],\\n                        # \\\"\\\\n EPD(CW)\\\",\\n                        # edge_perms_dict[complete_word],\\n                    #)\\n                    edge_perms_dict[complete_word] = (\\n                        edge_perms_dict[complete_word] + edge_perms[complete_word]\\n                    )\\n        # copied from above, checking if perm in the dictionary\\n        edge_perms_set = set(edge_perms_dict.keys())\\n        valid_edge_perms = self.WORDSET.intersection(edge_perms_set)\\n        valid_edge_perms_dict = {\\n            k: v for (k, v) in edge_perms_dict.items() if k in valid_edge_perms\\n        }\\n        return valid_edge_perms_dict\\n\\n    # Flattens the row and column dictionaries, making them more intuitive/combinable\\n    def unpack_dictionary(self, dict1):\\n        new_dict = {}\\n        for word in dict1:\\n            location_crosses = dict1[word]\\n            for location in location_crosses:\\n                crosses_dict = location_crosses[location]\\n                last_word_location = []\\n                for crossing_word in crosses_dict:\\n                    crossing_word_locations = crosses_dict[crossing_word]\\n                    for crossing_location in crossing_word_locations:\\n                        if len(last_word_location) > 0:\\n                            new_dict[(word, location)] = new_dict[\\n                                last_word_location\\n                            ] + (crossing_word, crossing_location)\\n                        else:\\n                            new_dict[(word, location)] = (\\n                                crossing_word,\\n                                crossing_location,\\n                            )\\n                        last_word_location = (word, location)\\n        new_new_dict = {}\\n        for key in new_dict:\\n            crossers_list = new_dict[key]\\n            new_new_dict[key] = tuple(zip(crossers_list, crossers_list[1:]))[::2]\\n        return new_new_dict\\n\\n    # Returns 2 dictionaries of all the valid words and their crosses\\n    def all_board_words(self):\\n        # find the valid row plays\\n        valid_row_perms = self.find_valid_perms()\\n        valid_row_plays = self.valid_plays(valid_row_perms)\\n\\n        # find the edge hooks for the column-wise edge words\\n        edge_hooks_for_columns = self.find_edge_hooks(valid_row_plays)\\n\\n        # transpose\\n        self.board = self.board.transpose()\\n\\n        # find the valid column plays\\n        valid_column_perms = self.find_valid_perms()\\n        valid_column_plays = self.valid_plays(valid_column_perms)\\n\\n        # find the valid column edge plays\\n        valid_column_edge_perms = self.valid_edge_words(edge_hooks_for_columns)\\n        valid_column_edge_plays = self.valid_plays(valid_column_edge_perms)\\n\\n        # find the edge hooks for the row-wise edge words\\n        edge_hooks_for_rows = self.find_edge_hooks(valid_column_plays)\\n\\n        # transpose\\n        self.board = self.board.transpose()\\n\\n        # find the valid row edge plays\\n        valid_row_edge_perms = self.valid_edge_words(edge_hooks_for_rows)\\n        valid_row_edge_plays = self.valid_plays(valid_row_edge_perms)\\n\\n        # transform them all into a more readable format\\n        valid_row_plays = self.unpack_dictionary(valid_row_plays)\\n        valid_row_edge_plays = self.unpack_dictionary(valid_row_edge_plays)\\n        valid_column_plays = self.unpack_dictionary(valid_column_plays)\\n        valid_column_edge_plays = self.unpack_dictionary(valid_column_edge_plays)\\n\\n        # collapse the row and column dictionaries\\n        all_row_words = {**valid_row_plays, **valid_row_edge_plays}\\n        all_column_words = {**valid_column_plays, **valid_column_edge_plays}\\n        # debugging\\n        # print(\\\"valid_row_edge_perms:\\\")\\n        # print(valid_row_edge_perms)\\n        # print(\\\"valid row edge plays:\\\")\\n        # print(valid_row_edge_plays)\\n        # print(\\\"all row words:\\\")\\n        # print(all_row_words)\\n        # now I have two dictionaries: row and column in the format of:\\n        # {(mainword, y, x): ((crossingword, y, x), (crossingword, y, x), etc)\\n        # (mainword, y, x): ((crossingword, y, x), etc)\\n        # ...\\n        # }\\n        # remember that the y and x of the crossing words refer to a transposed board vis-a-vis the main word\\n\\n        return all_row_words, all_column_words\\n\\n    # calculate the score of a group of tiles (not the whole play)\\n    def calculate_word_score(\\n        self, word, y, x, letter_multipliers_array, word_multipliers_array\\n    ):\\n        letter_multipliers = np.copy(letter_multipliers_array[y, x : x + len(word)])\\n        word_multipliers = np.copy(word_multipliers_array[y, x : x + len(word)])\\n        scores = [self.TILE_SCORES[l] for l in word]\\n        word_score = np.dot(letter_multipliers, scores)\\n        word_score = word_score * np.prod(word_multipliers)\\n        return word_score\\n\\n    # calculating the total value of a main word and its crosses\\n    def total_score(self, main_word_and_location, crossing_words_and_locations):\\n        letter_multipliers_array = np.copy(self.LETTER_MULTIPLIERS_ARRAY)\\n        word_multipliers_array = np.copy(self.WORD_MULTIPLIERS_ARRAY)\\n        # make the  multipliers==1 if there are pieces on them on the board;\\n        # TODO: how permanent is the below?\\n        bool_mask = (self.board != \\\" \\\").astype(int)\\n        letter_multipliers_array = np.where(bool_mask == 1, 1, letter_multipliers_array)\\n        word_multipliers_array = np.where(bool_mask == 1, 1, word_multipliers_array)\\n\\n        main_word = main_word_and_location[0]\\n        y = main_word_and_location[1][0]\\n        x = main_word_and_location[1][1]\\n        main_score = self.calculate_word_score(\\n            main_word, y, x, letter_multipliers_array, word_multipliers_array\\n        )\\n        # debugging\\n        #         print(\\\"main word:\\\")\\n        #         print(main_word_and_location, main_score)\\n        # TODO: ask if I should have transpose inside or outside the copy function here\\n        # transpose the multiplier arrays to use to score the crossing words\\n        T_word_multipliers = np.copy(word_multipliers_array.transpose())\\n        T_letter_multipliers = np.copy(letter_multipliers_array.transpose())\\n\\n        # calculating the crossing words' total score\\n        crossers_score = 0\\n        for crossing_word_and_location in crossing_words_and_locations:\\n            if len(crossing_word_and_location[0]) > 1:\\n                y = crossing_word_and_location[1][0]\\n                x = crossing_word_and_location[1][1]\\n                crossing_word = crossing_word_and_location[0]\\n                crosser_score = self.calculate_word_score(\\n                    crossing_word, y, x, T_letter_multipliers, T_word_multipliers\\n                )\\n                # debugging\\n            #                 print(\\\"crossing score\\\")\\n            #                 print(crossing_word_and_location, crosser_score)\\n            else:\\n                crosser_score = 0\\n            crossers_score = crossers_score + crosser_score\\n        total_score = main_score + crossers_score\\n        return total_score\\n\\n    # Create a dictionary of all valid main words and their scores\\n    def valid_score_choices(self):\\n        board = self.board\\n        hand_letters = self.hand_letters\\n        letter_multiplier_array = self.LETTER_MULTIPLIERS_ARRAY\\n        word_multiplier_array = self.WORD_MULTIPLIERS_ARRAY\\n        # make a transpose board\\n        transpose_board = np.copy(board)\\n        transpose_board = transpose_board.transpose()\\n\\n        # calculate the words/placement allowed by the rules of the game\\n        all_row_words, all_column_words = self.all_board_words()\\n\\n        # create a dictionary of each of these words along with their score\\n        row_score_dict = {}\\n        column_score_dict = {}\\n        for main_word_and_location in all_row_words:\\n            crossing_words_and_locations = all_row_words[main_word_and_location]\\n            score = self.total_score(\\n                main_word_and_location, crossing_words_and_locations\\n            )\\n            row_score_dict[main_word_and_location] = score\\n\\n        # transpose the board\\n        self.board = self.board.transpose()\\n\\n        for main_word_and_location in all_column_words:\\n            crossing_words_and_locations = all_column_words[main_word_and_location]\\n            score = self.total_score(\\n                main_word_and_location, crossing_words_and_locations\\n            )\\n            column_score_dict[main_word_and_location] = score\\n\\n        return row_score_dict, column_score_dict\";\n",
       "                var nbb_formatted_code = \"class Scrabbler:\\n    data_path = \\\"../sowpods.txt\\\"\\n    with open(data_path, newline=\\\"\\\") as f:\\n        reader = csv.reader(f)\\n        allwords = list(reader)\\n    WORDLIST = list(itertools.chain.from_iterable(allwords))\\n    WORDLIST = [x.lower() for x in WORDLIST]\\n    WORDSET = set(WORDLIST)\\n    BOARD_LENGTH = 15\\n    MAX_I = 14\\n\\n    LETTER_MULTIPLIERS = [\\n        [1, 1, 1, 1, 1, 1, 3, 1, 3, 1, 1, 1, 1, 1, 1],  # 0\\n        [1, 1, 2, 1, 1, 1, 1, 1, 1, 1, 1, 1, 2, 1, 1],  # 1\\n        [1, 2, 1, 1, 2, 1, 1, 1, 1, 1, 2, 1, 1, 2, 1],  # 2\\n        [1, 1, 1, 3, 1, 1, 1, 1, 1, 1, 1, 3, 1, 1, 1],  # 3\\n        [1, 1, 2, 1, 1, 1, 2, 1, 2, 1, 1, 1, 2, 1, 1],  # 4\\n        [1, 1, 1, 1, 1, 3, 1, 1, 1, 3, 1, 1, 1, 1, 1],\\n        [3, 1, 1, 1, 2, 1, 1, 1, 1, 1, 2, 1, 1, 1, 3],  # 6\\n        [1, 1, 1, 1, 1, 1, 1, 1, 1, 1, 1, 1, 1, 1, 1],\\n        [3, 1, 1, 1, 2, 1, 1, 1, 1, 1, 2, 1, 1, 1, 3],  # 8\\n        [1, 1, 1, 1, 1, 3, 1, 1, 1, 3, 1, 1, 1, 1, 1],\\n        [1, 1, 2, 1, 1, 1, 2, 1, 2, 1, 1, 1, 2, 1, 1],  # 10\\n        [1, 1, 1, 3, 1, 1, 1, 1, 1, 1, 1, 3, 1, 1, 1],\\n        [1, 2, 1, 1, 2, 1, 1, 1, 1, 1, 2, 1, 1, 2, 1],  # 12\\n        [1, 1, 2, 1, 1, 1, 1, 1, 1, 1, 1, 1, 2, 1, 1],\\n        [1, 1, 1, 1, 1, 1, 3, 1, 3, 1, 1, 1, 1, 1, 1],  # 14\\n    ]\\n    LETTER_MULTIPLIERS_ARRAY = np.array(LETTER_MULTIPLIERS)\\n\\n    WORD_MULTIPLIERS = [\\n        [1, 1, 1, 3, 1, 1, 1, 1, 1, 1, 1, 3, 1, 1, 1],  # 0\\n        [1, 1, 1, 1, 1, 2, 1, 1, 1, 2, 1, 1, 1, 1, 1],  # 1\\n        [1, 1, 1, 1, 1, 1, 1, 1, 1, 1, 1, 1, 1, 1, 1],  # 2\\n        [3, 1, 1, 1, 1, 1, 1, 2, 1, 1, 1, 1, 1, 1, 3],  # 3\\n        [1, 1, 1, 1, 1, 1, 1, 1, 1, 1, 1, 1, 1, 1, 1],  # 4\\n        [1, 2, 1, 1, 1, 1, 1, 1, 1, 1, 1, 1, 1, 2, 1],\\n        [1, 1, 1, 1, 1, 1, 1, 1, 1, 1, 1, 1, 1, 1, 1],  # 6\\n        [1, 1, 1, 2, 1, 1, 1, 1, 1, 1, 1, 2, 1, 1, 1],\\n        [1, 1, 1, 1, 1, 1, 1, 1, 1, 1, 1, 1, 1, 1, 1],  # 8\\n        [1, 2, 1, 1, 1, 1, 1, 1, 1, 1, 1, 1, 1, 2, 1],\\n        [1, 1, 1, 1, 1, 1, 1, 1, 1, 1, 1, 1, 1, 1, 1],  # 10\\n        [3, 1, 1, 1, 1, 1, 1, 2, 1, 1, 1, 1, 1, 1, 3],\\n        [1, 1, 1, 1, 1, 1, 1, 1, 1, 1, 1, 1, 1, 1, 1],  # 12\\n        [1, 1, 1, 1, 1, 2, 1, 1, 1, 2, 1, 1, 1, 1, 1],\\n        [1, 1, 1, 3, 1, 1, 1, 1, 1, 1, 1, 3, 1, 1, 1],  # 14\\n    ]\\n    WORD_MULTIPLIERS_ARRAY = np.array(WORD_MULTIPLIERS)\\n\\n    TILE_SCORES = {\\n        \\\"a\\\": 1,\\n        \\\"b\\\": 4,\\n        \\\"c\\\": 4,\\n        \\\"d\\\": 2,\\n        \\\"e\\\": 1,\\n        \\\"f\\\": 4,\\n        \\\"g\\\": 3,\\n        \\\"h\\\": 3,\\n        \\\"i\\\": 1,\\n        \\\"j\\\": 10,\\n        \\\"k\\\": 5,\\n        \\\"l\\\": 2,\\n        \\\"m\\\": 4,\\n        \\\"n\\\": 2,\\n        \\\"o\\\": 1,\\n        \\\"p\\\": 4,\\n        \\\"q\\\": 10,\\n        \\\"r\\\": 1,\\n        \\\"s\\\": 1,\\n        \\\"t\\\": 1,\\n        \\\"u\\\": 2,\\n        \\\"v\\\": 5,\\n        \\\"w\\\": 4,\\n        \\\"x\\\": 8,\\n        \\\"y\\\": 3,\\n        \\\"z\\\": 10,\\n    }\\n\\n    def __init__(self, board, hand_letters):\\n        self.board = board\\n        self.hand_letters = hand_letters\\n        self.T_board = np.copy(board).transpose()  # TODO: should this be here?\\n        self.board_mask = (np.copy(board) != \\\"\\\").astype(int)\\n\\n    # Navigator functions\\n    def check_yx(self, y, x):\\n        if x > -1 and x < 15 and y > -1 and y < 15:\\n            return bool(self.board[y, x])\\n        else:\\n            return \\\"out\\\"\\n\\n    def check_right(self, y, x):\\n        if x < self.BOARD_LENGTH - 1:\\n            return bool(self.board[y, x + 1]), self.board[y, x + 1]\\n        else:\\n            return \\\"out\\\"\\n\\n    def check_left(self, y, x):\\n        if x > 0:\\n            return bool(self.board[y, x - 1]), self.board[y, x - 1]\\n        else:\\n            return \\\"out\\\"\\n\\n    def check_above(self, y, x):\\n        if y > 0:\\n            return bool(self.board[y - 1, x]), self.board[y - 1, x]\\n        else:\\n            return \\\"out\\\"\\n\\n    def check_below(self, y, x):\\n        if y < self.BOARD_LENGTH - 1:\\n            return bool(self.board[y + 1, x]), self.board[y + 1, x]\\n        else:\\n            return \\\"out\\\"\\n\\n    # For potential words of a given length\\n    # start at the left, travel right (keep track of empties) till you hit a letter\\n    def hand_letter_permutations(self, length):\\n        # this returns a list of permutations of the hand letters of a given length\\n        letter_permutations = list(itertools.permutations(self.hand_letters, length))\\n        return letter_permutations\\n\\n    def row_permutations(self, row):\\n        y = row\\n        board_row = self.board[row]\\n\\n        # no_ means \\\"number of\\\" here\\n        no_hand_letters = len(self.hand_letters)\\n        no_pre_filled = sum(list(map(bool, board_row)))\\n        row_perms_dict = {}\\n\\n        if no_pre_filled > 0:\\n            for perm_len in range(1, no_hand_letters + 1):\\n                hand_perms = self.hand_letter_permutations(perm_len)\\n                # for x in range(0, BOARD_LENGTH-(len(self.hand_letters)-1)-no_pre_filled):\\n                # x=0\\n                no_tiles_to_right = no_pre_filled\\n                for hand_perm in hand_perms:\\n                    # while x + no_tiles_to_right+perm_len<self.BOARD_LENGTH:\\n                    x = 0\\n                    if (\\n                        self.check_yx(y, x) == False\\n                    ):  # and sum(list(map(bool,board_row[x:x+no_hand_letters])))\\n                        # for hand_perm in hand_perms:\\n                        while True:\\n                            # TODO check this\\n                            if (\\n                                any(\\n                                    board_row[max(0, x - 1) : min(x + perm_len + 1, 14)]\\n                                )\\n                                == True\\n                            ):\\n                                complete_word, word_y, word_x = self.complete_word_y_x(\\n                                    row, x, hand_perm\\n                                )\\n                                if complete_word == []:\\n                                    break\\n                                elif len(complete_word) > perm_len:\\n                                    # TODO: could leave out the part after the and below and delete duplicates later\\n                                    # TODO: could indicate the length of the original perm\\n                                    if (\\n                                        complete_word in row_perms_dict\\n                                        and [word_y, word_x]\\n                                        not in row_perms_dict[complete_word]\\n                                    ):\\n                                        row_perms_dict[complete_word].append(\\n                                            [word_y, word_x]\\n                                        )\\n                                    else:\\n                                        row_perms_dict[complete_word] = [\\n                                            [word_y, word_x]\\n                                        ]\\n                            x = x + 1\\n                            if x == self.BOARD_LENGTH:\\n                                break\\n                    # no_tiles_to_right=sum(list(map(bool,board_row[x+1:])))#TODO: +1 here?\\n        return row_perms_dict\\n\\n    # fill the next len(hand_perm) spaces with hand tiles and find the connecting words\\n    # row=y\\n    def complete_word_y_x(self, row, x, hand_perm):\\n        hand_perm = list(hand_perm)\\n        perm_len = len(hand_perm)\\n        X = x\\n        board_row = self.board[row]\\n        y = row\\n        no_filled = 0\\n        filled_tiles = []\\n        left_letters = []\\n        right_letters = []\\n        while self.check_left(y, x)[0] == True:\\n            x = x - 1\\n            left_letters = left_letters + [board_row[x]]\\n        left_letters = left_letters[::-1]\\n        x = X\\n        while no_filled < perm_len:\\n            if self.check_yx(y, x) == True:\\n                filled_tiles = filled_tiles + [board_row[x]]\\n            elif self.check_yx(y, x) == \\\"out\\\":\\n                return [], [], []\\n            elif self.check_yx(y, x) == False:\\n                new_tile = hand_perm.pop(0)\\n                filled_tiles = filled_tiles + [new_tile]\\n                no_filled = no_filled + 1\\n            x = x + 1\\n        x = x - 1\\n        while self.check_right(y, x)[0] == True:\\n            x = x + 1\\n            right_letters = right_letters + [board_row[x]]\\n        complete_word_as_list = left_letters + filled_tiles + right_letters\\n        word_x = X - len(left_letters)\\n        complete_word = \\\"\\\".join(complete_word_as_list)\\n        return complete_word, y, word_x\\n\\n    # Find the crossing words for a given complete_word_y_x info\\n    def find_crosses(self, complete_word, y, x):\\n        crossing_words = set()\\n        count = 0\\n        for tile in complete_word:\\n            # TODO: don't think I need this if part, only the last part and len(crossing_word)>1\\n            if (\\n                self.check_above(y, x)[0] == True or self.check_below(y, x)[0] == True\\n            ) and self.board[y, x] != tile:\\n                crossing_word, T_y, T_x = self.crossing_words_at_tile(tile, y, x)\\n                if len(crossing_word) > 1:\\n                    crossing_words.add((crossing_word, T_y, T_x))\\n\\n            # TODO: not sure if I need all this stuff about edge_letter\\n            #             if self.board[y, x] != tile:\\n            #                 count = count + 1\\n            #                 edge_letter = tile\\n            #                 edge_x = x\\n            #                 edge_y = y\\n\\n            x = x + 1\\n        # TODO fix this?\\n        #         if count == 1 and len(crossing_words) == 0:\\n        #             crossing_words.add((edge_letter, edge_y, edge_x))\\n        if len(crossing_words) == 0:\\n            crossing_words.add((\\\"\\\", -1, -1))\\n        return crossing_words\\n\\n    # Enter a tile and its location and return the crosses that it makes\\n    def crossing_words_at_tile(self, tile, y, x):\\n        # We will be using the transpose board so y and x are switched\\n        self.board = self.board.transpose()\\n        y, x = x, y\\n        crossing_word, T_y, T_x = self.complete_word_y_x(y, x, (tile))\\n        self.board = self.board.transpose()\\n        return crossing_word, T_y, T_x\\n\\n    # insert the \\\"hook letter\\\" into a shadow board and find the output connected to that\\n    # assume the board has already been transposed and you are operating with the right y and x\\n    def edge_perms(self, hook_letter, y, x):\\n        self.board[y, x] = hook_letter\\n        self.hand_letters.remove(hook_letter)\\n        shadow_row_perms = self.row_permutations(y)\\n        edge_perms_dict = {\\n            k: v\\n            for (k, v) in shadow_row_perms.items()\\n            if v[0][1] <= x\\n            and v[0][1] + len(k)\\n            >= x  # TODO: see if I really need to put out a nested list here\\n        }\\n\\n        self.hand_letters.append(hook_letter)\\n        self.board[y, x] = \\\"\\\"\\n        return edge_perms_dict\\n\\n    def find_valid_perms(self):\\n        crossing_set = set()\\n        board_perms_dict = {}\\n\\n        for row in range(0, self.BOARD_LENGTH):\\n            row_perms = self.row_permutations(row)\\n            for complete_word in row_perms:\\n                if complete_word in board_perms_dict:\\n                    board_perms_dict[complete_word] = (\\n                        board_perms_dict[complete_word] + row_perms[complete_word]\\n                    )\\n                else:\\n                    board_perms_dict[complete_word] = row_perms[complete_word]\\n        perms_set = set(board_perms_dict.keys())\\n        valid_perms = self.WORDSET.intersection(perms_set)\\n        valid_perms_dict = {\\n            k: v for (k, v) in board_perms_dict.items() if k in valid_perms\\n        }\\n        return valid_perms_dict\\n\\n    # use the perms to find crossings and check if they are all valid\\n    # TODO: ask to see if I can somehow check all of these sets at once so I only have to iter through once\\n    def check_crosses(self, valid_perm, y, x):\\n        crosses_with_position = self.find_crosses(valid_perm, y, x)\\n        crossing_words = set([i for i in zip(*crosses_with_position)][0])\\n        crosses_valid = crossing_words.issubset(\\n            self.WORDSET\\n        ) or crosses_with_position == {(\\\"\\\", -1, -1)}\\n        return crosses_valid, crosses_with_position\\n\\n    # make a dictionary of valid plays for one direction as a dictionary of words with a nested crossing dict\\n    # in the first entry of a list that are the values of the dictionary\\n    def valid_plays(self, valid_perms):\\n        # valid_perms = self.find_valid_perms() #TODO is this right to move to a parameter?\\n\\n        valid_plays = defaultdict(lambda: defaultdict(lambda: defaultdict(list)))\\n        for valid_perm in valid_perms:\\n            potential_positions = valid_perms[valid_perm]\\n            for potential_position in potential_positions:\\n                y = potential_position[0]\\n                x = potential_position[1]\\n                crosses_valid, crosses_with_position = self.check_crosses(\\n                    valid_perm, y, x\\n                )\\n                if crosses_valid == True:\\n                    # TODO: I need to be able to add new positionf of the same cross here\\n                    # probably need to make another default dict here\\n                    for cross_with_position in crosses_with_position:\\n                        valid_plays[valid_perm][tuple(potential_position)][\\n                            cross_with_position[0]\\n                        ].append((cross_with_position[1:3]))\\n        return valid_plays\\n\\n    # remember the crosses returned above have the x and y switched, as well as nested default dicts\\n\\n    # Find which tiles of a word originated from the hand\\n    def new_tiles(self, valid_word, y, x):\\n        new_tiles = []\\n        for letter in valid_word:\\n            if self.check_yx(y, x) == False:\\n                new_tiles.append(\\n                    [letter, y, x]\\n                )  # should this really be a dictionary list?\\n            x = x + 1\\n        return new_tiles\\n\\n    # Find which tiles could be used to build a crossing word\\n    def find_edge_hooks(self, valid_plays):\\n        edge_hooks = []\\n        for valid_word in valid_plays:\\n            for position in valid_plays[valid_word]:\\n                y = position[0]\\n                x = position[1]\\n                new_tiles = self.new_tiles(valid_word, y, x)\\n                if len(new_tiles) == 1:\\n                    edge_hooks = edge_hooks + new_tiles\\n        return edge_hooks\\n\\n    # create a dictionary of the valid edge words\\n    # could probably adapt find valid perms above for this\\n    def valid_edge_words(self, edge_hooks):\\n        edge_perms_dict = {}\\n        for hook in edge_hooks:\\n            hook_letter = hook[0]\\n            # x and y are transposed\\n            y = hook[2]\\n            x = hook[1]\\n            edge_perms = self.edge_perms(hook_letter, y, x)\\n\\n            for complete_word in edge_perms:\\n                #                 if complete_word in edge_perms_dict:\\n                #                     edge_perms_dict[complete_word] = (\\n                #                         edge_perms_dict[complete_word] + edge_perms[complete_word]\\n                #                     )\\n                #                 else:\\n                #                     edge_perms_dict[complete_word] = edge_perms[complete_word]\\n                # debugging\\n                if complete_word not in edge_perms_dict:\\n                    edge_perms_dict[complete_word] = edge_perms[complete_word]\\n                elif edge_perms[complete_word][0] not in edge_perms_dict[complete_word]:\\n                    # debugging\\n                    # print(\\n                    # \\\"\\\\n complete_word\\\",\\n                    # complete_word,\\n                    # \\\"\\\\n EP(CW)\\\",\\n                    # edge_perms[complete_word],\\n                    # \\\"\\\\n EPD(CW)\\\",\\n                    # edge_perms_dict[complete_word],\\n                    # )\\n                    edge_perms_dict[complete_word] = (\\n                        edge_perms_dict[complete_word] + edge_perms[complete_word]\\n                    )\\n        # copied from above, checking if perm in the dictionary\\n        edge_perms_set = set(edge_perms_dict.keys())\\n        valid_edge_perms = self.WORDSET.intersection(edge_perms_set)\\n        valid_edge_perms_dict = {\\n            k: v for (k, v) in edge_perms_dict.items() if k in valid_edge_perms\\n        }\\n        return valid_edge_perms_dict\\n\\n    # Flattens the row and column dictionaries, making them more intuitive/combinable\\n    def unpack_dictionary(self, dict1):\\n        new_dict = {}\\n        for word in dict1:\\n            location_crosses = dict1[word]\\n            for location in location_crosses:\\n                crosses_dict = location_crosses[location]\\n                last_word_location = []\\n                for crossing_word in crosses_dict:\\n                    crossing_word_locations = crosses_dict[crossing_word]\\n                    for crossing_location in crossing_word_locations:\\n                        if len(last_word_location) > 0:\\n                            new_dict[(word, location)] = new_dict[\\n                                last_word_location\\n                            ] + (crossing_word, crossing_location)\\n                        else:\\n                            new_dict[(word, location)] = (\\n                                crossing_word,\\n                                crossing_location,\\n                            )\\n                        last_word_location = (word, location)\\n        new_new_dict = {}\\n        for key in new_dict:\\n            crossers_list = new_dict[key]\\n            new_new_dict[key] = tuple(zip(crossers_list, crossers_list[1:]))[::2]\\n        return new_new_dict\\n\\n    # Returns 2 dictionaries of all the valid words and their crosses\\n    def all_board_words(self):\\n        # find the valid row plays\\n        valid_row_perms = self.find_valid_perms()\\n        valid_row_plays = self.valid_plays(valid_row_perms)\\n\\n        # find the edge hooks for the column-wise edge words\\n        edge_hooks_for_columns = self.find_edge_hooks(valid_row_plays)\\n\\n        # transpose\\n        self.board = self.board.transpose()\\n\\n        # find the valid column plays\\n        valid_column_perms = self.find_valid_perms()\\n        valid_column_plays = self.valid_plays(valid_column_perms)\\n\\n        # find the valid column edge plays\\n        valid_column_edge_perms = self.valid_edge_words(edge_hooks_for_columns)\\n        valid_column_edge_plays = self.valid_plays(valid_column_edge_perms)\\n\\n        # find the edge hooks for the row-wise edge words\\n        edge_hooks_for_rows = self.find_edge_hooks(valid_column_plays)\\n\\n        # transpose\\n        self.board = self.board.transpose()\\n\\n        # find the valid row edge plays\\n        valid_row_edge_perms = self.valid_edge_words(edge_hooks_for_rows)\\n        valid_row_edge_plays = self.valid_plays(valid_row_edge_perms)\\n\\n        # transform them all into a more readable format\\n        valid_row_plays = self.unpack_dictionary(valid_row_plays)\\n        valid_row_edge_plays = self.unpack_dictionary(valid_row_edge_plays)\\n        valid_column_plays = self.unpack_dictionary(valid_column_plays)\\n        valid_column_edge_plays = self.unpack_dictionary(valid_column_edge_plays)\\n\\n        # collapse the row and column dictionaries\\n        all_row_words = {**valid_row_plays, **valid_row_edge_plays}\\n        all_column_words = {**valid_column_plays, **valid_column_edge_plays}\\n        # debugging\\n        # print(\\\"valid_row_edge_perms:\\\")\\n        # print(valid_row_edge_perms)\\n        # print(\\\"valid row edge plays:\\\")\\n        # print(valid_row_edge_plays)\\n        # print(\\\"all row words:\\\")\\n        # print(all_row_words)\\n        # now I have two dictionaries: row and column in the format of:\\n        # {(mainword, y, x): ((crossingword, y, x), (crossingword, y, x), etc)\\n        # (mainword, y, x): ((crossingword, y, x), etc)\\n        # ...\\n        # }\\n        # remember that the y and x of the crossing words refer to a transposed board vis-a-vis the main word\\n\\n        return all_row_words, all_column_words\\n\\n    # calculate the score of a group of tiles (not the whole play)\\n    def calculate_word_score(\\n        self, word, y, x, letter_multipliers_array, word_multipliers_array\\n    ):\\n        letter_multipliers = np.copy(letter_multipliers_array[y, x : x + len(word)])\\n        word_multipliers = np.copy(word_multipliers_array[y, x : x + len(word)])\\n        scores = [self.TILE_SCORES[l] for l in word]\\n        word_score = np.dot(letter_multipliers, scores)\\n        word_score = word_score * np.prod(word_multipliers)\\n        return word_score\\n\\n    # calculating the total value of a main word and its crosses\\n    def total_score(self, main_word_and_location, crossing_words_and_locations):\\n        letter_multipliers_array = np.copy(self.LETTER_MULTIPLIERS_ARRAY)\\n        word_multipliers_array = np.copy(self.WORD_MULTIPLIERS_ARRAY)\\n        # make the  multipliers==1 if there are pieces on them on the board;\\n        # TODO: how permanent is the below?\\n        bool_mask = (self.board != \\\" \\\").astype(int)\\n        letter_multipliers_array = np.where(bool_mask == 1, 1, letter_multipliers_array)\\n        word_multipliers_array = np.where(bool_mask == 1, 1, word_multipliers_array)\\n\\n        main_word = main_word_and_location[0]\\n        y = main_word_and_location[1][0]\\n        x = main_word_and_location[1][1]\\n        main_score = self.calculate_word_score(\\n            main_word, y, x, letter_multipliers_array, word_multipliers_array\\n        )\\n        # debugging\\n        #         print(\\\"main word:\\\")\\n        #         print(main_word_and_location, main_score)\\n        # TODO: ask if I should have transpose inside or outside the copy function here\\n        # transpose the multiplier arrays to use to score the crossing words\\n        T_word_multipliers = np.copy(word_multipliers_array.transpose())\\n        T_letter_multipliers = np.copy(letter_multipliers_array.transpose())\\n\\n        # calculating the crossing words' total score\\n        crossers_score = 0\\n        for crossing_word_and_location in crossing_words_and_locations:\\n            if len(crossing_word_and_location[0]) > 1:\\n                y = crossing_word_and_location[1][0]\\n                x = crossing_word_and_location[1][1]\\n                crossing_word = crossing_word_and_location[0]\\n                crosser_score = self.calculate_word_score(\\n                    crossing_word, y, x, T_letter_multipliers, T_word_multipliers\\n                )\\n                # debugging\\n            #                 print(\\\"crossing score\\\")\\n            #                 print(crossing_word_and_location, crosser_score)\\n            else:\\n                crosser_score = 0\\n            crossers_score = crossers_score + crosser_score\\n        total_score = main_score + crossers_score\\n        return total_score\\n\\n    # Create a dictionary of all valid main words and their scores\\n    def valid_score_choices(self):\\n        board = self.board\\n        hand_letters = self.hand_letters\\n        letter_multiplier_array = self.LETTER_MULTIPLIERS_ARRAY\\n        word_multiplier_array = self.WORD_MULTIPLIERS_ARRAY\\n        # make a transpose board\\n        transpose_board = np.copy(board)\\n        transpose_board = transpose_board.transpose()\\n\\n        # calculate the words/placement allowed by the rules of the game\\n        all_row_words, all_column_words = self.all_board_words()\\n\\n        # create a dictionary of each of these words along with their score\\n        row_score_dict = {}\\n        column_score_dict = {}\\n        for main_word_and_location in all_row_words:\\n            crossing_words_and_locations = all_row_words[main_word_and_location]\\n            score = self.total_score(\\n                main_word_and_location, crossing_words_and_locations\\n            )\\n            row_score_dict[main_word_and_location] = score\\n\\n        # transpose the board\\n        self.board = self.board.transpose()\\n\\n        for main_word_and_location in all_column_words:\\n            crossing_words_and_locations = all_column_words[main_word_and_location]\\n            score = self.total_score(\\n                main_word_and_location, crossing_words_and_locations\\n            )\\n            column_score_dict[main_word_and_location] = score\\n\\n        return row_score_dict, column_score_dict\";\n",
       "                var nbb_cells = Jupyter.notebook.get_cells();\n",
       "                for (var i = 0; i < nbb_cells.length; ++i) {\n",
       "                    if (nbb_cells[i].input_prompt_number == nbb_cell_id) {\n",
       "                        if (nbb_cells[i].get_text() == nbb_unformatted_code) {\n",
       "                             nbb_cells[i].set_text(nbb_formatted_code);\n",
       "                        }\n",
       "                        break;\n",
       "                    }\n",
       "                }\n",
       "            }, 500);\n",
       "            "
      ],
      "text/plain": [
       "<IPython.core.display.Javascript object>"
      ]
     },
     "metadata": {},
     "output_type": "display_data"
    }
   ],
   "source": [
    "class Scrabbler:\n",
    "    data_path = \"../sowpods.txt\"\n",
    "    with open(data_path, newline=\"\") as f:\n",
    "        reader = csv.reader(f)\n",
    "        allwords = list(reader)\n",
    "    WORDLIST = list(itertools.chain.from_iterable(allwords))\n",
    "    WORDLIST = [x.lower() for x in WORDLIST]\n",
    "    WORDSET = set(WORDLIST)\n",
    "    BOARD_LENGTH = 15\n",
    "    MAX_I = 14\n",
    "\n",
    "    LETTER_MULTIPLIERS = [\n",
    "        [1, 1, 1, 1, 1, 1, 3, 1, 3, 1, 1, 1, 1, 1, 1],  # 0\n",
    "        [1, 1, 2, 1, 1, 1, 1, 1, 1, 1, 1, 1, 2, 1, 1],  # 1\n",
    "        [1, 2, 1, 1, 2, 1, 1, 1, 1, 1, 2, 1, 1, 2, 1],  # 2\n",
    "        [1, 1, 1, 3, 1, 1, 1, 1, 1, 1, 1, 3, 1, 1, 1],  # 3\n",
    "        [1, 1, 2, 1, 1, 1, 2, 1, 2, 1, 1, 1, 2, 1, 1],  # 4\n",
    "        [1, 1, 1, 1, 1, 3, 1, 1, 1, 3, 1, 1, 1, 1, 1],\n",
    "        [3, 1, 1, 1, 2, 1, 1, 1, 1, 1, 2, 1, 1, 1, 3],  # 6\n",
    "        [1, 1, 1, 1, 1, 1, 1, 1, 1, 1, 1, 1, 1, 1, 1],\n",
    "        [3, 1, 1, 1, 2, 1, 1, 1, 1, 1, 2, 1, 1, 1, 3],  # 8\n",
    "        [1, 1, 1, 1, 1, 3, 1, 1, 1, 3, 1, 1, 1, 1, 1],\n",
    "        [1, 1, 2, 1, 1, 1, 2, 1, 2, 1, 1, 1, 2, 1, 1],  # 10\n",
    "        [1, 1, 1, 3, 1, 1, 1, 1, 1, 1, 1, 3, 1, 1, 1],\n",
    "        [1, 2, 1, 1, 2, 1, 1, 1, 1, 1, 2, 1, 1, 2, 1],  # 12\n",
    "        [1, 1, 2, 1, 1, 1, 1, 1, 1, 1, 1, 1, 2, 1, 1],\n",
    "        [1, 1, 1, 1, 1, 1, 3, 1, 3, 1, 1, 1, 1, 1, 1],  # 14\n",
    "    ]\n",
    "    LETTER_MULTIPLIERS_ARRAY = np.array(LETTER_MULTIPLIERS)\n",
    "\n",
    "    WORD_MULTIPLIERS = [\n",
    "        [1, 1, 1, 3, 1, 1, 1, 1, 1, 1, 1, 3, 1, 1, 1],  # 0\n",
    "        [1, 1, 1, 1, 1, 2, 1, 1, 1, 2, 1, 1, 1, 1, 1],  # 1\n",
    "        [1, 1, 1, 1, 1, 1, 1, 1, 1, 1, 1, 1, 1, 1, 1],  # 2\n",
    "        [3, 1, 1, 1, 1, 1, 1, 2, 1, 1, 1, 1, 1, 1, 3],  # 3\n",
    "        [1, 1, 1, 1, 1, 1, 1, 1, 1, 1, 1, 1, 1, 1, 1],  # 4\n",
    "        [1, 2, 1, 1, 1, 1, 1, 1, 1, 1, 1, 1, 1, 2, 1],\n",
    "        [1, 1, 1, 1, 1, 1, 1, 1, 1, 1, 1, 1, 1, 1, 1],  # 6\n",
    "        [1, 1, 1, 2, 1, 1, 1, 1, 1, 1, 1, 2, 1, 1, 1],\n",
    "        [1, 1, 1, 1, 1, 1, 1, 1, 1, 1, 1, 1, 1, 1, 1],  # 8\n",
    "        [1, 2, 1, 1, 1, 1, 1, 1, 1, 1, 1, 1, 1, 2, 1],\n",
    "        [1, 1, 1, 1, 1, 1, 1, 1, 1, 1, 1, 1, 1, 1, 1],  # 10\n",
    "        [3, 1, 1, 1, 1, 1, 1, 2, 1, 1, 1, 1, 1, 1, 3],\n",
    "        [1, 1, 1, 1, 1, 1, 1, 1, 1, 1, 1, 1, 1, 1, 1],  # 12\n",
    "        [1, 1, 1, 1, 1, 2, 1, 1, 1, 2, 1, 1, 1, 1, 1],\n",
    "        [1, 1, 1, 3, 1, 1, 1, 1, 1, 1, 1, 3, 1, 1, 1],  # 14\n",
    "    ]\n",
    "    WORD_MULTIPLIERS_ARRAY = np.array(WORD_MULTIPLIERS)\n",
    "\n",
    "    TILE_SCORES = {\n",
    "        \"a\": 1,\n",
    "        \"b\": 4,\n",
    "        \"c\": 4,\n",
    "        \"d\": 2,\n",
    "        \"e\": 1,\n",
    "        \"f\": 4,\n",
    "        \"g\": 3,\n",
    "        \"h\": 3,\n",
    "        \"i\": 1,\n",
    "        \"j\": 10,\n",
    "        \"k\": 5,\n",
    "        \"l\": 2,\n",
    "        \"m\": 4,\n",
    "        \"n\": 2,\n",
    "        \"o\": 1,\n",
    "        \"p\": 4,\n",
    "        \"q\": 10,\n",
    "        \"r\": 1,\n",
    "        \"s\": 1,\n",
    "        \"t\": 1,\n",
    "        \"u\": 2,\n",
    "        \"v\": 5,\n",
    "        \"w\": 4,\n",
    "        \"x\": 8,\n",
    "        \"y\": 3,\n",
    "        \"z\": 10,\n",
    "    }\n",
    "\n",
    "    def __init__(self, board, hand_letters):\n",
    "        self.board = board\n",
    "        self.hand_letters = hand_letters\n",
    "        self.T_board = np.copy(board).transpose()  # TODO: should this be here?\n",
    "        self.board_mask = (np.copy(board) != \"\").astype(int)\n",
    "\n",
    "    # Navigator functions\n",
    "    def check_yx(self, y, x):\n",
    "        if x > -1 and x < 15 and y > -1 and y < 15:\n",
    "            return bool(self.board[y, x])\n",
    "        else:\n",
    "            return \"out\"\n",
    "\n",
    "    def check_right(self, y, x):\n",
    "        if x < self.BOARD_LENGTH - 1:\n",
    "            return bool(self.board[y, x + 1]), self.board[y, x + 1]\n",
    "        else:\n",
    "            return \"out\"\n",
    "\n",
    "    def check_left(self, y, x):\n",
    "        if x > 0:\n",
    "            return bool(self.board[y, x - 1]), self.board[y, x - 1]\n",
    "        else:\n",
    "            return \"out\"\n",
    "\n",
    "    def check_above(self, y, x):\n",
    "        if y > 0:\n",
    "            return bool(self.board[y - 1, x]), self.board[y - 1, x]\n",
    "        else:\n",
    "            return \"out\"\n",
    "\n",
    "    def check_below(self, y, x):\n",
    "        if y < self.BOARD_LENGTH - 1:\n",
    "            return bool(self.board[y + 1, x]), self.board[y + 1, x]\n",
    "        else:\n",
    "            return \"out\"\n",
    "\n",
    "    # For potential words of a given length\n",
    "    # start at the left, travel right (keep track of empties) till you hit a letter\n",
    "    def hand_letter_permutations(self, length):\n",
    "        # this returns a list of permutations of the hand letters of a given length\n",
    "        letter_permutations = list(itertools.permutations(self.hand_letters, length))\n",
    "        return letter_permutations\n",
    "\n",
    "    def row_permutations(self, row):\n",
    "        y = row\n",
    "        board_row = self.board[row]\n",
    "\n",
    "        # no_ means \"number of\" here\n",
    "        no_hand_letters = len(self.hand_letters)\n",
    "        no_pre_filled = sum(list(map(bool, board_row)))\n",
    "        row_perms_dict = {}\n",
    "\n",
    "        if no_pre_filled > 0:\n",
    "            for perm_len in range(1, no_hand_letters + 1):\n",
    "                hand_perms = self.hand_letter_permutations(perm_len)\n",
    "                # for x in range(0, BOARD_LENGTH-(len(self.hand_letters)-1)-no_pre_filled):\n",
    "                # x=0\n",
    "                no_tiles_to_right = no_pre_filled\n",
    "                for hand_perm in hand_perms:\n",
    "                    # while x + no_tiles_to_right+perm_len<self.BOARD_LENGTH:\n",
    "                    x = 0\n",
    "                    if (\n",
    "                        self.check_yx(y, x) == False\n",
    "                    ):  # and sum(list(map(bool,board_row[x:x+no_hand_letters])))\n",
    "                        # for hand_perm in hand_perms:\n",
    "                        while True:\n",
    "                            # TODO check this\n",
    "                            if (\n",
    "                                any(\n",
    "                                    board_row[max(0, x - 1) : min(x + perm_len + 1, 14)]\n",
    "                                )\n",
    "                                == True\n",
    "                            ):\n",
    "                                complete_word, word_y, word_x = self.complete_word_y_x(\n",
    "                                    row, x, hand_perm\n",
    "                                )\n",
    "                                if complete_word == []:\n",
    "                                    break\n",
    "                                elif len(complete_word) > perm_len:\n",
    "                                    # TODO: could leave out the part after the and below and delete duplicates later\n",
    "                                    # TODO: could indicate the length of the original perm\n",
    "                                    if (\n",
    "                                        complete_word in row_perms_dict\n",
    "                                        and [word_y, word_x]\n",
    "                                        not in row_perms_dict[complete_word]\n",
    "                                    ):\n",
    "                                        row_perms_dict[complete_word].append(\n",
    "                                            [word_y, word_x]\n",
    "                                        )\n",
    "                                    else:\n",
    "                                        row_perms_dict[complete_word] = [\n",
    "                                            [word_y, word_x]\n",
    "                                        ]\n",
    "                            x = x + 1\n",
    "                            if x == self.BOARD_LENGTH:\n",
    "                                break\n",
    "                    # no_tiles_to_right=sum(list(map(bool,board_row[x+1:])))#TODO: +1 here?\n",
    "        return row_perms_dict\n",
    "\n",
    "    # fill the next len(hand_perm) spaces with hand tiles and find the connecting words\n",
    "    # row=y\n",
    "    def complete_word_y_x(self, row, x, hand_perm):\n",
    "        hand_perm = list(hand_perm)\n",
    "        perm_len = len(hand_perm)\n",
    "        X = x\n",
    "        board_row = self.board[row]\n",
    "        y = row\n",
    "        no_filled = 0\n",
    "        filled_tiles = []\n",
    "        left_letters = []\n",
    "        right_letters = []\n",
    "        while self.check_left(y, x)[0] == True:\n",
    "            x = x - 1\n",
    "            left_letters = left_letters + [board_row[x]]\n",
    "        left_letters = left_letters[::-1]\n",
    "        x = X\n",
    "        while no_filled < perm_len:\n",
    "            if self.check_yx(y, x) == True:\n",
    "                filled_tiles = filled_tiles + [board_row[x]]\n",
    "            elif self.check_yx(y, x) == \"out\":\n",
    "                return [], [], []\n",
    "            elif self.check_yx(y, x) == False:\n",
    "                new_tile = hand_perm.pop(0)\n",
    "                filled_tiles = filled_tiles + [new_tile]\n",
    "                no_filled = no_filled + 1\n",
    "            x = x + 1\n",
    "        x = x - 1\n",
    "        while self.check_right(y, x)[0] == True:\n",
    "            x = x + 1\n",
    "            right_letters = right_letters + [board_row[x]]\n",
    "        complete_word_as_list = left_letters + filled_tiles + right_letters\n",
    "        word_x = X - len(left_letters)\n",
    "        complete_word = \"\".join(complete_word_as_list)\n",
    "        return complete_word, y, word_x\n",
    "\n",
    "    # Find the crossing words for a given complete_word_y_x info\n",
    "    def find_crosses(self, complete_word, y, x):\n",
    "        crossing_words = set()\n",
    "        count = 0\n",
    "        for tile in complete_word:\n",
    "            # TODO: don't think I need this if part, only the last part and len(crossing_word)>1\n",
    "            if (\n",
    "                self.check_above(y, x)[0] == True or self.check_below(y, x)[0] == True\n",
    "            ) and self.board[y, x] != tile:\n",
    "                crossing_word, T_y, T_x = self.crossing_words_at_tile(tile, y, x)\n",
    "                if len(crossing_word) > 1:\n",
    "                    crossing_words.add((crossing_word, T_y, T_x))\n",
    "\n",
    "            # TODO: not sure if I need all this stuff about edge_letter\n",
    "            #             if self.board[y, x] != tile:\n",
    "            #                 count = count + 1\n",
    "            #                 edge_letter = tile\n",
    "            #                 edge_x = x\n",
    "            #                 edge_y = y\n",
    "\n",
    "            x = x + 1\n",
    "        # TODO fix this?\n",
    "        #         if count == 1 and len(crossing_words) == 0:\n",
    "        #             crossing_words.add((edge_letter, edge_y, edge_x))\n",
    "        if len(crossing_words) == 0:\n",
    "            crossing_words.add((\"\", -1, -1))\n",
    "        return crossing_words\n",
    "\n",
    "    # Enter a tile and its location and return the crosses that it makes\n",
    "    def crossing_words_at_tile(self, tile, y, x):\n",
    "        # We will be using the transpose board so y and x are switched\n",
    "        self.board = self.board.transpose()\n",
    "        y, x = x, y\n",
    "        crossing_word, T_y, T_x = self.complete_word_y_x(y, x, (tile))\n",
    "        self.board = self.board.transpose()\n",
    "        return crossing_word, T_y, T_x\n",
    "\n",
    "    # insert the \"hook letter\" into a shadow board and find the output connected to that\n",
    "    # assume the board has already been transposed and you are operating with the right y and x\n",
    "    def edge_perms(self, hook_letter, y, x):\n",
    "        self.board[y, x] = hook_letter\n",
    "        self.hand_letters.remove(hook_letter)\n",
    "        shadow_row_perms = self.row_permutations(y)\n",
    "        edge_perms_dict = {\n",
    "            k: v\n",
    "            for (k, v) in shadow_row_perms.items()\n",
    "            if v[0][1] <= x\n",
    "            and v[0][1] + len(k)\n",
    "            >= x  # TODO: see if I really need to put out a nested list here\n",
    "        }\n",
    "\n",
    "        self.hand_letters.append(hook_letter)\n",
    "        self.board[y, x] = \"\"\n",
    "        return edge_perms_dict\n",
    "\n",
    "    def find_valid_perms(self):\n",
    "        crossing_set = set()\n",
    "        board_perms_dict = {}\n",
    "\n",
    "        for row in range(0, self.BOARD_LENGTH):\n",
    "            row_perms = self.row_permutations(row)\n",
    "            for complete_word in row_perms:\n",
    "                if complete_word in board_perms_dict:\n",
    "                    board_perms_dict[complete_word] = (\n",
    "                        board_perms_dict[complete_word] + row_perms[complete_word]\n",
    "                    )\n",
    "                else:\n",
    "                    board_perms_dict[complete_word] = row_perms[complete_word]\n",
    "        perms_set = set(board_perms_dict.keys())\n",
    "        valid_perms = self.WORDSET.intersection(perms_set)\n",
    "        valid_perms_dict = {\n",
    "            k: v for (k, v) in board_perms_dict.items() if k in valid_perms\n",
    "        }\n",
    "        return valid_perms_dict\n",
    "\n",
    "    # use the perms to find crossings and check if they are all valid\n",
    "    # TODO: ask to see if I can somehow check all of these sets at once so I only have to iter through once\n",
    "    def check_crosses(self, valid_perm, y, x):\n",
    "        crosses_with_position = self.find_crosses(valid_perm, y, x)\n",
    "        crossing_words = set([i for i in zip(*crosses_with_position)][0])\n",
    "        crosses_valid = crossing_words.issubset(\n",
    "            self.WORDSET\n",
    "        ) or crosses_with_position == {(\"\", -1, -1)}\n",
    "        return crosses_valid, crosses_with_position\n",
    "\n",
    "    # make a dictionary of valid plays for one direction as a dictionary of words with a nested crossing dict\n",
    "    # in the first entry of a list that are the values of the dictionary\n",
    "    def valid_plays(self, valid_perms):\n",
    "        # valid_perms = self.find_valid_perms() #TODO is this right to move to a parameter?\n",
    "\n",
    "        valid_plays = defaultdict(lambda: defaultdict(lambda: defaultdict(list)))\n",
    "        for valid_perm in valid_perms:\n",
    "            potential_positions = valid_perms[valid_perm]\n",
    "            for potential_position in potential_positions:\n",
    "                y = potential_position[0]\n",
    "                x = potential_position[1]\n",
    "                crosses_valid, crosses_with_position = self.check_crosses(\n",
    "                    valid_perm, y, x\n",
    "                )\n",
    "                if crosses_valid == True:\n",
    "                    # TODO: I need to be able to add new positionf of the same cross here\n",
    "                    # probably need to make another default dict here\n",
    "                    for cross_with_position in crosses_with_position:\n",
    "                        valid_plays[valid_perm][tuple(potential_position)][\n",
    "                            cross_with_position[0]\n",
    "                        ].append((cross_with_position[1:3]))\n",
    "        return valid_plays\n",
    "\n",
    "    # remember the crosses returned above have the x and y switched, as well as nested default dicts\n",
    "\n",
    "    # Find which tiles of a word originated from the hand\n",
    "    def new_tiles(self, valid_word, y, x):\n",
    "        new_tiles = []\n",
    "        for letter in valid_word:\n",
    "            if self.check_yx(y, x) == False:\n",
    "                new_tiles.append(\n",
    "                    [letter, y, x]\n",
    "                )  # should this really be a dictionary list?\n",
    "            x = x + 1\n",
    "        return new_tiles\n",
    "\n",
    "    # Find which tiles could be used to build a crossing word\n",
    "    def find_edge_hooks(self, valid_plays):\n",
    "        edge_hooks = []\n",
    "        for valid_word in valid_plays:\n",
    "            for position in valid_plays[valid_word]:\n",
    "                y = position[0]\n",
    "                x = position[1]\n",
    "                new_tiles = self.new_tiles(valid_word, y, x)\n",
    "                if len(new_tiles) == 1:\n",
    "                    edge_hooks = edge_hooks + new_tiles\n",
    "        return edge_hooks\n",
    "\n",
    "    # create a dictionary of the valid edge words\n",
    "    # could probably adapt find valid perms above for this\n",
    "    def valid_edge_words(self, edge_hooks):\n",
    "        edge_perms_dict = {}\n",
    "        for hook in edge_hooks:\n",
    "            hook_letter = hook[0]\n",
    "            # x and y are transposed\n",
    "            y = hook[2]\n",
    "            x = hook[1]\n",
    "            edge_perms = self.edge_perms(hook_letter, y, x)\n",
    "\n",
    "            for complete_word in edge_perms:\n",
    "                #                 if complete_word in edge_perms_dict:\n",
    "                #                     edge_perms_dict[complete_word] = (\n",
    "                #                         edge_perms_dict[complete_word] + edge_perms[complete_word]\n",
    "                #                     )\n",
    "                #                 else:\n",
    "                #                     edge_perms_dict[complete_word] = edge_perms[complete_word]\n",
    "                # debugging\n",
    "                if complete_word not in edge_perms_dict:\n",
    "                    edge_perms_dict[complete_word] = edge_perms[complete_word]\n",
    "                elif edge_perms[complete_word][0] not in edge_perms_dict[complete_word]:\n",
    "                    # debugging\n",
    "                    # print(\n",
    "                    # \"\\n complete_word\",\n",
    "                    # complete_word,\n",
    "                    # \"\\n EP(CW)\",\n",
    "                    # edge_perms[complete_word],\n",
    "                    # \"\\n EPD(CW)\",\n",
    "                    # edge_perms_dict[complete_word],\n",
    "                    # )\n",
    "                    edge_perms_dict[complete_word] = (\n",
    "                        edge_perms_dict[complete_word] + edge_perms[complete_word]\n",
    "                    )\n",
    "        # copied from above, checking if perm in the dictionary\n",
    "        edge_perms_set = set(edge_perms_dict.keys())\n",
    "        valid_edge_perms = self.WORDSET.intersection(edge_perms_set)\n",
    "        valid_edge_perms_dict = {\n",
    "            k: v for (k, v) in edge_perms_dict.items() if k in valid_edge_perms\n",
    "        }\n",
    "        return valid_edge_perms_dict\n",
    "\n",
    "    # Flattens the row and column dictionaries, making them more intuitive/combinable\n",
    "    def unpack_dictionary(self, dict1):\n",
    "        new_dict = {}\n",
    "        for word in dict1:\n",
    "            location_crosses = dict1[word]\n",
    "            for location in location_crosses:\n",
    "                crosses_dict = location_crosses[location]\n",
    "                last_word_location = []\n",
    "                for crossing_word in crosses_dict:\n",
    "                    crossing_word_locations = crosses_dict[crossing_word]\n",
    "                    for crossing_location in crossing_word_locations:\n",
    "                        if len(last_word_location) > 0:\n",
    "                            new_dict[(word, location)] = new_dict[\n",
    "                                last_word_location\n",
    "                            ] + (crossing_word, crossing_location)\n",
    "                        else:\n",
    "                            new_dict[(word, location)] = (\n",
    "                                crossing_word,\n",
    "                                crossing_location,\n",
    "                            )\n",
    "                        last_word_location = (word, location)\n",
    "        new_new_dict = {}\n",
    "        for key in new_dict:\n",
    "            crossers_list = new_dict[key]\n",
    "            new_new_dict[key] = tuple(zip(crossers_list, crossers_list[1:]))[::2]\n",
    "        return new_new_dict\n",
    "\n",
    "    # Returns 2 dictionaries of all the valid words and their crosses\n",
    "    def all_board_words(self):\n",
    "        # find the valid row plays\n",
    "        valid_row_perms = self.find_valid_perms()\n",
    "        valid_row_plays = self.valid_plays(valid_row_perms)\n",
    "\n",
    "        # find the edge hooks for the column-wise edge words\n",
    "        edge_hooks_for_columns = self.find_edge_hooks(valid_row_plays)\n",
    "\n",
    "        # transpose\n",
    "        self.board = self.board.transpose()\n",
    "\n",
    "        # find the valid column plays\n",
    "        valid_column_perms = self.find_valid_perms()\n",
    "        valid_column_plays = self.valid_plays(valid_column_perms)\n",
    "\n",
    "        # find the valid column edge plays\n",
    "        valid_column_edge_perms = self.valid_edge_words(edge_hooks_for_columns)\n",
    "        valid_column_edge_plays = self.valid_plays(valid_column_edge_perms)\n",
    "\n",
    "        # find the edge hooks for the row-wise edge words\n",
    "        edge_hooks_for_rows = self.find_edge_hooks(valid_column_plays)\n",
    "\n",
    "        # transpose\n",
    "        self.board = self.board.transpose()\n",
    "\n",
    "        # find the valid row edge plays\n",
    "        valid_row_edge_perms = self.valid_edge_words(edge_hooks_for_rows)\n",
    "        valid_row_edge_plays = self.valid_plays(valid_row_edge_perms)\n",
    "\n",
    "        # transform them all into a more readable format\n",
    "        valid_row_plays = self.unpack_dictionary(valid_row_plays)\n",
    "        valid_row_edge_plays = self.unpack_dictionary(valid_row_edge_plays)\n",
    "        valid_column_plays = self.unpack_dictionary(valid_column_plays)\n",
    "        valid_column_edge_plays = self.unpack_dictionary(valid_column_edge_plays)\n",
    "\n",
    "        # collapse the row and column dictionaries\n",
    "        all_row_words = {**valid_row_plays, **valid_row_edge_plays}\n",
    "        all_column_words = {**valid_column_plays, **valid_column_edge_plays}\n",
    "        # debugging\n",
    "        # print(\"valid_row_edge_perms:\")\n",
    "        # print(valid_row_edge_perms)\n",
    "        # print(\"valid row edge plays:\")\n",
    "        # print(valid_row_edge_plays)\n",
    "        # print(\"all row words:\")\n",
    "        # print(all_row_words)\n",
    "        # now I have two dictionaries: row and column in the format of:\n",
    "        # {(mainword, y, x): ((crossingword, y, x), (crossingword, y, x), etc)\n",
    "        # (mainword, y, x): ((crossingword, y, x), etc)\n",
    "        # ...\n",
    "        # }\n",
    "        # remember that the y and x of the crossing words refer to a transposed board vis-a-vis the main word\n",
    "\n",
    "        return all_row_words, all_column_words\n",
    "\n",
    "    # calculate the score of a group of tiles (not the whole play)\n",
    "    def calculate_word_score(\n",
    "        self, word, y, x, letter_multipliers_array, word_multipliers_array\n",
    "    ):\n",
    "        letter_multipliers = np.copy(letter_multipliers_array[y, x : x + len(word)])\n",
    "        word_multipliers = np.copy(word_multipliers_array[y, x : x + len(word)])\n",
    "        scores = [self.TILE_SCORES[l] for l in word]\n",
    "        word_score = np.dot(letter_multipliers, scores)\n",
    "        word_score = word_score * np.prod(word_multipliers)\n",
    "        return word_score\n",
    "\n",
    "    # calculating the total value of a main word and its crosses\n",
    "    def total_score(self, main_word_and_location, crossing_words_and_locations):\n",
    "        letter_multipliers_array = np.copy(self.LETTER_MULTIPLIERS_ARRAY)\n",
    "        word_multipliers_array = np.copy(self.WORD_MULTIPLIERS_ARRAY)\n",
    "        # make the  multipliers==1 if there are pieces on them on the board;\n",
    "        # TODO: how permanent is the below?\n",
    "        bool_mask = (self.board != \" \").astype(int)\n",
    "        letter_multipliers_array = np.where(bool_mask == 1, 1, letter_multipliers_array)\n",
    "        word_multipliers_array = np.where(bool_mask == 1, 1, word_multipliers_array)\n",
    "\n",
    "        main_word = main_word_and_location[0]\n",
    "        y = main_word_and_location[1][0]\n",
    "        x = main_word_and_location[1][1]\n",
    "        main_score = self.calculate_word_score(\n",
    "            main_word, y, x, letter_multipliers_array, word_multipliers_array\n",
    "        )\n",
    "        # debugging\n",
    "        #         print(\"main word:\")\n",
    "        #         print(main_word_and_location, main_score)\n",
    "        # TODO: ask if I should have transpose inside or outside the copy function here\n",
    "        # transpose the multiplier arrays to use to score the crossing words\n",
    "        T_word_multipliers = np.copy(word_multipliers_array.transpose())\n",
    "        T_letter_multipliers = np.copy(letter_multipliers_array.transpose())\n",
    "\n",
    "        # calculating the crossing words' total score\n",
    "        crossers_score = 0\n",
    "        for crossing_word_and_location in crossing_words_and_locations:\n",
    "            if len(crossing_word_and_location[0]) > 1:\n",
    "                y = crossing_word_and_location[1][0]\n",
    "                x = crossing_word_and_location[1][1]\n",
    "                crossing_word = crossing_word_and_location[0]\n",
    "                crosser_score = self.calculate_word_score(\n",
    "                    crossing_word, y, x, T_letter_multipliers, T_word_multipliers\n",
    "                )\n",
    "                # debugging\n",
    "            #                 print(\"crossing score\")\n",
    "            #                 print(crossing_word_and_location, crosser_score)\n",
    "            else:\n",
    "                crosser_score = 0\n",
    "            crossers_score = crossers_score + crosser_score\n",
    "        total_score = main_score + crossers_score\n",
    "        return total_score\n",
    "\n",
    "    # Create a dictionary of all valid main words and their scores\n",
    "    def valid_score_choices(self):\n",
    "        board = self.board\n",
    "        hand_letters = self.hand_letters\n",
    "        letter_multiplier_array = self.LETTER_MULTIPLIERS_ARRAY\n",
    "        word_multiplier_array = self.WORD_MULTIPLIERS_ARRAY\n",
    "        # make a transpose board\n",
    "        transpose_board = np.copy(board)\n",
    "        transpose_board = transpose_board.transpose()\n",
    "\n",
    "        # calculate the words/placement allowed by the rules of the game\n",
    "        all_row_words, all_column_words = self.all_board_words()\n",
    "\n",
    "        # create a dictionary of each of these words along with their score\n",
    "        row_score_dict = {}\n",
    "        column_score_dict = {}\n",
    "        for main_word_and_location in all_row_words:\n",
    "            crossing_words_and_locations = all_row_words[main_word_and_location]\n",
    "            score = self.total_score(\n",
    "                main_word_and_location, crossing_words_and_locations\n",
    "            )\n",
    "            row_score_dict[main_word_and_location] = score\n",
    "\n",
    "        # transpose the board\n",
    "        self.board = self.board.transpose()\n",
    "\n",
    "        for main_word_and_location in all_column_words:\n",
    "            crossing_words_and_locations = all_column_words[main_word_and_location]\n",
    "            score = self.total_score(\n",
    "                main_word_and_location, crossing_words_and_locations\n",
    "            )\n",
    "            column_score_dict[main_word_and_location] = score\n",
    "\n",
    "        return row_score_dict, column_score_dict"
   ]
  },
  {
   "cell_type": "code",
   "execution_count": 6,
   "metadata": {},
   "outputs": [
    {
     "data": {
      "application/javascript": [
       "\n",
       "            setTimeout(function() {\n",
       "                var nbb_cell_id = 6;\n",
       "                var nbb_unformatted_code = \"def all_board_words(self):\\n    valid_row_perms = self.find_valid_perms()\\n    valid_row_plays = self.valid_plays(valid_row_perms)\\n    # find the edge hooks\\n    edge_hooks_for_columns = self.find_edge_hooks(valid_row_plays)\\n    # transpose\\n    self.board = self.board.transpose()\\n    # find the valid words (column words)\\n    valid_column_perms = self.find_valid_perms()\\n    valid_column_plays = self.valid_plays(valid_column_perms)\\n    # find which edge words are valid from above\\n    valid_column_edge_perms = self.valid_edge_words(edge_hooks_for_columns)\\n    valid_column_edge_plays = self.valid_plays(valid_column_edge_perms)\\n    # add the edge words from above (column words)\\n\\n    # find the crossing words of the combined list (column words)\\n\\n    # find the edge words\\n    # transpose\\n    self.board = self.board.transpose()\\n    # find the crossing words of the combined list (row words)\\n\\n    # now I have two dictionaries: row and column\\n    # first entry of any word should be a list of its crossing words (as a dictionary themselves)\\n    pass\\n\\n\\n# then I score the dictionaries\\ndef score_word(self, word_dict_entry):\\n    pass\";\n",
       "                var nbb_formatted_code = \"def all_board_words(self):\\n    valid_row_perms = self.find_valid_perms()\\n    valid_row_plays = self.valid_plays(valid_row_perms)\\n    # find the edge hooks\\n    edge_hooks_for_columns = self.find_edge_hooks(valid_row_plays)\\n    # transpose\\n    self.board = self.board.transpose()\\n    # find the valid words (column words)\\n    valid_column_perms = self.find_valid_perms()\\n    valid_column_plays = self.valid_plays(valid_column_perms)\\n    # find which edge words are valid from above\\n    valid_column_edge_perms = self.valid_edge_words(edge_hooks_for_columns)\\n    valid_column_edge_plays = self.valid_plays(valid_column_edge_perms)\\n    # add the edge words from above (column words)\\n\\n    # find the crossing words of the combined list (column words)\\n\\n    # find the edge words\\n    # transpose\\n    self.board = self.board.transpose()\\n    # find the crossing words of the combined list (row words)\\n\\n    # now I have two dictionaries: row and column\\n    # first entry of any word should be a list of its crossing words (as a dictionary themselves)\\n    pass\\n\\n\\n# then I score the dictionaries\\ndef score_word(self, word_dict_entry):\\n    pass\";\n",
       "                var nbb_cells = Jupyter.notebook.get_cells();\n",
       "                for (var i = 0; i < nbb_cells.length; ++i) {\n",
       "                    if (nbb_cells[i].input_prompt_number == nbb_cell_id) {\n",
       "                        if (nbb_cells[i].get_text() == nbb_unformatted_code) {\n",
       "                             nbb_cells[i].set_text(nbb_formatted_code);\n",
       "                        }\n",
       "                        break;\n",
       "                    }\n",
       "                }\n",
       "            }, 500);\n",
       "            "
      ],
      "text/plain": [
       "<IPython.core.display.Javascript object>"
      ]
     },
     "metadata": {},
     "output_type": "display_data"
    }
   ],
   "source": [
    "# #adapting total score\n",
    "# def total_score(self,main_word_and_location, crossing_words_and_locations):\n",
    "#     letter_multipliers_array=np.copy(self.LETTER_MULTIPLIERS_ARRAY)\n",
    "#     word_multipliers_array=np.copy(self.WORD_MULTIPLIERS_ARRAY)\n",
    "#     # make the  multipliers==1 if there are pieces on them on the board;\n",
    "#     # TODO: how permanent is the below?\n",
    "#     bool_mask = (self.board != \" \").astype(int)\n",
    "#     letter_multipliers_array = np.where(bool_mask == 1, 1, letter_multipliers_array)\n",
    "#     word_multipliers_array = np.where(bool_mask == 1, 1, word_multipliers_array)\n",
    "\n",
    "#     main_word=main_word_and_location[0]\n",
    "#     y=main_word_and_location[1][0]\n",
    "#     x=main_word_and_location[1][1]\n",
    "#     main_score = self.calculate_word_score(\n",
    "#         main_word, y, x, letter_multipliers_array, word_multipliers_array\n",
    "#     )\n",
    "#     # TODO: ask if I should have transpose inside or outside the copy function here\n",
    "#     # transpose the multiplier arrays to use to score the crossing words\n",
    "#     T_word_multipliers = np.copy(word_multipliers_array.transpose())\n",
    "#     T_letter_multipliers = np.copy(letter_multipliers_array.transpose())\n",
    "\n",
    "#     # calculating the crossing words' total score\n",
    "#     # need to switch the x and y here so the words don't go off the board\n",
    "#     crossers_score = 0\n",
    "#     for crosser in scored_crossing_words:\n",
    "#         if len(crosser[0]) > 1:\n",
    "#             crosser = list(crosser)\n",
    "#             crosser[1], crosser[2] = crosser[2], crosser[1]\n",
    "#             crosser_score = calculate_word_score(\n",
    "#                 crosser, T_letter_multipliers, T_word_multipliers\n",
    "#             )\n",
    "#         else:\n",
    "#             crosser_score = 0\n",
    "#         crossers_score = crossers_score + crosser_score\n",
    "#     total_score = main_score + crossers_score\n",
    "#     return total_score\n",
    "\n",
    "#     def valid_score_choices(\n",
    "#         board, hand_letters, letter_multiplier_array, word_multiplier_array\n",
    "#     ):\n",
    "#         board=self.board\n",
    "#         hand_letters=self.hand_letters\n",
    "#         # make a transpose board\n",
    "#         transpose_board = np.copy(board)\n",
    "#         transpose_board = transpose_board.transpose()\n",
    "\n",
    "#         # calculate the words/placement allowed by the rules of the game\n",
    "#         valid_across_words_crosses, valid_column_words_crosses = valid_words_whole2(\n",
    "#             board, transpose_board, hand_letters\n",
    "#         )\n",
    "\n",
    "#         # create a dictionary of each of these words along with their score\n",
    "#         across_score_dict = {}\n",
    "#         column_score_dict = {}\n",
    "#         for word_crosses in valid_across_words_crosses:\n",
    "#             word = word_crosses[0]\n",
    "#             score = total_score(\n",
    "#                 board, word_crosses, letter_multiplier_array, word_multiplier_array\n",
    "#             )\n",
    "#             across_score_dict[tuple(word)] = score\n",
    "\n",
    "#         for word_crosses in valid_column_words_crosses:\n",
    "#             column_word = word_crosses[0]\n",
    "#             column_score = total_score(\n",
    "#                 transpose_board,\n",
    "#                 word_crosses,\n",
    "#                 letter_multiplier_array,\n",
    "#                 word_multiplier_array,\n",
    "#             )\n",
    "#             column_score_dict[tuple(column_word)] = column_score\n",
    "#         return across_score_dict, column_score_dict\n",
    "\n"
   ]
  },
  {
   "cell_type": "code",
   "execution_count": null,
   "metadata": {},
   "outputs": [],
   "source": [
    "# def valid_score_choices(\n",
    "#     board, hand_letters, letter_multiplier_array, word_multiplier_array\n",
    "# ):\n",
    "#     # make a transpose board\n",
    "#     transpose_board = np.copy(board)\n",
    "#     transpose_board = transpose_board.transpose()\n",
    "\n",
    "#     # calculate the words/placement allowed by the rules of the game\n",
    "#     valid_across_words_crosses, valid_column_words_crosses = valid_words_whole2(\n",
    "#         board, transpose_board, hand_letters\n",
    "#     )\n",
    "\n",
    "#     # create a dictionary of each of these words along with their score\n",
    "#     across_score_dict = {}\n",
    "#     column_score_dict = {}\n",
    "#     for word_crosses in valid_across_words_crosses:\n",
    "#         word = word_crosses[0]\n",
    "#         score = total_score(\n",
    "#             board, word_crosses, letter_multiplier_array, word_multiplier_array\n",
    "#         )\n",
    "#         across_score_dict[tuple(word)] = score\n",
    "\n",
    "#     for word_crosses in valid_column_words_crosses:\n",
    "#         column_word = word_crosses[0]\n",
    "#         column_score = total_score(\n",
    "#             transpose_board,\n",
    "#             word_crosses,\n",
    "#             letter_multiplier_array,\n",
    "#             word_multiplier_array,\n",
    "#         )\n",
    "#         column_score_dict[tuple(column_word)] = column_score\n",
    "#     return across_score_dict, column_score_dict\n",
    "\n",
    "# def calculate_word_score(self, word, y, x, letter_multipliers_array, word_multipliers_array):\n",
    "#     letter_multipliers = np.copy(\n",
    "#         self.LETTER_MULTIPLIERS_ARRAY[y, x : x + len(word)]\n",
    "#     )\n",
    "#     word_multipliers = np.copy(self.WORD_MULTIPLIERS_ARRAY[y, x : x + len(word)])\n",
    "#     scores = [self.TILE_SCORES[l] for l in word]\n",
    "#     word_score = np.dot(letter_multipliers, scores)\n",
    "#     word_score = word_score * np.prod(word_multipliers)\n",
    "#     return word_score\n"
   ]
  },
  {
   "cell_type": "code",
   "execution_count": 6,
   "metadata": {},
   "outputs": [
    {
     "data": {
      "application/javascript": [
       "\n",
       "            setTimeout(function() {\n",
       "                var nbb_cell_id = 6;\n",
       "                var nbb_unformatted_code = \"# for edge row, I could find permutations of the surrounding area including spaces\\n# make a check surrroundings function for both axes\";\n",
       "                var nbb_formatted_code = \"# for edge row, I could find permutations of the surrounding area including spaces\\n# make a check surrroundings function for both axes\";\n",
       "                var nbb_cells = Jupyter.notebook.get_cells();\n",
       "                for (var i = 0; i < nbb_cells.length; ++i) {\n",
       "                    if (nbb_cells[i].input_prompt_number == nbb_cell_id) {\n",
       "                        if (nbb_cells[i].get_text() == nbb_unformatted_code) {\n",
       "                             nbb_cells[i].set_text(nbb_formatted_code);\n",
       "                        }\n",
       "                        break;\n",
       "                    }\n",
       "                }\n",
       "            }, 500);\n",
       "            "
      ],
      "text/plain": [
       "<IPython.core.display.Javascript object>"
      ]
     },
     "metadata": {},
     "output_type": "display_data"
    }
   ],
   "source": [
    "# for edge row, I could find permutations of the surrounding area including spaces\n",
    "# make a check surrroundings function for both axes"
   ]
  },
  {
   "cell_type": "code",
   "execution_count": null,
   "metadata": {
    "scrolled": true
   },
   "outputs": [],
   "source": [
    "sam = Scrabbler(board_array, sample_board_letters)\n",
    "cw, _, _ = sam.complete_word_y_x(1, 1, (\"a\"))\n",
    "samcross = sam.find_crosses(\"abcdfe\", 12, 9)\n",
    "# sam.edge_perms(\"s\", 10, 7)\n",
    "# {i for i in zip(*samcross)}\n",
    "# valid_plays = {}\n",
    "# for i in samcross:\n",
    "#     valid_plays[\"a\"] = 1  # [\"b\"][[\"c\", \"d\"][0]] = [\"e\", \"f\"][1:3]\n",
    "samcross"
   ]
  },
  {
   "cell_type": "code",
   "execution_count": null,
   "metadata": {
    "scrolled": true
   },
   "outputs": [],
   "source": [
    "sam = Scrabbler(board_array, sample_board_letters)\n",
    "# samperms = sam.find_valid_perms()\n",
    "# sam.find_edge_hooks(sam.valid_plays(sam.find_valid_perms()))\n",
    "# todo edge hooks off by 1\n",
    "# dict(sam.valid_plays(samperms))\n",
    "# [i for i in sam.valid_plays()]\n",
    "# [i for i in sam.hand_letter_permutations(1)][0]\n",
    "\n",
    "# edge_hooks = sam.find_edge_hooks(sam.valid_plays(sam.find_valid_perms()))\n",
    "# sam.board = sam.T_board\n",
    "# edge_words = sam.valid_edge_words(edge_hooks)\n",
    "# edge_plays = sam.valid_plays(edge_words)\n",
    "# sam.unpack_dictionary(edge_plays)\n",
    "\n",
    "valid_plays = sam.valid_plays(sam.find_valid_perms())\n",
    "sam.unpack_dictionary(valid_plays)"
   ]
  },
  {
   "cell_type": "code",
   "execution_count": 7,
   "metadata": {},
   "outputs": [
    {
     "data": {
      "application/javascript": [
       "\n",
       "            setTimeout(function() {\n",
       "                var nbb_cell_id = 7;\n",
       "                var nbb_unformatted_code = \"# [i for i in sam.valid_plays()]\\n# [i for i in sam.valid_plays()[\\\"ea\\\"]]\\n# sam.valid_plays()[\\\"ea\\\"]\\n# sam.valid_plays()[\\\"ea\\\"]\";\n",
       "                var nbb_formatted_code = \"# [i for i in sam.valid_plays()]\\n# [i for i in sam.valid_plays()[\\\"ea\\\"]]\\n# sam.valid_plays()[\\\"ea\\\"]\\n# sam.valid_plays()[\\\"ea\\\"]\";\n",
       "                var nbb_cells = Jupyter.notebook.get_cells();\n",
       "                for (var i = 0; i < nbb_cells.length; ++i) {\n",
       "                    if (nbb_cells[i].input_prompt_number == nbb_cell_id) {\n",
       "                        if (nbb_cells[i].get_text() == nbb_unformatted_code) {\n",
       "                             nbb_cells[i].set_text(nbb_formatted_code);\n",
       "                        }\n",
       "                        break;\n",
       "                    }\n",
       "                }\n",
       "            }, 500);\n",
       "            "
      ],
      "text/plain": [
       "<IPython.core.display.Javascript object>"
      ]
     },
     "metadata": {},
     "output_type": "display_data"
    }
   ],
   "source": [
    "# [i for i in sam.valid_plays()]\n",
    "# [i for i in sam.valid_plays()[\"ea\"]]\n",
    "# sam.valid_plays()[\"ea\"]\n",
    "# sam.valid_plays()[\"ea\"]"
   ]
  },
  {
   "cell_type": "code",
   "execution_count": 37,
   "metadata": {},
   "outputs": [
    {
     "data": {
      "application/javascript": [
       "\n",
       "            setTimeout(function() {\n",
       "                var nbb_cell_id = 35;\n",
       "                var nbb_unformatted_code = \"sample_board = [\\n    [\\\"\\\", \\\"\\\", \\\"\\\", \\\"\\\", \\\"\\\", \\\"\\\", \\\"\\\", \\\"\\\", \\\"\\\", \\\"\\\", \\\"\\\", \\\"e\\\", \\\"\\\", \\\"\\\", \\\"\\\"],  # 0\\n    [\\\"\\\", \\\"\\\", \\\"\\\", \\\"\\\", \\\"\\\", \\\"\\\", \\\"\\\", \\\"\\\", \\\"\\\", \\\"z\\\", \\\"o\\\", \\\"n\\\", \\\"a\\\", \\\"\\\", \\\"w\\\"],  # 1\\n    [\\\"\\\", \\\"\\\", \\\"\\\", \\\"\\\", \\\"\\\", \\\"\\\", \\\"\\\", \\\"\\\", \\\"\\\", \\\"\\\", \\\"\\\", \\\"a\\\", \\\"\\\", \\\"\\\", \\\"i\\\"],  # 2\\n    [\\\"\\\", \\\"\\\", \\\"\\\", \\\"\\\", \\\"\\\", \\\"\\\", \\\"\\\", \\\"\\\", \\\"\\\", \\\"r\\\", \\\"i\\\", \\\"m\\\", \\\"a\\\", \\\"\\\", \\\"l\\\"],  # 3\\n    [\\\"\\\", \\\"\\\", \\\"\\\", \\\"\\\", \\\"\\\", \\\"\\\", \\\"\\\", \\\"\\\", \\\"\\\", \\\"\\\", \\\"\\\", \\\"o\\\", \\\"b\\\", \\\"e\\\", \\\"y\\\"],  # 4\\n    [\\\"\\\", \\\"\\\", \\\"\\\", \\\"\\\", \\\"\\\", \\\"\\\", \\\"\\\", \\\"\\\", \\\"\\\", \\\"j\\\", \\\"u\\\", \\\"r\\\", \\\"a\\\", \\\"l\\\", \\\"\\\"],\\n    [\\\"\\\", \\\"\\\", \\\"\\\", \\\"\\\", \\\"\\\", \\\"\\\", \\\"\\\", \\\"b\\\", \\\"e\\\", \\\"e\\\", \\\"p\\\", \\\"\\\", \\\"\\\", \\\"\\\", \\\"\\\"],  # 6\\n    [\\\"\\\", \\\"\\\", \\\"\\\", \\\"\\\", \\\"\\\", \\\"\\\", \\\"y\\\", \\\"e\\\", \\\"w\\\", \\\"s\\\", \\\"\\\", \\\"t\\\", \\\"\\\", \\\"\\\", \\\"\\\"],\\n    [\\\"\\\", \\\"\\\", \\\"\\\", \\\"\\\", \\\"\\\", \\\"\\\", \\\"\\\", \\\"l\\\", \\\"e\\\", \\\"t\\\", \\\"c\\\", \\\"h\\\", \\\"\\\", \\\"\\\", \\\"\\\"],  # 8\\n    [\\\"\\\", \\\"\\\", \\\"\\\", \\\"\\\", \\\"h\\\", \\\"u\\\", \\\"r\\\", \\\"l\\\", \\\"\\\", \\\"\\\", \\\"\\\", \\\"i\\\", \\\"\\\", \\\"r\\\", \\\"\\\"],\\n    [\\\"\\\", \\\"\\\", \\\"\\\", \\\"\\\", \\\"e\\\", \\\"\\\", \\\"\\\", \\\"\\\", \\\"\\\", \\\"\\\", \\\"\\\", \\\"g\\\", \\\"\\\", \\\"e\\\", \\\"\\\"],  # 10\\n    [\\\"\\\", \\\"\\\", \\\"\\\", \\\"\\\", \\\"\\\", \\\"\\\", \\\"\\\", \\\"\\\", \\\"\\\", \\\"\\\", \\\"\\\", \\\"h\\\", \\\"u\\\", \\\"e\\\", \\\"d\\\"],\\n    [\\\"\\\", \\\"\\\", \\\"\\\", \\\"\\\", \\\"\\\", \\\"\\\", \\\"\\\", \\\"\\\", \\\"\\\", \\\"\\\", \\\"\\\", \\\"\\\", \\\"\\\", \\\"f\\\", \\\"\\\"],  # 12\\n    [\\\"\\\", \\\"\\\", \\\"\\\", \\\"\\\", \\\"\\\", \\\"\\\", \\\"\\\", \\\"\\\", \\\"\\\", \\\"v\\\", \\\"e\\\", \\\"e\\\", \\\"p\\\", \\\"s\\\", \\\"\\\"],\\n    [\\\"\\\", \\\"\\\", \\\"\\\", \\\"\\\", \\\"\\\", \\\"\\\", \\\"\\\", \\\"\\\", \\\"n\\\", \\\"u\\\", \\\"n\\\", \\\"\\\", \\\"\\\", \\\"\\\", \\\"\\\"],  # 14\\n]\\nsample_board_letters = [\\\"s\\\", \\\"d\\\", \\\"n\\\", \\\"o\\\"]  # \\\"d\\\", \\\"d\\\", \\\"a\\\", \\\"r\\\"]\\n\\n# numpy of the board\\nboard_array = np.array(sample_board)\\n\\n# making the empty strings spaces\\nneat_sample_array = np.copy(board_array)\\nneat_sample_array[neat_sample_array == \\\"\\\"] = \\\" \\\"\";\n",
       "                var nbb_formatted_code = \"sample_board = [\\n    [\\\"\\\", \\\"\\\", \\\"\\\", \\\"\\\", \\\"\\\", \\\"\\\", \\\"\\\", \\\"\\\", \\\"\\\", \\\"\\\", \\\"\\\", \\\"e\\\", \\\"\\\", \\\"\\\", \\\"\\\"],  # 0\\n    [\\\"\\\", \\\"\\\", \\\"\\\", \\\"\\\", \\\"\\\", \\\"\\\", \\\"\\\", \\\"\\\", \\\"\\\", \\\"z\\\", \\\"o\\\", \\\"n\\\", \\\"a\\\", \\\"\\\", \\\"w\\\"],  # 1\\n    [\\\"\\\", \\\"\\\", \\\"\\\", \\\"\\\", \\\"\\\", \\\"\\\", \\\"\\\", \\\"\\\", \\\"\\\", \\\"\\\", \\\"\\\", \\\"a\\\", \\\"\\\", \\\"\\\", \\\"i\\\"],  # 2\\n    [\\\"\\\", \\\"\\\", \\\"\\\", \\\"\\\", \\\"\\\", \\\"\\\", \\\"\\\", \\\"\\\", \\\"\\\", \\\"r\\\", \\\"i\\\", \\\"m\\\", \\\"a\\\", \\\"\\\", \\\"l\\\"],  # 3\\n    [\\\"\\\", \\\"\\\", \\\"\\\", \\\"\\\", \\\"\\\", \\\"\\\", \\\"\\\", \\\"\\\", \\\"\\\", \\\"\\\", \\\"\\\", \\\"o\\\", \\\"b\\\", \\\"e\\\", \\\"y\\\"],  # 4\\n    [\\\"\\\", \\\"\\\", \\\"\\\", \\\"\\\", \\\"\\\", \\\"\\\", \\\"\\\", \\\"\\\", \\\"\\\", \\\"j\\\", \\\"u\\\", \\\"r\\\", \\\"a\\\", \\\"l\\\", \\\"\\\"],\\n    [\\\"\\\", \\\"\\\", \\\"\\\", \\\"\\\", \\\"\\\", \\\"\\\", \\\"\\\", \\\"b\\\", \\\"e\\\", \\\"e\\\", \\\"p\\\", \\\"\\\", \\\"\\\", \\\"\\\", \\\"\\\"],  # 6\\n    [\\\"\\\", \\\"\\\", \\\"\\\", \\\"\\\", \\\"\\\", \\\"\\\", \\\"y\\\", \\\"e\\\", \\\"w\\\", \\\"s\\\", \\\"\\\", \\\"t\\\", \\\"\\\", \\\"\\\", \\\"\\\"],\\n    [\\\"\\\", \\\"\\\", \\\"\\\", \\\"\\\", \\\"\\\", \\\"\\\", \\\"\\\", \\\"l\\\", \\\"e\\\", \\\"t\\\", \\\"c\\\", \\\"h\\\", \\\"\\\", \\\"\\\", \\\"\\\"],  # 8\\n    [\\\"\\\", \\\"\\\", \\\"\\\", \\\"\\\", \\\"h\\\", \\\"u\\\", \\\"r\\\", \\\"l\\\", \\\"\\\", \\\"\\\", \\\"\\\", \\\"i\\\", \\\"\\\", \\\"r\\\", \\\"\\\"],\\n    [\\\"\\\", \\\"\\\", \\\"\\\", \\\"\\\", \\\"e\\\", \\\"\\\", \\\"\\\", \\\"\\\", \\\"\\\", \\\"\\\", \\\"\\\", \\\"g\\\", \\\"\\\", \\\"e\\\", \\\"\\\"],  # 10\\n    [\\\"\\\", \\\"\\\", \\\"\\\", \\\"\\\", \\\"\\\", \\\"\\\", \\\"\\\", \\\"\\\", \\\"\\\", \\\"\\\", \\\"\\\", \\\"h\\\", \\\"u\\\", \\\"e\\\", \\\"d\\\"],\\n    [\\\"\\\", \\\"\\\", \\\"\\\", \\\"\\\", \\\"\\\", \\\"\\\", \\\"\\\", \\\"\\\", \\\"\\\", \\\"\\\", \\\"\\\", \\\"\\\", \\\"\\\", \\\"f\\\", \\\"\\\"],  # 12\\n    [\\\"\\\", \\\"\\\", \\\"\\\", \\\"\\\", \\\"\\\", \\\"\\\", \\\"\\\", \\\"\\\", \\\"\\\", \\\"v\\\", \\\"e\\\", \\\"e\\\", \\\"p\\\", \\\"s\\\", \\\"\\\"],\\n    [\\\"\\\", \\\"\\\", \\\"\\\", \\\"\\\", \\\"\\\", \\\"\\\", \\\"\\\", \\\"\\\", \\\"n\\\", \\\"u\\\", \\\"n\\\", \\\"\\\", \\\"\\\", \\\"\\\", \\\"\\\"],  # 14\\n]\\nsample_board_letters = [\\\"s\\\", \\\"d\\\", \\\"n\\\", \\\"o\\\"]  # \\\"d\\\", \\\"d\\\", \\\"a\\\", \\\"r\\\"]\\n\\n# numpy of the board\\nboard_array = np.array(sample_board)\\n\\n# making the empty strings spaces\\nneat_sample_array = np.copy(board_array)\\nneat_sample_array[neat_sample_array == \\\"\\\"] = \\\" \\\"\";\n",
       "                var nbb_cells = Jupyter.notebook.get_cells();\n",
       "                for (var i = 0; i < nbb_cells.length; ++i) {\n",
       "                    if (nbb_cells[i].input_prompt_number == nbb_cell_id) {\n",
       "                        if (nbb_cells[i].get_text() == nbb_unformatted_code) {\n",
       "                             nbb_cells[i].set_text(nbb_formatted_code);\n",
       "                        }\n",
       "                        break;\n",
       "                    }\n",
       "                }\n",
       "            }, 500);\n",
       "            "
      ],
      "text/plain": [
       "<IPython.core.display.Javascript object>"
      ]
     },
     "metadata": {},
     "output_type": "display_data"
    },
    {
     "data": {
      "application/javascript": [
       "\n",
       "            setTimeout(function() {\n",
       "                var nbb_cell_id = 35;\n",
       "                var nbb_unformatted_code = \"sample_board = [\\n    [\\\"\\\", \\\"\\\", \\\"\\\", \\\"\\\", \\\"\\\", \\\"\\\", \\\"\\\", \\\"\\\", \\\"\\\", \\\"\\\", \\\"\\\", \\\"e\\\", \\\"\\\", \\\"\\\", \\\"\\\"],  # 0\\n    [\\\"\\\", \\\"\\\", \\\"\\\", \\\"\\\", \\\"\\\", \\\"\\\", \\\"\\\", \\\"\\\", \\\"\\\", \\\"z\\\", \\\"o\\\", \\\"n\\\", \\\"a\\\", \\\"\\\", \\\"w\\\"],  # 1\\n    [\\\"\\\", \\\"\\\", \\\"\\\", \\\"\\\", \\\"\\\", \\\"\\\", \\\"\\\", \\\"\\\", \\\"\\\", \\\"\\\", \\\"\\\", \\\"a\\\", \\\"\\\", \\\"\\\", \\\"i\\\"],  # 2\\n    [\\\"\\\", \\\"\\\", \\\"\\\", \\\"\\\", \\\"\\\", \\\"\\\", \\\"\\\", \\\"\\\", \\\"\\\", \\\"r\\\", \\\"i\\\", \\\"m\\\", \\\"a\\\", \\\"\\\", \\\"l\\\"],  # 3\\n    [\\\"\\\", \\\"\\\", \\\"\\\", \\\"\\\", \\\"\\\", \\\"\\\", \\\"\\\", \\\"\\\", \\\"\\\", \\\"\\\", \\\"\\\", \\\"o\\\", \\\"b\\\", \\\"e\\\", \\\"y\\\"],  # 4\\n    [\\\"\\\", \\\"\\\", \\\"\\\", \\\"\\\", \\\"\\\", \\\"\\\", \\\"\\\", \\\"\\\", \\\"\\\", \\\"j\\\", \\\"u\\\", \\\"r\\\", \\\"a\\\", \\\"l\\\", \\\"\\\"],\\n    [\\\"\\\", \\\"\\\", \\\"\\\", \\\"\\\", \\\"\\\", \\\"\\\", \\\"\\\", \\\"b\\\", \\\"e\\\", \\\"e\\\", \\\"p\\\", \\\"\\\", \\\"\\\", \\\"\\\", \\\"\\\"],  # 6\\n    [\\\"\\\", \\\"\\\", \\\"\\\", \\\"\\\", \\\"\\\", \\\"\\\", \\\"y\\\", \\\"e\\\", \\\"w\\\", \\\"s\\\", \\\"\\\", \\\"t\\\", \\\"\\\", \\\"\\\", \\\"\\\"],\\n    [\\\"\\\", \\\"\\\", \\\"\\\", \\\"\\\", \\\"\\\", \\\"\\\", \\\"\\\", \\\"l\\\", \\\"e\\\", \\\"t\\\", \\\"c\\\", \\\"h\\\", \\\"\\\", \\\"\\\", \\\"\\\"],  # 8\\n    [\\\"\\\", \\\"\\\", \\\"\\\", \\\"\\\", \\\"h\\\", \\\"u\\\", \\\"r\\\", \\\"l\\\", \\\"\\\", \\\"\\\", \\\"\\\", \\\"i\\\", \\\"\\\", \\\"r\\\", \\\"\\\"],\\n    [\\\"\\\", \\\"\\\", \\\"\\\", \\\"\\\", \\\"e\\\", \\\"\\\", \\\"\\\", \\\"\\\", \\\"\\\", \\\"\\\", \\\"\\\", \\\"g\\\", \\\"\\\", \\\"e\\\", \\\"\\\"],  # 10\\n    [\\\"\\\", \\\"\\\", \\\"\\\", \\\"\\\", \\\"\\\", \\\"\\\", \\\"\\\", \\\"\\\", \\\"\\\", \\\"\\\", \\\"\\\", \\\"h\\\", \\\"u\\\", \\\"e\\\", \\\"d\\\"],\\n    [\\\"\\\", \\\"\\\", \\\"\\\", \\\"\\\", \\\"\\\", \\\"\\\", \\\"\\\", \\\"\\\", \\\"\\\", \\\"\\\", \\\"\\\", \\\"\\\", \\\"\\\", \\\"f\\\", \\\"\\\"],  # 12\\n    [\\\"\\\", \\\"\\\", \\\"\\\", \\\"\\\", \\\"\\\", \\\"\\\", \\\"\\\", \\\"\\\", \\\"\\\", \\\"v\\\", \\\"e\\\", \\\"e\\\", \\\"p\\\", \\\"s\\\", \\\"\\\"],\\n    [\\\"\\\", \\\"\\\", \\\"\\\", \\\"\\\", \\\"\\\", \\\"\\\", \\\"\\\", \\\"\\\", \\\"n\\\", \\\"u\\\", \\\"n\\\", \\\"\\\", \\\"\\\", \\\"\\\", \\\"\\\"],  # 14\\n]\\nsample_board_letters = [\\\"s\\\", \\\"d\\\", \\\"n\\\", \\\"o\\\"]  # \\\"d\\\", \\\"d\\\", \\\"a\\\", \\\"r\\\"]\\n\\n# numpy of the board\\nboard_array = np.array(sample_board)\\n\\n# making the empty strings spaces\\nneat_sample_array = np.copy(board_array)\\nneat_sample_array[neat_sample_array == \\\"\\\"] = \\\" \\\"\";\n",
       "                var nbb_formatted_code = \"sample_board = [\\n    [\\\"\\\", \\\"\\\", \\\"\\\", \\\"\\\", \\\"\\\", \\\"\\\", \\\"\\\", \\\"\\\", \\\"\\\", \\\"\\\", \\\"\\\", \\\"e\\\", \\\"\\\", \\\"\\\", \\\"\\\"],  # 0\\n    [\\\"\\\", \\\"\\\", \\\"\\\", \\\"\\\", \\\"\\\", \\\"\\\", \\\"\\\", \\\"\\\", \\\"\\\", \\\"z\\\", \\\"o\\\", \\\"n\\\", \\\"a\\\", \\\"\\\", \\\"w\\\"],  # 1\\n    [\\\"\\\", \\\"\\\", \\\"\\\", \\\"\\\", \\\"\\\", \\\"\\\", \\\"\\\", \\\"\\\", \\\"\\\", \\\"\\\", \\\"\\\", \\\"a\\\", \\\"\\\", \\\"\\\", \\\"i\\\"],  # 2\\n    [\\\"\\\", \\\"\\\", \\\"\\\", \\\"\\\", \\\"\\\", \\\"\\\", \\\"\\\", \\\"\\\", \\\"\\\", \\\"r\\\", \\\"i\\\", \\\"m\\\", \\\"a\\\", \\\"\\\", \\\"l\\\"],  # 3\\n    [\\\"\\\", \\\"\\\", \\\"\\\", \\\"\\\", \\\"\\\", \\\"\\\", \\\"\\\", \\\"\\\", \\\"\\\", \\\"\\\", \\\"\\\", \\\"o\\\", \\\"b\\\", \\\"e\\\", \\\"y\\\"],  # 4\\n    [\\\"\\\", \\\"\\\", \\\"\\\", \\\"\\\", \\\"\\\", \\\"\\\", \\\"\\\", \\\"\\\", \\\"\\\", \\\"j\\\", \\\"u\\\", \\\"r\\\", \\\"a\\\", \\\"l\\\", \\\"\\\"],\\n    [\\\"\\\", \\\"\\\", \\\"\\\", \\\"\\\", \\\"\\\", \\\"\\\", \\\"\\\", \\\"b\\\", \\\"e\\\", \\\"e\\\", \\\"p\\\", \\\"\\\", \\\"\\\", \\\"\\\", \\\"\\\"],  # 6\\n    [\\\"\\\", \\\"\\\", \\\"\\\", \\\"\\\", \\\"\\\", \\\"\\\", \\\"y\\\", \\\"e\\\", \\\"w\\\", \\\"s\\\", \\\"\\\", \\\"t\\\", \\\"\\\", \\\"\\\", \\\"\\\"],\\n    [\\\"\\\", \\\"\\\", \\\"\\\", \\\"\\\", \\\"\\\", \\\"\\\", \\\"\\\", \\\"l\\\", \\\"e\\\", \\\"t\\\", \\\"c\\\", \\\"h\\\", \\\"\\\", \\\"\\\", \\\"\\\"],  # 8\\n    [\\\"\\\", \\\"\\\", \\\"\\\", \\\"\\\", \\\"h\\\", \\\"u\\\", \\\"r\\\", \\\"l\\\", \\\"\\\", \\\"\\\", \\\"\\\", \\\"i\\\", \\\"\\\", \\\"r\\\", \\\"\\\"],\\n    [\\\"\\\", \\\"\\\", \\\"\\\", \\\"\\\", \\\"e\\\", \\\"\\\", \\\"\\\", \\\"\\\", \\\"\\\", \\\"\\\", \\\"\\\", \\\"g\\\", \\\"\\\", \\\"e\\\", \\\"\\\"],  # 10\\n    [\\\"\\\", \\\"\\\", \\\"\\\", \\\"\\\", \\\"\\\", \\\"\\\", \\\"\\\", \\\"\\\", \\\"\\\", \\\"\\\", \\\"\\\", \\\"h\\\", \\\"u\\\", \\\"e\\\", \\\"d\\\"],\\n    [\\\"\\\", \\\"\\\", \\\"\\\", \\\"\\\", \\\"\\\", \\\"\\\", \\\"\\\", \\\"\\\", \\\"\\\", \\\"\\\", \\\"\\\", \\\"\\\", \\\"\\\", \\\"f\\\", \\\"\\\"],  # 12\\n    [\\\"\\\", \\\"\\\", \\\"\\\", \\\"\\\", \\\"\\\", \\\"\\\", \\\"\\\", \\\"\\\", \\\"\\\", \\\"v\\\", \\\"e\\\", \\\"e\\\", \\\"p\\\", \\\"s\\\", \\\"\\\"],\\n    [\\\"\\\", \\\"\\\", \\\"\\\", \\\"\\\", \\\"\\\", \\\"\\\", \\\"\\\", \\\"\\\", \\\"n\\\", \\\"u\\\", \\\"n\\\", \\\"\\\", \\\"\\\", \\\"\\\", \\\"\\\"],  # 14\\n]\\nsample_board_letters = [\\\"s\\\", \\\"d\\\", \\\"n\\\", \\\"o\\\"]  # \\\"d\\\", \\\"d\\\", \\\"a\\\", \\\"r\\\"]\\n\\n# numpy of the board\\nboard_array = np.array(sample_board)\\n\\n# making the empty strings spaces\\nneat_sample_array = np.copy(board_array)\\nneat_sample_array[neat_sample_array == \\\"\\\"] = \\\" \\\"\";\n",
       "                var nbb_cells = Jupyter.notebook.get_cells();\n",
       "                for (var i = 0; i < nbb_cells.length; ++i) {\n",
       "                    if (nbb_cells[i].input_prompt_number == nbb_cell_id) {\n",
       "                        if (nbb_cells[i].get_text() == nbb_unformatted_code) {\n",
       "                             nbb_cells[i].set_text(nbb_formatted_code);\n",
       "                        }\n",
       "                        break;\n",
       "                    }\n",
       "                }\n",
       "            }, 500);\n",
       "            "
      ],
      "text/plain": [
       "<IPython.core.display.Javascript object>"
      ]
     },
     "metadata": {},
     "output_type": "display_data"
    }
   ],
   "source": [
    "sam = Scrabbler(board_array, sample_board_letters)\n",
    "# sam.valid_plays()\n",
    "# sam.board_mask"
   ]
  },
  {
   "cell_type": "code",
   "execution_count": null,
   "metadata": {
    "scrolled": false
   },
   "outputs": [],
   "source": [
    "# the x's and y's are transposed here in the hook letters like they are automatically\n",
    "# in the valid edge words method\n",
    "vew = sam.valid_edge_words([[\"e\", 4, 10], [\"d\", 9, 0], [\"s\", 9, 8]])\n",
    "sam.unpack_dictionary(sam.valid_plays(vew))"
   ]
  },
  {
   "cell_type": "code",
   "execution_count": null,
   "metadata": {
    "scrolled": true
   },
   "outputs": [],
   "source": [
    "sam.all_board_words()"
   ]
  },
  {
   "cell_type": "code",
   "execution_count": null,
   "metadata": {},
   "outputs": [],
   "source": [
    "#current structure:\n",
    "{'mainword1': {\n",
    "    (main1_y1,main1_x1): {\n",
    "        'cross_word1': [(cross1_x1, cross1_y1), (cross1_x2, cross1_y2)], \n",
    "        'cross_word2': [(cross2_x1, cross2_y1),...]}, \n",
    "    (main1_y2,main1_x2): {...}}, \n",
    " 'main_word2':{similar to before}}\n",
    "#hoped for:\n",
    "{['mainword1', main1_y1,main1_x1]:(['cross_word1', cross1_x1, cross1_y1], \n",
    "                                   ['cross_word1', cross1_x2, cross1_y22], \n",
    "                                   ['cross_word2', cross2_x1, cross2_y1]),\n",
    " ['mainword2', main2_y1,main2_x1]: similar to above\n",
    "}\n",
    " \n",
    " "
   ]
  },
  {
   "cell_type": "code",
   "execution_count": null,
   "metadata": {
    "scrolled": true
   },
   "outputs": [],
   "source": [
    "sam = Scrabbler(board_array, sample_board_letters)\n",
    "\n",
    "valid_row_perms = sam.find_valid_perms()\n",
    "valid_row_plays = sam.valid_plays(valid_row_perms)\n",
    "# find the edge hooks\n",
    "edge_hooks_for_columns = sam.find_edge_hooks(valid_row_plays)\n",
    "# transpose\n",
    "sam.board = sam.board.transpose()\n",
    "# find the valid words (column words)\n",
    "valid_column_perms = sam.find_valid_perms()\n",
    "valid_column_plays = sam.valid_plays(valid_column_perms)\n",
    "# find which edge words are valid from above\n",
    "valid_column_edge_perms = sam.valid_edge_words(edge_hooks_for_columns)\n",
    "valid_column_edge_plays = sam.valid_plays(valid_column_edge_perms)\n",
    "# find the edge hooks for the rows\n",
    "# edge_hooks_for_rows=\n",
    "sam.unpack_dictionary(valid_row_plays)\n",
    "valid_row_plays"
   ]
  },
  {
   "cell_type": "code",
   "execution_count": 22,
   "metadata": {
    "scrolled": false
   },
   "outputs": [
    {
     "data": {
      "application/javascript": [
       "\n",
       "            setTimeout(function() {\n",
       "                var nbb_cell_id = 22;\n",
       "                var nbb_unformatted_code = \"# edge plays appears to be what's broken\\n# but it seems mostly right here. A few repeated crossing words. Could get fixed with a set\\n# Perhaps I'm not doing transpose at the right time in the main function\\n# sam = Scrabbler(board_array, sample_board_letters)\\n# samperms = sam.find_valid_perms()\\n# sam.find_edge_hooks(sam.valid_plays(sam.find_valid_perms()))\\n# todo edge hooks off by 1\\n# dict(sam.valid_plays(samperms))\\n# [i for i in sam.valid_plays()]\\n# [i for i in sam.hand_letter_permutations(1)][0]\\n# sam.board = sam.board.transpose()\\n# edge_hooks = sam.find_edge_hooks(sam.valid_plays(sam.find_valid_perms()))\\n# sam.board = sam.board.transpose()\\n# edge_words = sam.valid_edge_words(edge_hooks)\\n# edge_plays = sam.valid_plays(edge_words)\\n# sam.unpack_dictionary(edge_plays)\";\n",
       "                var nbb_formatted_code = \"# edge plays appears to be what's broken\\n# but it seems mostly right here. A few repeated crossing words. Could get fixed with a set\\n# Perhaps I'm not doing transpose at the right time in the main function\\n# sam = Scrabbler(board_array, sample_board_letters)\\n# samperms = sam.find_valid_perms()\\n# sam.find_edge_hooks(sam.valid_plays(sam.find_valid_perms()))\\n# todo edge hooks off by 1\\n# dict(sam.valid_plays(samperms))\\n# [i for i in sam.valid_plays()]\\n# [i for i in sam.hand_letter_permutations(1)][0]\\n# sam.board = sam.board.transpose()\\n# edge_hooks = sam.find_edge_hooks(sam.valid_plays(sam.find_valid_perms()))\\n# sam.board = sam.board.transpose()\\n# edge_words = sam.valid_edge_words(edge_hooks)\\n# edge_plays = sam.valid_plays(edge_words)\\n# sam.unpack_dictionary(edge_plays)\";\n",
       "                var nbb_cells = Jupyter.notebook.get_cells();\n",
       "                for (var i = 0; i < nbb_cells.length; ++i) {\n",
       "                    if (nbb_cells[i].input_prompt_number == nbb_cell_id) {\n",
       "                        if (nbb_cells[i].get_text() == nbb_unformatted_code) {\n",
       "                             nbb_cells[i].set_text(nbb_formatted_code);\n",
       "                        }\n",
       "                        break;\n",
       "                    }\n",
       "                }\n",
       "            }, 500);\n",
       "            "
      ],
      "text/plain": [
       "<IPython.core.display.Javascript object>"
      ]
     },
     "metadata": {},
     "output_type": "display_data"
    }
   ],
   "source": [
    "# edge plays appears to be what's broken\n",
    "# but it seems mostly right here. A few repeated crossing words. Could get fixed with a set\n",
    "# Perhaps I'm not doing transpose at the right time in the main function\n",
    "# sam = Scrabbler(board_array, sample_board_letters)\n",
    "# samperms = sam.find_valid_perms()\n",
    "# sam.find_edge_hooks(sam.valid_plays(sam.find_valid_perms()))\n",
    "# todo edge hooks off by 1\n",
    "# dict(sam.valid_plays(samperms))\n",
    "# [i for i in sam.valid_plays()]\n",
    "# [i for i in sam.hand_letter_permutations(1)][0]\n",
    "# sam.board = sam.board.transpose()\n",
    "# edge_hooks = sam.find_edge_hooks(sam.valid_plays(sam.find_valid_perms()))\n",
    "# sam.board = sam.board.transpose()\n",
    "# edge_words = sam.valid_edge_words(edge_hooks)\n",
    "# edge_plays = sam.valid_plays(edge_words)\n",
    "# sam.unpack_dictionary(edge_plays)"
   ]
  },
  {
   "cell_type": "code",
   "execution_count": 111,
   "metadata": {
    "scrolled": false
   },
   "outputs": [
    {
     "data": {
      "text/plain": [
       "({('of', (7, 2)): 5,\n",
       "  ('to', (7, 11)): 2,\n",
       "  ('fa', (7, 3)): 5,\n",
       "  ('fa', (12, 13)): 8,\n",
       "  ('ta', (7, 11)): 2,\n",
       "  ('orf', (7, 1)): 6,\n",
       "  ('tor', (7, 11)): 3,\n",
       "  ('oaf', (7, 1)): 6,\n",
       "  ('alf', (7, 1)): 7,\n",
       "  ('tao', (7, 11)): 3,\n",
       "  ('arf', (7, 1)): 6,\n",
       "  ('tar', (7, 11)): 3,\n",
       "  ('tas', (7, 11)): 3,\n",
       "  ('loaf', (7, 0)): 8,\n",
       "  ('tola', (7, 11)): 5,\n",
       "  ('orfs', (7, 1)): 7,\n",
       "  ('tors', (7, 11)): 4,\n",
       "  ('tora', (7, 11)): 4,\n",
       "  ('tosa', (7, 11)): 4,\n",
       "  ('oafs', (7, 1)): 7,\n",
       "  ('rolf', (7, 0)): 8,\n",
       "  ('sofa', (7, 1)): 7,\n",
       "  ('tsar', (7, 11)): 4,\n",
       "  ('alfs', (7, 1)): 8,\n",
       "  ('taos', (7, 11)): 4,\n",
       "  ('taro', (7, 11)): 4,\n",
       "  ('arfs', (7, 1)): 7,\n",
       "  ('tars', (7, 11)): 4,\n",
       "  ('loafs', (7, 0)): 9,\n",
       "  ('rolfs', (7, 0)): 9,\n",
       "  ('lo', (8, 2)): 3,\n",
       "  ('oo', (8, 3)): 6,\n",
       "  ('so', (8, 2)): 2,\n",
       "  ('os', (8, 3)): 6,\n",
       "  ('loo', (8, 1)): 4,\n",
       "  ('loo', (8, 2)): 8,\n",
       "  ('los', (8, 2)): 8,\n",
       "  ('roo', (8, 1)): 3,\n",
       "  ('roo', (8, 2)): 7,\n",
       "  ('loos', (8, 1)): 9,\n",
       "  ('roos', (8, 1)): 8,\n",
       "  ('solo', (8, 0)): 5,\n",
       "  ('also', (8, 0)): 5,\n",
       "  ('li', (11, 1)): 3,\n",
       "  ('oi', (11, 1)): 2,\n",
       "  ('churls', (9, 3)): 20,\n",
       "  ('si', (11, 1)): 2,\n",
       "  ('ai', (11, 1)): 2,\n",
       "  ('rai', (11, 0)): 3,\n",
       "  ('sri', (11, 0)): 3,\n",
       "  ('sai', (11, 0)): 3,\n",
       "  ('gio', (10, 2)): 9,\n",
       "  ('goe', (10, 11)): 8,\n",
       "  ('ag', (10, 10)): 4,\n",
       "  ('ea', (10, 13)): 5,\n",
       "  ('log', (10, 9)): 6,\n",
       "  ('lag', (10, 9)): 6,\n",
       "  ('gios', (10, 2)): 13,\n",
       "  ('ragi', (10, 0)): 6,\n",
       "  ('rag', (10, 9)): 5,\n",
       "  ('sog', (10, 9)): 5,\n",
       "  ('sag', (10, 9)): 5,\n",
       "  ('agio', (10, 1)): 10,\n",
       "  ('logia', (10, 0)): 12,\n",
       "  ('orgia', (10, 0)): 11,\n",
       "  ('slog', (10, 8)): 7,\n",
       "  ('slag', (10, 8)): 7,\n",
       "  ('agios', (10, 1)): 14,\n",
       "  ('orgias', (10, 0)): 15,\n",
       "  ('on', (12, 1)): 3,\n",
       "  ('no', (12, 2)): 3,\n",
       "  ('an', (12, 1)): 3,\n",
       "  ('na', (12, 2)): 3,\n",
       "  ('nor', (12, 2)): 4,\n",
       "  ('ons', (12, 1)): 4,\n",
       "  ('nos', (12, 2)): 4,\n",
       "  ('ran', (12, 0)): 4,\n",
       "  ('son', (12, 0)): 4,\n",
       "  ('san', (12, 0)): 4,\n",
       "  ('nas', (12, 2)): 4,\n",
       "  ('snar', (12, 1)): 5,\n",
       "  ('naos', (12, 2)): 5,\n",
       "  ('sonar', (12, 0)): 6,\n",
       "  ('snarl', (12, 1)): 7,\n",
       "  ('nuns', (14, 8)): 9,\n",
       "  ('os', (13, 1)): 9,\n",
       "  ('so', (13, 2)): 9,\n",
       "  ('so', (10, 7)): 12,\n",
       "  ('as', (13, 1)): 9,\n",
       "  ('ras', (13, 0)): 10,\n",
       "  ('los', (13, 0)): 11,\n",
       "  ('las', (13, 0)): 11,\n",
       "  ('ors', (13, 0)): 10,\n",
       "  ('sol', (13, 2)): 11,\n",
       "  ('sol', (10, 7)): 14,\n",
       "  ('ars', (13, 0)): 10,\n",
       "  ('sar', (13, 2)): 10,\n",
       "  ('sar', (10, 7)): 13,\n",
       "  ('als', (13, 0)): 11,\n",
       "  ('sal', (13, 2)): 11,\n",
       "  ('sal', (10, 7)): 14,\n",
       "  ('sora', (13, 2)): 11,\n",
       "  ('sola', (13, 2)): 12,\n",
       "  ('osar', (13, 1)): 11,\n",
       "  ('soar', (13, 2)): 11,\n",
       "  ('also', (13, 0)): 12,\n",
       "  ('soral', (13, 2)): 13,\n",
       "  ('solar', (13, 2)): 13,\n",
       "  ('oos', (8, 2)): 7},\n",
       " {('gins', (2, 10)): 7,\n",
       "  ('oh', (4, 8)): 6,\n",
       "  ('ho', (4, 9)): 9,\n",
       "  ('sh', (4, 8)): 6,\n",
       "  ('ohs', (4, 8)): 12,\n",
       "  ('hos', (4, 9)): 10,\n",
       "  ('hoa', (4, 9)): 10,\n",
       "  ('rho', (4, 8)): 12,\n",
       "  ('ash', (4, 7)): 12,\n",
       "  ('lash', (4, 6)): 14,\n",
       "  ('hols', (4, 9)): 12,\n",
       "  ('hors', (4, 9)): 11,\n",
       "  ('hora', (4, 9)): 11,\n",
       "  ('hoar', (4, 9)): 11,\n",
       "  ('hoas', (4, 9)): 11,\n",
       "  ('rhos', (4, 8)): 13,\n",
       "  ('rash', (4, 6)): 13,\n",
       "  ('horal', (4, 9)): 13,\n",
       "  ('horas', (4, 9)): 12,\n",
       "  ('hoars', (4, 9)): 12,\n",
       "  ('shola', (4, 8)): 15,\n",
       "  ('shorl', (4, 8)): 15,\n",
       "  ('shoal', (4, 8)): 15,\n",
       "  ('ou', (5, 8)): 3,\n",
       "  ('ur', (5, 9)): 3,\n",
       "  ('us', (5, 9)): 3,\n",
       "  ('lur', (5, 8)): 5,\n",
       "  ('our', (5, 8)): 4,\n",
       "  ('ous', (5, 8)): 4,\n",
       "  ('sur', (5, 8)): 4,\n",
       "  ('lurs', (5, 8)): 6,\n",
       "  ('ours', (5, 8)): 5,\n",
       "  ('rusa', (5, 8)): 5,\n",
       "  ('ursa', (5, 9)): 5,\n",
       "  ('urao', (5, 9)): 5,\n",
       "  ('sura', (5, 8)): 5,\n",
       "  ('uraos', (5, 9)): 6,\n",
       "  ('sural', (5, 8)): 7,\n",
       "  ('aulos', (5, 8)): 7,\n",
       "  ('ras', (6, 9)): 3,\n",
       "  ('roar', (6, 9)): 4,\n",
       "  ('roral', (6, 9)): 6,\n",
       "  ('roars', (6, 9)): 5,\n",
       "  ('bells', (7, 6)): 10,\n",
       "  ('ewes', (8, 6)): 20,\n",
       "  ('jests', (9, 5)): 14,\n",
       "  ('ad', (14, 10)): 5,\n",
       "  ('da', (14, 11)): 8,\n",
       "  ('lo', (2, 6)): 8,\n",
       "  ('lo', (1, 11)): 9,\n",
       "  ('or', (1, 12)): 5,\n",
       "  ('or', (3, 12)): 5,\n",
       "  ('so', (2, 6)): 7,\n",
       "  ('so', (1, 11)): 7,\n",
       "  ('os', (2, 7)): 9,\n",
       "  ('os', (1, 12)): 5,\n",
       "  ('os', (3, 12)): 5,\n",
       "  ('lor', (1, 11)): 10,\n",
       "  ('los', (2, 6)): 11,\n",
       "  ('los', (1, 11)): 10,\n",
       "  ('sol', (2, 6)): 12,\n",
       "  ('sol', (1, 11)): 9,\n",
       "  ('also', (2, 4)): 10,\n",
       "  ('la', (4, 6)): 8,\n",
       "  ('la', (1, 11)): 9,\n",
       "  ('ora', (4, 5)): 8,\n",
       "  ('ora', (1, 12)): 6,\n",
       "  ('ora', (3, 12)): 6,\n",
       "  ('sola', (4, 4)): 10,\n",
       "  ('sola', (1, 11)): 10,\n",
       "  ('sora', (4, 4)): 9,\n",
       "  ('sora', (1, 11)): 9,\n",
       "  ('al', (1, 12)): 6,\n",
       "  ('al', (3, 12)): 6,\n",
       "  ('sal', (1, 11)): 9,\n",
       "  ('as', (1, 12)): 5,\n",
       "  ('as', (3, 12)): 5,\n",
       "  ('ars', (1, 12)): 6,\n",
       "  ('ars', (3, 12)): 6,\n",
       "  ('als', (1, 12)): 7,\n",
       "  ('als', (3, 12)): 7,\n",
       "  ('las', (1, 11)): 10,\n",
       "  ('ors', (1, 12)): 6,\n",
       "  ('ors', (3, 12)): 6,\n",
       "  ('lars', (1, 11)): 11,\n",
       "  ('oars', (1, 11)): 9,\n",
       "  ('lar', (1, 11)): 10,\n",
       "  ('oar', (1, 11)): 8,\n",
       "  ('oar', (1, 12)): 6,\n",
       "  ('oar', (3, 12)): 6,\n",
       "  ('soar', (1, 11)): 9,\n",
       "  ('sar', (1, 11)): 8,\n",
       "  ('ar', (1, 12)): 5,\n",
       "  ('ar', (3, 12)): 5})"
      ]
     },
     "execution_count": 111,
     "metadata": {},
     "output_type": "execute_result"
    },
    {
     "data": {
      "application/javascript": [
       "\n",
       "            setTimeout(function() {\n",
       "                var nbb_cell_id = 111;\n",
       "                var nbb_unformatted_code = \"sam = Scrabbler(board_array, sample_board_letters)\\n# row_words,column_words=sam.all_board_words()\\nsam.valid_score_choices()\";\n",
       "                var nbb_formatted_code = \"sam = Scrabbler(board_array, sample_board_letters)\\n# row_words,column_words=sam.all_board_words()\\nsam.valid_score_choices()\";\n",
       "                var nbb_cells = Jupyter.notebook.get_cells();\n",
       "                for (var i = 0; i < nbb_cells.length; ++i) {\n",
       "                    if (nbb_cells[i].input_prompt_number == nbb_cell_id) {\n",
       "                        if (nbb_cells[i].get_text() == nbb_unformatted_code) {\n",
       "                             nbb_cells[i].set_text(nbb_formatted_code);\n",
       "                        }\n",
       "                        break;\n",
       "                    }\n",
       "                }\n",
       "            }, 500);\n",
       "            "
      ],
      "text/plain": [
       "<IPython.core.display.Javascript object>"
      ]
     },
     "metadata": {},
     "output_type": "display_data"
    }
   ],
   "source": [
    "sam = Scrabbler(board_array, sample_board_letters)\n",
    "# row_words,column_words=sam.all_board_words()\n",
    "sam.valid_score_choices()"
   ]
  },
  {
   "cell_type": "code",
   "execution_count": null,
   "metadata": {
    "scrolled": true
   },
   "outputs": [],
   "source": [
    "[row_words[i] for i in row_words]"
   ]
  },
  {
   "cell_type": "code",
   "execution_count": 36,
   "metadata": {},
   "outputs": [
    {
     "data": {
      "text/plain": [
       "9"
      ]
     },
     "execution_count": 36,
     "metadata": {},
     "output_type": "execute_result"
    },
    {
     "data": {
      "application/javascript": [
       "\n",
       "            setTimeout(function() {\n",
       "                var nbb_cell_id = 36;\n",
       "                var nbb_unformatted_code = \"sam.total_score((\\\"sen\\\", (0, 10)), ((\\\"na\\\", (12, 0)), (\\\"so\\\", (10, 0))))\";\n",
       "                var nbb_formatted_code = \"sam.total_score((\\\"sen\\\", (0, 10)), ((\\\"na\\\", (12, 0)), (\\\"so\\\", (10, 0))))\";\n",
       "                var nbb_cells = Jupyter.notebook.get_cells();\n",
       "                for (var i = 0; i < nbb_cells.length; ++i) {\n",
       "                    if (nbb_cells[i].input_prompt_number == nbb_cell_id) {\n",
       "                        if (nbb_cells[i].get_text() == nbb_unformatted_code) {\n",
       "                             nbb_cells[i].set_text(nbb_formatted_code);\n",
       "                        }\n",
       "                        break;\n",
       "                    }\n",
       "                }\n",
       "            }, 500);\n",
       "            "
      ],
      "text/plain": [
       "<IPython.core.display.Javascript object>"
      ]
     },
     "metadata": {},
     "output_type": "display_data"
    }
   ],
   "source": [
    "sam.total_score((\"sen\", (0, 10)), ((\"na\", (12, 0)), (\"so\", (10, 0))))"
   ]
  },
  {
   "cell_type": "code",
   "execution_count": 51,
   "metadata": {
    "scrolled": false
   },
   "outputs": [
    {
     "name": "stdout",
     "output_type": "stream",
     "text": [
      "[[' ' ' ' ' ' ' ' ' ' ' ' ' ' ' ' ' ' ' ' 'd' 'e' 'a' 'd' ' ']\n",
      " [' ' ' ' ' ' ' ' ' ' ' ' ' ' ' ' ' ' 'z' 'o' 'n' 'a' ' ' 'w']\n",
      " [' ' ' ' ' ' ' ' ' ' ' ' ' ' ' ' ' ' ' ' ' ' 'a' ' ' ' ' 'i']\n",
      " [' ' ' ' ' ' ' ' ' ' ' ' ' ' ' ' ' ' 'r' 'i' 'm' 'a' ' ' 'l']\n",
      " [' ' ' ' ' ' ' ' ' ' ' ' ' ' ' ' ' ' ' ' ' ' 'o' 'b' 'e' 'y']\n",
      " [' ' ' ' ' ' ' ' ' ' ' ' ' ' ' ' ' ' 'j' 'u' 'r' 'a' 'l' ' ']\n",
      " [' ' ' ' ' ' ' ' ' ' ' ' ' ' 'b' 'e' 'e' 'p' ' ' ' ' ' ' ' ']\n",
      " [' ' ' ' ' ' 'f' ' ' ' ' 'y' 'e' 'w' 's' ' ' 't' ' ' ' ' ' ']\n",
      " [' ' ' ' ' ' 'o' ' ' ' ' ' ' 'l' 'e' 't' 'c' 'h' ' ' ' ' ' ']\n",
      " [' ' ' ' ' ' 'c' 'h' 'u' 'r' 'l' ' ' ' ' ' ' 'i' ' ' 'r' ' ']\n",
      " [' ' ' ' 'g' 'i' ' ' ' ' ' ' ' ' ' ' ' ' ' ' 'g' ' ' 'e' ' ']\n",
      " [' ' ' ' 'i' ' ' ' ' ' ' ' ' ' ' ' ' ' ' ' ' 'h' 'u' 'e' 'd']\n",
      " [' ' ' ' 'n' ' ' ' ' ' ' ' ' ' ' ' ' ' ' ' ' ' ' ' ' 'f' ' ']\n",
      " [' ' ' ' ' ' ' ' ' ' ' ' ' ' ' ' ' ' 'v' 'e' 'e' 'p' 's' ' ']\n",
      " [' ' ' ' ' ' ' ' ' ' ' ' ' ' ' ' 'n' 'u' 'n' ' ' ' ' ' ' ' ']]\n"
     ]
    },
    {
     "data": {
      "application/javascript": [
       "\n",
       "            setTimeout(function() {\n",
       "                var nbb_cell_id = 51;\n",
       "                var nbb_unformatted_code = \"print(np.where(board_array == \\\"\\\", \\\" \\\", board_array))\";\n",
       "                var nbb_formatted_code = \"print(np.where(board_array == \\\"\\\", \\\" \\\", board_array))\";\n",
       "                var nbb_cells = Jupyter.notebook.get_cells();\n",
       "                for (var i = 0; i < nbb_cells.length; ++i) {\n",
       "                    if (nbb_cells[i].input_prompt_number == nbb_cell_id) {\n",
       "                        if (nbb_cells[i].get_text() == nbb_unformatted_code) {\n",
       "                             nbb_cells[i].set_text(nbb_formatted_code);\n",
       "                        }\n",
       "                        break;\n",
       "                    }\n",
       "                }\n",
       "            }, 500);\n",
       "            "
      ],
      "text/plain": [
       "<IPython.core.display.Javascript object>"
      ]
     },
     "metadata": {},
     "output_type": "display_data"
    }
   ],
   "source": [
    "print(np.where(board_array == \"\", \" \", board_array))"
   ]
  },
  {
   "cell_type": "code",
   "execution_count": 52,
   "metadata": {},
   "outputs": [
    {
     "name": "stdout",
     "output_type": "stream",
     "text": [
      "[[' ' ' ' ' ' ' ' ' ' ' ' ' ' ' ' ' ' ' ' ' ' ' ' ' ' ' ' ' ']\n",
      " [' ' ' ' ' ' ' ' ' ' ' ' ' ' ' ' ' ' ' ' ' ' ' ' ' ' ' ' ' ']\n",
      " [' ' ' ' ' ' ' ' ' ' ' ' ' ' ' ' ' ' ' ' 'g' 'i' 'n' ' ' ' ']\n",
      " [' ' ' ' ' ' ' ' ' ' ' ' ' ' 'f' 'o' 'c' 'i' ' ' ' ' ' ' ' ']\n",
      " [' ' ' ' ' ' ' ' ' ' ' ' ' ' ' ' ' ' 'h' ' ' ' ' ' ' ' ' ' ']\n",
      " [' ' ' ' ' ' ' ' ' ' ' ' ' ' ' ' ' ' 'u' ' ' ' ' ' ' ' ' ' ']\n",
      " [' ' ' ' ' ' ' ' ' ' ' ' ' ' 'y' ' ' 'r' ' ' ' ' ' ' ' ' ' ']\n",
      " [' ' ' ' ' ' ' ' ' ' ' ' 'b' 'e' 'l' 'l' ' ' ' ' ' ' ' ' ' ']\n",
      " [' ' ' ' ' ' ' ' ' ' ' ' 'e' 'w' 'e' ' ' ' ' ' ' ' ' ' ' 'n']\n",
      " [' ' 'z' ' ' 'r' ' ' 'j' 'e' 's' 't' ' ' ' ' ' ' ' ' 'v' 'u']\n",
      " ['d' 'o' ' ' 'i' ' ' 'u' 'p' ' ' 'c' ' ' ' ' ' ' ' ' 'e' 'n']\n",
      " ['e' 'n' 'a' 'm' 'o' 'r' ' ' 't' 'h' 'i' 'g' 'h' ' ' 'e' ' ']\n",
      " ['a' 'a' ' ' 'a' 'b' 'a' ' ' ' ' ' ' ' ' ' ' 'u' ' ' 'p' ' ']\n",
      " ['d' ' ' ' ' ' ' 'e' 'l' ' ' ' ' ' ' 'r' 'e' 'e' 'f' 's' ' ']\n",
      " [' ' 'w' 'i' 'l' 'y' ' ' ' ' ' ' ' ' ' ' ' ' 'd' ' ' ' ' ' ']]\n"
     ]
    },
    {
     "data": {
      "application/javascript": [
       "\n",
       "            setTimeout(function() {\n",
       "                var nbb_cell_id = 52;\n",
       "                var nbb_unformatted_code = \"print(\\n    np.where(\\n        np.transpose(board_array.copy()) == \\\"\\\", \\\" \\\", np.transpose(board_array.copy())\\n    )\\n)\";\n",
       "                var nbb_formatted_code = \"print(\\n    np.where(\\n        np.transpose(board_array.copy()) == \\\"\\\", \\\" \\\", np.transpose(board_array.copy())\\n    )\\n)\";\n",
       "                var nbb_cells = Jupyter.notebook.get_cells();\n",
       "                for (var i = 0; i < nbb_cells.length; ++i) {\n",
       "                    if (nbb_cells[i].input_prompt_number == nbb_cell_id) {\n",
       "                        if (nbb_cells[i].get_text() == nbb_unformatted_code) {\n",
       "                             nbb_cells[i].set_text(nbb_formatted_code);\n",
       "                        }\n",
       "                        break;\n",
       "                    }\n",
       "                }\n",
       "            }, 500);\n",
       "            "
      ],
      "text/plain": [
       "<IPython.core.display.Javascript object>"
      ]
     },
     "metadata": {},
     "output_type": "display_data"
    }
   ],
   "source": [
    "print(\n",
    "    np.where(\n",
    "        np.transpose(board_array.copy()) == \"\", \" \", np.transpose(board_array.copy())\n",
    "    )\n",
    ")"
   ]
  },
  {
   "cell_type": "code",
   "execution_count": 9,
   "metadata": {
    "scrolled": true
   },
   "outputs": [
    {
     "data": {
      "text/plain": [
       "('dabc', 11, 6)"
      ]
     },
     "execution_count": 9,
     "metadata": {},
     "output_type": "execute_result"
    },
    {
     "data": {
      "application/javascript": [
       "\n",
       "            setTimeout(function() {\n",
       "                var nbb_cell_id = 9;\n",
       "                var nbb_unformatted_code = \"sam.complete_word_y_x(11, 6, [\\\"a\\\", \\\"b\\\", \\\"c\\\"])\";\n",
       "                var nbb_formatted_code = \"sam.complete_word_y_x(11, 6, [\\\"a\\\", \\\"b\\\", \\\"c\\\"])\";\n",
       "                var nbb_cells = Jupyter.notebook.get_cells();\n",
       "                for (var i = 0; i < nbb_cells.length; ++i) {\n",
       "                    if (nbb_cells[i].input_prompt_number == nbb_cell_id) {\n",
       "                        if (nbb_cells[i].get_text() == nbb_unformatted_code) {\n",
       "                             nbb_cells[i].set_text(nbb_formatted_code);\n",
       "                        }\n",
       "                        break;\n",
       "                    }\n",
       "                }\n",
       "            }, 500);\n",
       "            "
      ],
      "text/plain": [
       "<IPython.core.display.Javascript object>"
      ]
     },
     "metadata": {},
     "output_type": "display_data"
    }
   ],
   "source": [
    "sam.complete_word_y_x(11, 6, [\"a\", \"b\", \"c\"])"
   ]
  },
  {
   "cell_type": "code",
   "execution_count": 17,
   "metadata": {
    "scrolled": false
   },
   "outputs": [
    {
     "data": {
      "text/plain": [
       "[[7, 6]]"
      ]
     },
     "execution_count": 17,
     "metadata": {},
     "output_type": "execute_result"
    },
    {
     "data": {
      "application/javascript": [
       "\n",
       "            setTimeout(function() {\n",
       "                var nbb_cell_id = 17;\n",
       "                var nbb_unformatted_code = \"a = sam.row_permutations(7)\\n# output:\\n# {'dfdf':[[3,4]], 'dfkdf':[[5,7]],...}\\n# l = [[4, 3]]\\n# l.append(a[\\\"daosyews\\\"])\\n# l\\n# [i for i in a.values()]\\na['yewsatosd']\";\n",
       "                var nbb_formatted_code = \"a = sam.row_permutations(7)\\n# output:\\n# {'dfdf':[[3,4]], 'dfkdf':[[5,7]],...}\\n# l = [[4, 3]]\\n# l.append(a[\\\"daosyews\\\"])\\n# l\\n# [i for i in a.values()]\\na[\\\"yewsatosd\\\"]\";\n",
       "                var nbb_cells = Jupyter.notebook.get_cells();\n",
       "                for (var i = 0; i < nbb_cells.length; ++i) {\n",
       "                    if (nbb_cells[i].input_prompt_number == nbb_cell_id) {\n",
       "                        if (nbb_cells[i].get_text() == nbb_unformatted_code) {\n",
       "                             nbb_cells[i].set_text(nbb_formatted_code);\n",
       "                        }\n",
       "                        break;\n",
       "                    }\n",
       "                }\n",
       "            }, 500);\n",
       "            "
      ],
      "text/plain": [
       "<IPython.core.display.Javascript object>"
      ]
     },
     "metadata": {},
     "output_type": "display_data"
    }
   ],
   "source": [
    "a = sam.row_permutations(7)\n",
    "# output:\n",
    "# {'dfdf':[[3,4]], 'dfkdf':[[5,7]],...}\n",
    "# l = [[4, 3]]\n",
    "# l.append(a[\"daosyews\"])\n",
    "# l\n",
    "# [i for i in a.values()]\n",
    "a[\"yewsatosd\"]"
   ]
  },
  {
   "cell_type": "code",
   "execution_count": 65,
   "metadata": {
    "scrolled": true
   },
   "outputs": [
    {
     "data": {
      "text/plain": [
       "True"
      ]
     },
     "execution_count": 65,
     "metadata": {},
     "output_type": "execute_result"
    },
    {
     "data": {
      "application/javascript": [
       "\n",
       "            setTimeout(function() {\n",
       "                var nbb_cell_id = 63;\n",
       "                var nbb_unformatted_code = \"#edge plays appears to be what's broken\\nsam = Scrabbler(board_array, sample_board_letters)\\n# samperms = sam.find_valid_perms()\\n# sam.find_edge_hooks(sam.valid_plays(sam.find_valid_perms()))\\n# todo edge hooks off by 1\\n# dict(sam.valid_plays(samperms))\\n# [i for i in sam.valid_plays()]\\n# [i for i in sam.hand_letter_permutations(1)][0]\\n# sam.board = sam.board.transpose()\\nedge_hooks = sam.find_edge_hooks(sam.valid_plays(sam.find_valid_perms()))\\nsam.board = sam.board.transpose()\\nedge_words = sam.valid_edge_words(edge_hooks)\\nedge_plays = sam.valid_plays(edge_words)\\nedge_words\\n# sam.find_valid_perms()\";\n",
       "                var nbb_formatted_code = \"# edge plays appears to be what's broken\\nsam = Scrabbler(board_array, sample_board_letters)\\n# samperms = sam.find_valid_perms()\\n# sam.find_edge_hooks(sam.valid_plays(sam.find_valid_perms()))\\n# todo edge hooks off by 1\\n# dict(sam.valid_plays(samperms))\\n# [i for i in sam.valid_plays()]\\n# [i for i in sam.hand_letter_permutations(1)][0]\\n# sam.board = sam.board.transpose()\\nedge_hooks = sam.find_edge_hooks(sam.valid_plays(sam.find_valid_perms()))\\nsam.board = sam.board.transpose()\\nedge_words = sam.valid_edge_words(edge_hooks)\\nedge_plays = sam.valid_plays(edge_words)\\nedge_words\\n# sam.find_valid_perms()\";\n",
       "                var nbb_cells = Jupyter.notebook.get_cells();\n",
       "                for (var i = 0; i < nbb_cells.length; ++i) {\n",
       "                    if (nbb_cells[i].input_prompt_number == nbb_cell_id) {\n",
       "                        if (nbb_cells[i].get_text() == nbb_unformatted_code) {\n",
       "                             nbb_cells[i].set_text(nbb_formatted_code);\n",
       "                        }\n",
       "                        break;\n",
       "                    }\n",
       "                }\n",
       "            }, 500);\n",
       "            "
      ],
      "text/plain": [
       "<IPython.core.display.Javascript object>"
      ]
     },
     "metadata": {},
     "output_type": "display_data"
    },
    {
     "data": {
      "application/javascript": [
       "\n",
       "            setTimeout(function() {\n",
       "                var nbb_cell_id = 63;\n",
       "                var nbb_unformatted_code = \"#edge plays appears to be what's broken\\nsam = Scrabbler(board_array, sample_board_letters)\\n# samperms = sam.find_valid_perms()\\n# sam.find_edge_hooks(sam.valid_plays(sam.find_valid_perms()))\\n# todo edge hooks off by 1\\n# dict(sam.valid_plays(samperms))\\n# [i for i in sam.valid_plays()]\\n# [i for i in sam.hand_letter_permutations(1)][0]\\n# sam.board = sam.board.transpose()\\nedge_hooks = sam.find_edge_hooks(sam.valid_plays(sam.find_valid_perms()))\\nsam.board = sam.board.transpose()\\nedge_words = sam.valid_edge_words(edge_hooks)\\nedge_plays = sam.valid_plays(edge_words)\\nedge_words\\n# sam.find_valid_perms()\";\n",
       "                var nbb_formatted_code = \"# edge plays appears to be what's broken\\nsam = Scrabbler(board_array, sample_board_letters)\\n# samperms = sam.find_valid_perms()\\n# sam.find_edge_hooks(sam.valid_plays(sam.find_valid_perms()))\\n# todo edge hooks off by 1\\n# dict(sam.valid_plays(samperms))\\n# [i for i in sam.valid_plays()]\\n# [i for i in sam.hand_letter_permutations(1)][0]\\n# sam.board = sam.board.transpose()\\nedge_hooks = sam.find_edge_hooks(sam.valid_plays(sam.find_valid_perms()))\\nsam.board = sam.board.transpose()\\nedge_words = sam.valid_edge_words(edge_hooks)\\nedge_plays = sam.valid_plays(edge_words)\\nedge_words\\n# sam.find_valid_perms()\";\n",
       "                var nbb_cells = Jupyter.notebook.get_cells();\n",
       "                for (var i = 0; i < nbb_cells.length; ++i) {\n",
       "                    if (nbb_cells[i].input_prompt_number == nbb_cell_id) {\n",
       "                        if (nbb_cells[i].get_text() == nbb_unformatted_code) {\n",
       "                             nbb_cells[i].set_text(nbb_formatted_code);\n",
       "                        }\n",
       "                        break;\n",
       "                    }\n",
       "                }\n",
       "            }, 500);\n",
       "            "
      ],
      "text/plain": [
       "<IPython.core.display.Javascript object>"
      ]
     },
     "metadata": {},
     "output_type": "display_data"
    }
   ],
   "source": [
    "\"goe\" in sam.WORDSET"
   ]
  },
  {
   "cell_type": "code",
   "execution_count": 19,
   "metadata": {
    "scrolled": true
   },
   "outputs": [
    {
     "data": {
      "text/plain": [
       "{'a': {'b': [1, 2], 'c': [1, 2]}}"
      ]
     },
     "execution_count": 19,
     "metadata": {},
     "output_type": "execute_result"
    },
    {
     "data": {
      "application/javascript": [
       "\n",
       "            setTimeout(function() {\n",
       "                var nbb_cell_id = 19;\n",
       "                var nbb_unformatted_code = \"a = {\\\"a\\\": 1, \\\"b\\\": 2, \\\"c\\\": 3}\\na[\\\"a\\\"] = {a[\\\"a\\\"]: 2}\\na\\nb = defaultdict(dict)\\nb[\\\"a\\\"][\\\"b\\\"] = [1, 2]\\nb[\\\"a\\\"][\\\"c\\\"] = [1, 2]\\n\\n# b[\\\"r\\\"] = {1: 2}\\ndict(b)\";\n",
       "                var nbb_formatted_code = \"a = {\\\"a\\\": 1, \\\"b\\\": 2, \\\"c\\\": 3}\\na[\\\"a\\\"] = {a[\\\"a\\\"]: 2}\\na\\nb = defaultdict(dict)\\nb[\\\"a\\\"][\\\"b\\\"] = [1, 2]\\nb[\\\"a\\\"][\\\"c\\\"] = [1, 2]\\n\\n# b[\\\"r\\\"] = {1: 2}\\ndict(b)\";\n",
       "                var nbb_cells = Jupyter.notebook.get_cells();\n",
       "                for (var i = 0; i < nbb_cells.length; ++i) {\n",
       "                    if (nbb_cells[i].input_prompt_number == nbb_cell_id) {\n",
       "                        if (nbb_cells[i].get_text() == nbb_unformatted_code) {\n",
       "                             nbb_cells[i].set_text(nbb_formatted_code);\n",
       "                        }\n",
       "                        break;\n",
       "                    }\n",
       "                }\n",
       "            }, 500);\n",
       "            "
      ],
      "text/plain": [
       "<IPython.core.display.Javascript object>"
      ]
     },
     "metadata": {},
     "output_type": "display_data"
    }
   ],
   "source": [
    "a = {\"a\": 1, \"b\": 2, \"c\": 3}\n",
    "a[\"a\"] = {a[\"a\"]: 2}\n",
    "a\n",
    "b = defaultdict(dict)\n",
    "b[\"a\"][\"b\"] = [1, 2]\n",
    "b[\"a\"][\"c\"] = [1, 2]\n",
    "\n",
    "# b[\"r\"] = {1: 2}\n",
    "dict(b)"
   ]
  },
  {
   "cell_type": "code",
   "execution_count": 59,
   "metadata": {},
   "outputs": [
    {
     "name": "stdout",
     "output_type": "stream",
     "text": [
      "dict_values([[2, 6], [4, 7]])\n"
     ]
    },
    {
     "data": {
      "application/javascript": [
       "\n",
       "            setTimeout(function() {\n",
       "                var nbb_cell_id = 59;\n",
       "                var nbb_unformatted_code = \"d1 = {1: 2, 3: 4}\\nd2 = {1: 6, 3: 7}\\n\\ndd = defaultdict(list)\\n\\nfor d in (d1, d2): # you can list as many input dicts as you want here\\n    for key, value in d.items():\\n        dd[key].append(value)\\n\\nprint(dict(dd).values())\";\n",
       "                var nbb_formatted_code = \"d1 = {1: 2, 3: 4}\\nd2 = {1: 6, 3: 7}\\n\\ndd = defaultdict(list)\\n\\nfor d in (d1, d2):  # you can list as many input dicts as you want here\\n    for key, value in d.items():\\n        dd[key].append(value)\\n\\nprint(dict(dd).values())\";\n",
       "                var nbb_cells = Jupyter.notebook.get_cells();\n",
       "                for (var i = 0; i < nbb_cells.length; ++i) {\n",
       "                    if (nbb_cells[i].input_prompt_number == nbb_cell_id) {\n",
       "                        if (nbb_cells[i].get_text() == nbb_unformatted_code) {\n",
       "                             nbb_cells[i].set_text(nbb_formatted_code);\n",
       "                        }\n",
       "                        break;\n",
       "                    }\n",
       "                }\n",
       "            }, 500);\n",
       "            "
      ],
      "text/plain": [
       "<IPython.core.display.Javascript object>"
      ]
     },
     "metadata": {},
     "output_type": "display_data"
    }
   ],
   "source": [
    "d1 = {1: 2, 3: 4}\n",
    "d2 = {1: 6, 3: 7}\n",
    "\n",
    "dd = defaultdict(list)\n",
    "\n",
    "for d in (d1, d2): # you can list as many input dicts as you want here\n",
    "    for key, value in d.items():\n",
    "        dd[key].append(value)\n",
    "\n",
    "print(dict(dd).values())\n"
   ]
  },
  {
   "cell_type": "code",
   "execution_count": 49,
   "metadata": {},
   "outputs": [
    {
     "data": {
      "text/plain": [
       "{2000: {'hello': [2, 3]}}"
      ]
     },
     "execution_count": 49,
     "metadata": {},
     "output_type": "execute_result"
    },
    {
     "data": {
      "application/javascript": [
       "\n",
       "            setTimeout(function() {\n",
       "                var nbb_cell_id = 49;\n",
       "                var nbb_unformatted_code = \"class Vividict(dict):\\n    def __missing__(self, key):\\n        value = self[key] = type(self)()\\n        return value\\nmyDict = Vividict()\\n\\nmyDict[2000]['hello'] = [2,3]\\nmyDict\";\n",
       "                var nbb_formatted_code = \"class Vividict(dict):\\n    def __missing__(self, key):\\n        value = self[key] = type(self)()\\n        return value\\n\\n\\nmyDict = Vividict()\\n\\nmyDict[2000][\\\"hello\\\"] = [2, 3]\\nmyDict\";\n",
       "                var nbb_cells = Jupyter.notebook.get_cells();\n",
       "                for (var i = 0; i < nbb_cells.length; ++i) {\n",
       "                    if (nbb_cells[i].input_prompt_number == nbb_cell_id) {\n",
       "                        if (nbb_cells[i].get_text() == nbb_unformatted_code) {\n",
       "                             nbb_cells[i].set_text(nbb_formatted_code);\n",
       "                        }\n",
       "                        break;\n",
       "                    }\n",
       "                }\n",
       "            }, 500);\n",
       "            "
      ],
      "text/plain": [
       "<IPython.core.display.Javascript object>"
      ]
     },
     "metadata": {},
     "output_type": "display_data"
    }
   ],
   "source": [
    "class Vividict(dict):\n",
    "    def __missing__(self, key):\n",
    "        value = self[key] = type(self)()\n",
    "        return value\n",
    "\n",
    "\n",
    "myDict = Vividict()\n",
    "\n",
    "myDict[2000][\"hello\"] = [2, 3]\n",
    "myDict"
   ]
  },
  {
   "cell_type": "code",
   "execution_count": 70,
   "metadata": {},
   "outputs": [
    {
     "data": {
      "text/plain": [
       "defaultdict(<function __main__.<lambda>()>,\n",
       "            {'a': defaultdict(dict, {(3, 2): {'b': [2, 3], 'c': [4, 3]}})})"
      ]
     },
     "execution_count": 70,
     "metadata": {},
     "output_type": "execute_result"
    },
    {
     "data": {
      "application/javascript": [
       "\n",
       "            setTimeout(function() {\n",
       "                var nbb_cell_id = 70;\n",
       "                var nbb_unformatted_code = \"mydict2 = defaultdict(lambda: defaultdict(dict))\\nmydict2[\\\"a\\\"][3, 2][\\\"b\\\"] = [2, 3]\\nmydict2[\\\"a\\\"][3, 2][\\\"c\\\"] = [4, 3]\\n\\nmydict2\";\n",
       "                var nbb_formatted_code = \"mydict2 = defaultdict(lambda: defaultdict(dict))\\nmydict2[\\\"a\\\"][3, 2][\\\"b\\\"] = [2, 3]\\nmydict2[\\\"a\\\"][3, 2][\\\"c\\\"] = [4, 3]\\n\\nmydict2\";\n",
       "                var nbb_cells = Jupyter.notebook.get_cells();\n",
       "                for (var i = 0; i < nbb_cells.length; ++i) {\n",
       "                    if (nbb_cells[i].input_prompt_number == nbb_cell_id) {\n",
       "                        if (nbb_cells[i].get_text() == nbb_unformatted_code) {\n",
       "                             nbb_cells[i].set_text(nbb_formatted_code);\n",
       "                        }\n",
       "                        break;\n",
       "                    }\n",
       "                }\n",
       "            }, 500);\n",
       "            "
      ],
      "text/plain": [
       "<IPython.core.display.Javascript object>"
      ]
     },
     "metadata": {},
     "output_type": "display_data"
    }
   ],
   "source": [
    "mydict2 = defaultdict(lambda: defaultdict(dict))\n",
    "mydict2[\"a\"][3, 2][\"b\"] = [2, 3]\n",
    "mydict2[\"a\"][3, 2][\"c\"] = [4, 3]\n",
    "\n",
    "mydict2"
   ]
  },
  {
   "cell_type": "code",
   "execution_count": 104,
   "metadata": {},
   "outputs": [
    {
     "data": {
      "text/plain": [
       "True"
      ]
     },
     "execution_count": 104,
     "metadata": {},
     "output_type": "execute_result"
    },
    {
     "data": {
      "application/javascript": [
       "\n",
       "            setTimeout(function() {\n",
       "                var nbb_cell_id = 104;\n",
       "                var nbb_unformatted_code = \"dicitonary = {\\n    \\\"agios\\\": [[10, 1], [10, 1]],\\n    \\\"taos\\\": [[8, 1], [10, 5]],\\n    \\\"ratos\\\": [[8, 0], [10, 5]],\\n    \\\"rotos\\\": [[8, 0]],\\n    \\\"roost\\\": [[8, 1]],\\n    \\\"roosa\\\": [[8, 1]],\\n    \\\"taros\\\": [[8, 0], [10, 5]],\\n    \\\"toros\\\": [[8, 0]],\\n}\\n\\n\\\"agios\\\" in dicitonary\\n(\\\"rotos\\\", [[8, 0]]) in dicitonary.items()\\n\\n[10, 1] in [[10, 1]]\";\n",
       "                var nbb_formatted_code = \"dicitonary = {\\n    \\\"agios\\\": [[10, 1], [10, 1]],\\n    \\\"taos\\\": [[8, 1], [10, 5]],\\n    \\\"ratos\\\": [[8, 0], [10, 5]],\\n    \\\"rotos\\\": [[8, 0]],\\n    \\\"roost\\\": [[8, 1]],\\n    \\\"roosa\\\": [[8, 1]],\\n    \\\"taros\\\": [[8, 0], [10, 5]],\\n    \\\"toros\\\": [[8, 0]],\\n}\\n\\n\\\"agios\\\" in dicitonary\\n(\\\"rotos\\\", [[8, 0]]) in dicitonary.items()\\n\\n[10, 1] in [[10, 1]]\";\n",
       "                var nbb_cells = Jupyter.notebook.get_cells();\n",
       "                for (var i = 0; i < nbb_cells.length; ++i) {\n",
       "                    if (nbb_cells[i].input_prompt_number == nbb_cell_id) {\n",
       "                        if (nbb_cells[i].get_text() == nbb_unformatted_code) {\n",
       "                             nbb_cells[i].set_text(nbb_formatted_code);\n",
       "                        }\n",
       "                        break;\n",
       "                    }\n",
       "                }\n",
       "            }, 500);\n",
       "            "
      ],
      "text/plain": [
       "<IPython.core.display.Javascript object>"
      ]
     },
     "metadata": {},
     "output_type": "display_data"
    }
   ],
   "source": [
    "dicitonary = {\n",
    "    \"agios\": [[10, 1], [10, 1]],\n",
    "    \"taos\": [[8, 1], [10, 5]],\n",
    "    \"ratos\": [[8, 0], [10, 5]],\n",
    "    \"rotos\": [[8, 0]],\n",
    "    \"roost\": [[8, 1]],\n",
    "    \"roosa\": [[8, 1]],\n",
    "    \"taros\": [[8, 0], [10, 5]],\n",
    "    \"toros\": [[8, 0]],\n",
    "}\n",
    "\n",
    "\"agios\" in dicitonary\n",
    "(\"rotos\", [[8, 0]]) in dicitonary.items()\n",
    "\n",
    "[10, 1] in [[10, 1]]"
   ]
  },
  {
   "cell_type": "code",
   "execution_count": null,
   "metadata": {},
   "outputs": [],
   "source": [
    "                                    # First, update the hook letters:\n",
    "                                    if (\n",
    "                                        len(complete_word) == perm_len + 1\n",
    "                                    ):  # TODO: could also say len(hand_perm)==1\n",
    "                                        # I'm transposing x and y here\n",
    "                                        hook_with_position = [hand_perm[0], x, y]\n",
    "                                        self.hook_letters_global.append(\n",
    "                                            hook_with_position\n",
    "                                        )\n"
   ]
  }
 ],
 "metadata": {
  "kernelspec": {
   "display_name": "Python 3",
   "language": "python",
   "name": "python3"
  },
  "language_info": {
   "codemirror_mode": {
    "name": "ipython",
    "version": 3
   },
   "file_extension": ".py",
   "mimetype": "text/x-python",
   "name": "python",
   "nbconvert_exporter": "python",
   "pygments_lexer": "ipython3",
   "version": "3.7.6"
  }
 },
 "nbformat": 4,
 "nbformat_minor": 4
}
